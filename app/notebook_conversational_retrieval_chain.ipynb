{
 "cells": [
  {
   "attachments": {},
   "cell_type": "markdown",
   "metadata": {},
   "source": [
    "# Demo b3rn_zero_chat"
   ]
  },
  {
   "attachments": {},
   "cell_type": "markdown",
   "metadata": {},
   "source": [
    "## vectorstore"
   ]
  },
  {
   "attachments": {},
   "cell_type": "markdown",
   "metadata": {},
   "source": [
    "### load local vectorestore"
   ]
  },
  {
   "cell_type": "code",
   "execution_count": 3,
   "metadata": {},
   "outputs": [
    {
     "name": "stdout",
     "output_type": "stream",
     "text": [
      "sitemaper initialized.\n",
      "webextractor initialized.\n",
      "pdfextractor initialized.\n",
      "all tools initialized.\n"
     ]
    }
   ],
   "source": [
    "from tools import vectorstore\n",
    "store = vectorstore.load_vectorstore()\n"
   ]
  },
  {
   "cell_type": "code",
   "execution_count": 4,
   "metadata": {},
   "outputs": [],
   "source": [
    "# query = \"was ist ch.ch ?\"\n",
    "query = \"\"\"Wer ist Mirco und was macht die bee architekten ag?\"\"\"\n",
    "# query = \"Wer hat Anspruch auf Familienzulagen?\"\n"
   ]
  },
  {
   "cell_type": "code",
   "execution_count": 5,
   "metadata": {},
   "outputs": [
    {
     "name": "stdout",
     "output_type": "stream",
     "text": [
      "page_content='Mirco Bee\\nGeschäftsführer\\nphone 031 790 23 23\\nmail mirco.bee@bee-gu.ch\\nDas könnte Sie auch interessieren:\\nMehrfamilienhaus in Steffisburg\\n7 neue Wohnungen mit Lift!\\nWir bauen in Steffisburg ein Mehrfamilienhaus mit sieben 4½ Zimmer Wohnungen, Lift, grossen Balkonen und wunderbarer Aussicht. Baubeginn hat im März stattgefunden. Es sind noch wenige Wohnungen verfügbar.\\nDETAILS\\nWohnen im Obstgarten\\nBaustart 6. Mehrfamilienhaus hat stattgefunden!\\nDie Überbauung \"Wohnen im Obstgarten besteht aus insgesamt 7 Mehrfamilienhäusern. Zum Verkauf stehen noch neue 3.5 Zimmer Wohnungen im sechsten Mehrfamilienhaus. Eine Musterwohnung ist vorhanden.\\nDETAILS\\n5 1/2 Zimmer Einfamilienhaus\\nUnglaubliche 1\\'250m2 Grundstück\\nAusbaupotential im DG, 4 Parkplätze, Bezug in wenigen Monaten, Cheminée und viel Platz zum Spielen und Toben im grossen Garten.\\nDETAILS\\nRenditeobjekt zu verkaufen\\nTolle, vermietete Eigentumswohnung\\nDie Wohnung befindet sich im Obergeschoss eines Achtfamilienhauses. Sämtliche Stockwerke sind von dem Untergeschoss über das Treppenhaus sowie mit\\ndem Lift bequem erreichbar. Die Wohnung ist bereits vermietet und eignet sich ideal für Investoren.\\nDETAILS\\nNeues Projekt in Burgdorf\\n3½ & 4½ Zimmer Wohnungen\\nBald erfahren Sie hier mehr über unser neues Projekt mit 2 Sechsfamilienhäusern in Burgdorf.  Sie möchten sich bereits jetzt auf unsere Interessentenliste setzen lassen? Schreiben Sie eine E-Mail an: melanie.haas@bee-gu.ch\\nDETAILS\\n3 Mehrfamilienhäuser in Oberdiessbach\\nNur noch eine Wohnung zu verkaufen!\\n18 neue 4.5 Zimmer Eigentumswohnungen mit Lift sind in unserem Terzetto entstanden! Wohnflächen von ca. 110m2 bis 130m2.\\nDETAILS' metadata={'source': 'https://www.bee-gu.ch/wohnen-im-obstgarten-l%C3%BCtzelfl%C3%BCh.html'}\n"
     ]
    },
    {
     "data": {
      "text/plain": [
       "{'question': 'Wer ist Mirco und was macht die bee architekten ag?',\n",
       " 'chat_history': [],\n",
       " 'answer': ' Mirco ist der Geschäftsführer der bee architekten ag. Die bee architekten ag bietet verschiedene Dienstleistungen im Bereich Architektur und Bauwesen an, wie z.B. den Bau von Mehrfamilienhäusern, Einfamilienhäusern und Renditeobjekten, sowie die Vermietung von Abstellräumen und Einstellhallen.',\n",
       " 'source_documents': [Document(page_content='Mirco Bee\\nGeschäftsführer\\nphone 031 790 23 23\\nmail mirco.bee@bee-gu.ch\\nDas könnte Sie auch interessieren:\\nMehrfamilienhaus in Steffisburg\\n7 neue Wohnungen mit Lift!\\nWir bauen in Steffisburg ein Mehrfamilienhaus mit sieben 4½ Zimmer Wohnungen, Lift, grossen Balkonen und wunderbarer Aussicht. Baubeginn hat im März stattgefunden. Es sind noch wenige Wohnungen verfügbar.\\nDETAILS\\nWohnen im Obstgarten\\nBaustart 6. Mehrfamilienhaus hat stattgefunden!\\nDie Überbauung \"Wohnen im Obstgarten besteht aus insgesamt 7 Mehrfamilienhäusern. Zum Verkauf stehen noch neue 3.5 Zimmer Wohnungen im sechsten Mehrfamilienhaus. Eine Musterwohnung ist vorhanden.\\nDETAILS\\n5 1/2 Zimmer Einfamilienhaus\\nUnglaubliche 1\\'250m2 Grundstück\\nAusbaupotential im DG, 4 Parkplätze, Bezug in wenigen Monaten, Cheminée und viel Platz zum Spielen und Toben im grossen Garten.\\nDETAILS\\nRenditeobjekt zu verkaufen\\nTolle, vermietete Eigentumswohnung\\nDie Wohnung befindet sich im Obergeschoss eines Achtfamilienhauses. Sämtliche Stockwerke sind von dem Untergeschoss über das Treppenhaus sowie mit\\ndem Lift bequem erreichbar. Die Wohnung ist bereits vermietet und eignet sich ideal für Investoren.\\nDETAILS\\nNeues Projekt in Burgdorf\\n3½ & 4½ Zimmer Wohnungen\\nBald erfahren Sie hier mehr über unser neues Projekt mit 2 Sechsfamilienhäusern in Burgdorf.  Sie möchten sich bereits jetzt auf unsere Interessentenliste setzen lassen? Schreiben Sie eine E-Mail an: melanie.haas@bee-gu.ch\\nDETAILS\\n3 Mehrfamilienhäuser in Oberdiessbach\\nNur noch eine Wohnung zu verkaufen!\\n18 neue 4.5 Zimmer Eigentumswohnungen mit Lift sind in unserem Terzetto entstanden! Wohnflächen von ca. 110m2 bis 130m2.\\nDETAILS', metadata={'source': 'https://www.bee-gu.ch/wohnen-im-obstgarten-l%C3%BCtzelfl%C3%BCh.html'}),\n",
       "  Document(page_content='Mirco Bee\\nGeschäftsführer\\nphone 031 790 23 23\\nmail mirco.bee@bee-gu.ch\\nDas könnte Sie auch interessieren:\\nMehrfamilienhaus in Steffisburg\\n7 neue Wohnungen mit Lift!\\nWir bauen in Steffisburg ein Mehrfamilienhaus mit sieben 4½ Zimmer Wohnungen, Lift, grossen Balkonen und wunderbarer Aussicht. Baubeginn hat im März stattgefunden. Es sind noch wenige Wohnungen verfügbar.\\nDETAILS\\nWohnen im Obstgarten\\nBaustart 6. Mehrfamilienhaus hat stattgefunden!\\nDie Überbauung \"Wohnen im Obstgarten besteht aus insgesamt 7 Mehrfamilienhäusern. Zum Verkauf stehen noch neue 3.5 Zimmer Wohnungen im sechsten Mehrfamilienhaus. Eine Musterwohnung ist vorhanden.\\nDETAILS\\n5 1/2 Zimmer Einfamilienhaus\\nUnglaubliche 1\\'250m2 Grundstück\\nAusbaupotential im DG, 4 Parkplätze, Bezug in wenigen Monaten, Cheminée und viel Platz zum Spielen und Toben im grossen Garten.\\nDETAILS\\nRenditeobjekt zu verkaufen\\nTolle, vermietete Eigentumswohnung\\nDie Wohnung befindet sich im Obergeschoss eines Achtfamilienhauses. Sämtliche Stockwerke sind von dem Untergeschoss über das Treppenhaus sowie mit\\ndem Lift bequem erreichbar. Die Wohnung ist bereits vermietet und eignet sich ideal für Investoren.\\nDETAILS\\nNeues Projekt in Burgdorf\\n3½ & 4½ Zimmer Wohnungen\\nBald erfahren Sie hier mehr über unser neues Projekt mit 2 Sechsfamilienhäusern in Burgdorf.  Sie möchten sich bereits jetzt auf unsere Interessentenliste setzen lassen? Schreiben Sie eine E-Mail an: melanie.haas@bee-gu.ch\\nDETAILS\\n3 Mehrfamilienhäuser in Oberdiessbach\\nNur noch eine Wohnung zu verkaufen!\\n18 neue 4.5 Zimmer Eigentumswohnungen mit Lift sind in unserem Terzetto entstanden! Wohnflächen von ca. 110m2 bis 130m2.\\nDETAILS', metadata={'source': 'https://www.bee-gu.ch/neues-projekt-tag-der-offenen-t%C3%BCr-25-01-2020.html'}),\n",
       "  Document(page_content='Mirco Bee\\nGeschäftsführer\\nphone 031 790 23 23\\nmail mirco.bee@bee-gu.ch\\nDas könnte Sie auch interessieren:\\nAbstellraum in Zollbrück zu vermieten\\nSie sind auf der Suche nach einer Alternative um mehr Platz zu schaffen?\\nGrosszügiger Abstellraum in Zollbrück per sofort zu vermieten!\\nDETAILS\\nDiverse Einstellhallen- und Autoabstellplätze zu vermieten\\nSie sind auf der Suche nach einem Abstellplatz für Ihr Auto?\\nKlicken Sie hier!\\nDETAILS', metadata={'source': 'https://www.bee-gu.ch/abstellraum-in-zollbrueck-zu-vermieten.html'}),\n",
       "  Document(page_content='Mirco Bee\\nGeschäftsführer\\nphone 031 790 23 23\\nmail mirco.bee@bee-gu.ch\\nDas könnte Sie auch interessieren:\\nAbstellraum in Zollbrück zu vermieten\\nSie sind auf der Suche nach einer Alternative um mehr Platz zu schaffen?\\nGrosszügiger Abstellraum in Zollbrück per sofort zu vermieten!\\nDETAILS\\nDiverse Einstellhallen- und Autoabstellplätze zu vermieten\\nSie sind auf der Suche nach einem Abstellplatz für Ihr Auto?\\nKlicken Sie hier!\\nDETAILS', metadata={'source': 'https://www.bee-gu.ch/einstellhallenplatz-in-hasle-b-b-zu-vermieten.html'})]}"
      ]
     },
     "execution_count": 5,
     "metadata": {},
     "output_type": "execute_result"
    }
   ],
   "source": [
    "from ai import chat\n",
    "result = chat(query, store)\n",
    "result"
   ]
  },
  {
   "cell_type": "code",
   "execution_count": 8,
   "metadata": {},
   "outputs": [
    {
     "data": {
      "text/plain": [
       "' Mirco ist der Geschäftsführer der bee architekten ag. Die bee architekten ag bietet verschiedene Dienstleistungen im Bereich Architektur und Bauwesen an, wie z.B. den Bau von Mehrfamilienhäusern, Einfamilienhäusern und Renditeobjekten, sowie die Vermietung von Abstellräumen und Einstellhallen.'"
      ]
     },
     "execution_count": 8,
     "metadata": {},
     "output_type": "execute_result"
    }
   ],
   "source": [
    "result['answer']"
   ]
  },
  {
   "cell_type": "code",
   "execution_count": 7,
   "metadata": {},
   "outputs": [
    {
     "name": "stdout",
     "output_type": "stream",
     "text": [
      "{'source': 'https://www.bee-gu.ch/wohnen-im-obstgarten-l%C3%BCtzelfl%C3%BCh.html'}\n",
      "{'source': 'https://www.bee-gu.ch/abstellraum-in-zollbrueck-zu-vermieten.html'}\n"
     ]
    }
   ],
   "source": [
    "print(result['source_documents'][0].metadata)\n",
    "print(result['source_documents'][2].metadata)"
   ]
  }
 ],
 "metadata": {
  "kernelspec": {
   "display_name": "Python 3",
   "language": "python",
   "name": "python3"
  },
  "language_info": {
   "codemirror_mode": {
    "name": "ipython",
    "version": 3
   },
   "file_extension": ".py",
   "mimetype": "text/x-python",
   "name": "python",
   "nbconvert_exporter": "python",
   "pygments_lexer": "ipython3",
   "version": "3.10.4"
  },
  "orig_nbformat": 4
 },
 "nbformat": 4,
 "nbformat_minor": 2
}
