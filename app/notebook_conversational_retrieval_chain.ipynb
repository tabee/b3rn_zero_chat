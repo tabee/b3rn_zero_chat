{
 "cells": [
  {
   "attachments": {},
   "cell_type": "markdown",
   "metadata": {},
   "source": [
    "# Demo b3rn_zero_chat"
   ]
  },
  {
   "attachments": {},
   "cell_type": "markdown",
   "metadata": {},
   "source": [
    "## vectorstore"
   ]
  },
  {
   "attachments": {},
   "cell_type": "markdown",
   "metadata": {},
   "source": [
    "### load local vectorestore"
   ]
  },
  {
   "cell_type": "code",
   "execution_count": 15,
   "metadata": {},
   "outputs": [],
   "source": [
    "from tools import vectorstore\n",
    "store = vectorstore.load_vectorstore()\n"
   ]
  },
  {
   "cell_type": "code",
   "execution_count": 25,
   "metadata": {},
   "outputs": [],
   "source": [
    "# query = \"was ist ch.ch ?\"\n",
    "# query = \"\"\"Wer ist Mirco und was macht die bee architekten ag?\"\"\"\n",
    "# query = \"Wer hat Anspruch auf Familienzulagen?\"\n",
    "query = \"ich bin arbeitstätig, meine Ex-Frau ist arbeitslos und die Kinder leben bei ihr. Hat sie Anspruch auf Familienzulagen?\"\n",
    "#query = \"Ich bin geschieden und habe zwei Kinder. Hat mein Ex-Frau Anspruch auf Familienzulagen? meine Ex-Frau ist arbeitslos und die Kinder leben bei ihr\""
   ]
  },
  {
   "cell_type": "code",
   "execution_count": 26,
   "metadata": {},
   "outputs": [
    {
     "name": "stdout",
     "output_type": "stream",
     "text": [
      "page_content='Familienzulagengesetz 836.2\\nArt. 4 Anspruchsberechtigung für Kinder\\n1 Zum Anspruch auf Familienzulagen berechtigen:\\na. Kinder, zu denen ein Kindesverhältnis im Sinne des Zivilgesetzbuches14 be-\\nsteht;\\nb. Stiefkinder;\\nc. Pflegekinder;\\nd. Geschwister und Enkelkinder der bezugsberechtigten Person, wenn diese für\\nderen Unterhalt in überwiegendem Mass aufkommt.\\n2 Der Bundesrat regelt die Einzelheiten.\\n3 Für im Ausland wohnhafte Kinder regelt der Bundesrat die Voraussetzungen für\\nden Anspruch auf Familienzulagen. Deren Höhe richtet sich nach der Kaufkraft im\\nWohnsitzstaat.\\nArt. 5 Höhe der Familienzulagen; Anpassung der Ansätze\\n1 Die Kinderzulage beträgt mindestens 200 Franken pro Monat.\\n2 Die Ausbildungszulage beträgt mindestens 250 Franken pro Monat.\\n3 Der Bundesrat passt die Mindestansätze auf den gleichen Zeitpunkt wie die Renten\\nder Alters- und Hinterlassenenversicherung (AHV) der Teuerung an, sofern der\\nLandesindex der Konsumentenpreise seit der letzten Festsetzung der Ansätze um\\nmindestens 5 Punkte gestiegen ist.\\nArt. 6 Verbot des Doppelbezugs\\nFür das gleiche Kind wird nur eine Zulage derselben Art ausgerichtet. Die Diffe-\\nrenzzahlung nach Artikel 7 Absatz 2 bleibt vorbehalten.\\nArt. 7 Anspruchskonkurrenz\\n1 Haben mehrere Personen für das gleiche Kind Anspruch auf Familienzulagen nach\\neidgenössischem oder kantonalem Recht, so steht der Anspruch in nachstehender\\nReihenfolge zu:\\na. der erwerbstätigen Person;\\nb. der Person, welche die elterliche Sorge hat oder bis zur Mündigkeit des Kin-\\ndes hatte;\\nc. der Person, bei der das Kind überwiegend lebt oder bis zu seiner Mündigkeit\\nlebte;\\nd. der Person, auf welche die Familienzulagenordnung im Wohnsitzkanton des\\nKindes anwendbar ist;\\n1 4 SR 210\\n3' metadata={'source': '/tmp/tmp9hgjbr1q', 'file_path': '/tmp/tmp9hgjbr1q', 'page': 3, 'total_pages': 16, 'Title': '836.2', 'Author': 'Schweizerische Bundeskanzlei', 'Subject': 'Bundesgesetz  über die Familienzulagen und Finanzhilfen an Familienorganisationen', 'Keywords': 'Rechtstext Formatvorlage DfV', 'Creator': 'Microsoft® Word 2016', 'CreationDate': \"D:20220426200750+02'00'\", 'ModDate': \"D:20220426200750+02'00'\", 'Producer': 'Microsoft® Word 2016'}\n"
     ]
    },
    {
     "data": {
      "text/plain": [
       "{'question': 'ich bin arbeitstätig, meine Ex-Frau ist arbeitslos und die Kinder leben bei ihr. Hat sie Anspruch auf Familienzulagen?',\n",
       " 'chat_history': [],\n",
       " 'answer': ' Yes, according to Art. 19 of the Familienzulagengesetz 836.2, your ex-wife has an entitlement to family allowances as a non-working person.',\n",
       " 'source_documents': [Document(page_content='Familienzulagengesetz 836.2\\nArt. 4 Anspruchsberechtigung für Kinder\\n1 Zum Anspruch auf Familienzulagen berechtigen:\\na. Kinder, zu denen ein Kindesverhältnis im Sinne des Zivilgesetzbuches14 be-\\nsteht;\\nb. Stiefkinder;\\nc. Pflegekinder;\\nd. Geschwister und Enkelkinder der bezugsberechtigten Person, wenn diese für\\nderen Unterhalt in überwiegendem Mass aufkommt.\\n2 Der Bundesrat regelt die Einzelheiten.\\n3 Für im Ausland wohnhafte Kinder regelt der Bundesrat die Voraussetzungen für\\nden Anspruch auf Familienzulagen. Deren Höhe richtet sich nach der Kaufkraft im\\nWohnsitzstaat.\\nArt. 5 Höhe der Familienzulagen; Anpassung der Ansätze\\n1 Die Kinderzulage beträgt mindestens 200 Franken pro Monat.\\n2 Die Ausbildungszulage beträgt mindestens 250 Franken pro Monat.\\n3 Der Bundesrat passt die Mindestansätze auf den gleichen Zeitpunkt wie die Renten\\nder Alters- und Hinterlassenenversicherung (AHV) der Teuerung an, sofern der\\nLandesindex der Konsumentenpreise seit der letzten Festsetzung der Ansätze um\\nmindestens 5 Punkte gestiegen ist.\\nArt. 6 Verbot des Doppelbezugs\\nFür das gleiche Kind wird nur eine Zulage derselben Art ausgerichtet. Die Diffe-\\nrenzzahlung nach Artikel 7 Absatz 2 bleibt vorbehalten.\\nArt. 7 Anspruchskonkurrenz\\n1 Haben mehrere Personen für das gleiche Kind Anspruch auf Familienzulagen nach\\neidgenössischem oder kantonalem Recht, so steht der Anspruch in nachstehender\\nReihenfolge zu:\\na. der erwerbstätigen Person;\\nb. der Person, welche die elterliche Sorge hat oder bis zur Mündigkeit des Kin-\\ndes hatte;\\nc. der Person, bei der das Kind überwiegend lebt oder bis zu seiner Mündigkeit\\nlebte;\\nd. der Person, auf welche die Familienzulagenordnung im Wohnsitzkanton des\\nKindes anwendbar ist;\\n1 4 SR 210\\n3', metadata={'source': '/tmp/tmp9hgjbr1q', 'file_path': '/tmp/tmp9hgjbr1q', 'page': 3, 'total_pages': 16, 'Title': '836.2', 'Author': 'Schweizerische Bundeskanzlei', 'Subject': 'Bundesgesetz  über die Familienzulagen und Finanzhilfen an Familienorganisationen', 'Keywords': 'Rechtstext Formatvorlage DfV', 'Creator': 'Microsoft® Word 2016', 'CreationDate': \"D:20220426200750+02'00'\", 'ModDate': \"D:20220426200750+02'00'\", 'Producer': 'Microsoft® Word 2016'}),\n",
       "  Document(page_content='836.2 Familienzulagen\\n2. Abschnitt: Erwerbstätige in der Landwirtschaft\\nArt. 18\\nDie landwirtschaftlichen Arbeitnehmerinnen und Arbeitnehmer sowie die selbstän-\\ndigerwerbenden Landwirtinnen und Landwirte haben Anspruch auf Familienzulagen\\nnach dem Bundesgesetz vom 20. Juni 195227 über die Familienzulagen in der Land-\\nwirtschaft.\\n3. Abschnitt: Nichterwerbstätige\\nArt. 19 Anspruch auf Familienzulagen\\n1 In der AHV obligatorisch versicherte Personen, die bei der AHV als nichter-\\nwerbstätige Personen erfasst sind, gelten als Nichterwerbstätige. Sie haben Anspruch\\nauf Familienzulagen nach den Artikeln 3 und 5. Artikel 7 Absatz 2 ist nicht anwend-\\nbar. Zuständig ist der Wohnsitzkanton.\\n1bis Die Personen, die als Arbeitnehmerinnen oder Arbeitnehmer oder als Selbststän-\\ndigerwerbende in der AHV obligatorisch versichert sind und das Mindesteinkommen\\nnach Artikel 13 Absatz 3 nicht erreichen, gelten ebenfalls als Nichterwerbstätige.28\\n1ter Arbeitslose Mütter, die Anspruch auf eine Mutterschaftsentschädigung nach dem\\nErwerbsersatzgesetz vom 25. September 195229 haben, gelten während der Dauer\\ndieses Anspruchs ebenfalls als Nichterwerbstätige. Absatz 2 ist nicht anwendbar.30\\n2 Der Anspruch auf Familienzulagen ist an die Voraussetzung geknüpft, dass das\\nsteuerbare Einkommen den anderthalbfachen Betrag einer maximalen vollen Alters-\\nrente der AHV nicht übersteigt und keine Ergänzungsleistungen zur AHV/IV bezo-\\ngen werden.\\nArt. 20 Finanzierung\\n1 Die Familienzulagen für Nichterwerbstätige werden von den Kantonen finanziert.\\n2 Die Kantone können vorsehen, dass Nichterwerbstätige einen in Prozenten ihrer\\nAHV-Beiträge zu berechnenden Beitrag leisten müssen, sofern diese Beiträge den\\nMindestbeitrag nach Artikel 10 AHVG31 übersteigen.\\n2 7 SR 836.1\\n28 Eingefügt durch Ziff. I des BG vom 18. März 2011, in Kraft seit 1. Jan. 2013\\n(AS 2011 3973 4949; BBl 2009 5991 6009).\\n29 SR 834.1\\n30 Eingefügt durch Ziff. I des BG vom 27. Sept. 2019, in Kraft seit 1. Aug. 2020\\n(AS 2020 2775; BBl 2019 1019).\\n31 SR 831.10\\n8', metadata={'source': '/tmp/tmp9hgjbr1q', 'file_path': '/tmp/tmp9hgjbr1q', 'page': 8, 'total_pages': 16, 'Title': '836.2', 'Author': 'Schweizerische Bundeskanzlei', 'Subject': 'Bundesgesetz  über die Familienzulagen und Finanzhilfen an Familienorganisationen', 'Keywords': 'Rechtstext Formatvorlage DfV', 'Creator': 'Microsoft® Word 2016', 'CreationDate': \"D:20220426200750+02'00'\", 'ModDate': \"D:20220426200750+02'00'\", 'Producer': 'Microsoft® Word 2016'}),\n",
       "  Document(page_content='836.2 Familienzulagen\\ne.15 der Person mit dem höheren AHV-pflichtigen Einkommen aus unselbst-\\nständiger Erwerbstätigkeit;\\nf.16 der Person mit dem höheren AHV-pflichtigen Einkommen aus selbst-\\nständiger Erwerbstätigkeit.\\n2 Richten sich die Familienzulagenansprüche der erst- und der zweitanspruchs-\\nberechtigten Person nach den Familienzulagenordnungen von zwei verschiedenen\\nKantonen, so hat die zweitanspruchsberechtigte Person Anspruch auf den Betrag,\\num den der gesetzliche Mindestansatz in ihrem Kanton höher ist als im anderen.\\nArt. 8 Familienzulagen und Unterhaltsbeiträge\\nAnspruchsberechtigte Personen, die auf Grund eines Gerichtsurteils oder einer\\nVereinbarung zur Zahlung von Unterhaltsbeiträgen für Kinder verpflichtet sind,\\nmüssen die Familienzulagen zusätzlich zu den Unterhaltsbeiträgen entrichten.\\nArt. 9 Auszahlung an Dritte\\n1 Werden die Familienzulagen nicht für die Bedürfnisse einer Person verwendet, für\\ndie sie bestimmt sind, so kann diese Person oder ihr gesetzlicher Vertreter verlan-\\ngen, dass ihr die Familienzulagen in Abweichung von Artikel 20 Absatz 1 ATSG17\\nauch ohne Fürsorgeabhängigkeit ausgerichtet werden.\\n2 Auf begründetes Gesuch hin kann die Ausbildungszulage in Abweichung von Arti-\\nkel 20 Absatz 1 ATSG direkt dem mündigen Kind ausgerichtet werden.\\nArt. 10 Ausschluss der Zwangsvollstreckung\\nDie Familienzulagen sind der Zwangsvollstreckung entzogen.\\n3. Kapitel: Familienzulagenordnungen\\n1. Abschnitt: Erwerbstätige in nichtlandwirtschaftlichen Berufen18\\nArt. 11 Unterstellung\\n1 Diesem Gesetz unterstehen:\\na. die Arbeitgeber, die nach Artikel 12 des Bundesgesetzes vom 20. Dezember\\n194619 über die Alters- und Hinterlassenenversicherung (AHVG) beitrags-\\npflichtig sind;\\n1 5 Fassung gemäss Ziff. I des BG vom 18. März 2011, in Kraft seit 1. Jan. 2013\\n(AS 2011 3973 4949; BBl 2009 5991 6009).\\n16 Eingefügt durch Ziff. I des BG vom 18. März 2011, in Kraft seit 1. Jan. 2013\\n(AS 2011 3973 4949; BBl 2009 5991 6009).\\n17 SR 830.1\\n18 Fassung gemäss Ziff. I des BG vom 18. März 2011, in Kraft seit 1. Jan. 2013\\n(AS 2011 3973 4949; BBl 2009 5991 6009).\\n19 SR 831.10\\n4', metadata={'source': '/tmp/tmp9hgjbr1q', 'file_path': '/tmp/tmp9hgjbr1q', 'page': 4, 'total_pages': 16, 'Title': '836.2', 'Author': 'Schweizerische Bundeskanzlei', 'Subject': 'Bundesgesetz  über die Familienzulagen und Finanzhilfen an Familienorganisationen', 'Keywords': 'Rechtstext Formatvorlage DfV', 'Creator': 'Microsoft® Word 2016', 'CreationDate': \"D:20220426200750+02'00'\", 'ModDate': \"D:20220426200750+02'00'\", 'Producer': 'Microsoft® Word 2016'}),\n",
       "  Document(page_content='836.2 Familienzulagen\\n2. Kapitel: Allgemeine Bestimmungen\\nArt. 2 Begriff und Zweck der Familienzulagen\\nFamilienzulagen sind einmalige oder periodische Geldleistungen, die ausgerichtet\\nwerden, um die finanzielle Belastung durch ein oder mehrere Kinder teilweise aus-\\nzugleichen.\\nArt. 3 Arten von Familienzulagen; Kompetenzen der Kantone\\n1 Die Familienzulagen nach diesem Gesetz umfassen:\\na. die Kinderzulage: sie wird vom Beginn des Geburtsmonats des Kindes bis\\nzum Ende des Monats ausgerichtet, in dem das Kind das 16. Altersjahr voll-\\nendet; besteht für das Kind schon vor Vollendung des 16. Altersjahrs ein\\nAnspruch auf eine Ausbildungszulage, so wird diese anstelle der Kinderzu-\\nlage ausgerichtet; ist das Kind erwerbsunfähig (Art. 7 ATSG10), so wird die\\nKinderzulage bis zum Ende des Monats ausgerichtet, in dem es das\\n20. Altersjahr vollendet;\\nb. die Ausbildungszulage: sie wird ab dem Beginn des Monats ausgerichtet, in\\ndem das Kind eine nachobligatorische Ausbildung beginnt, jedoch frühes-\\ntens ab dem Beginn des Monats, in dem es das 15. Altersjahr vollendet; be-\\nsucht das Kind nach Vollendung des 16. Altersjahrs noch die obligatorische\\nSchule, so wird die Ausbildungszulage ab dem Beginn des darauffolgenden\\nMonats ausgerichtet; die Ausbildungszulage wird bis zum Abschluss der\\nAusbildung des Kindes gewährt, längstens jedoch bis zum Ende des Monats,\\nin dem es das 25. Altersjahr vollendet.11\\n2 Die Kantone können in ihren Familienzulagenordnungen höhere Mindestansätze\\nfür Kinder- und Ausbildungszulagen als nach Artikel 5 sowie auch Geburts- und\\nAdoptionszulagen vorsehen. Die Bestimmungen dieses Gesetzes gelten auch für\\ndiese Familienzulagen. Andere Leistungen müssen ausserhalb der Familienzulagen-\\nordnungen geregelt und finanziert werden. Weitere durch Gesamt- oder Einzel-\\narbeitsvertrag oder andere Regelungen vorgesehene Leistungen gelten nicht als\\nFamilienzulagen im Sinne dieses Gesetzes.\\n3 Die Geburtszulage wird für jedes Kind ausgerichtet, das lebend oder nach mindes-\\ntens 23 Wochen Schwangerschaft geboren wurde. Der Bundesrat kann weitere\\nVoraussetzungen festlegen. Die Adoptionszulage wird für jedes minderjährige Kind\\nausgerichtet, das zur späteren Adoption aufgenommen wird. Keinen Anspruch gibt\\ndie Adoption eines Kindes nach Artikel 264c des Zivilgesetzbuches12.13\\n1 0 SR 830.1\\n11 Fassung gemäss Ziff. I des BG vom 27. Sept. 2019, in Kraft seit 1. Aug. 2020\\n(AS 2020 2775; BBl 2019 1019).\\n12 SR 210\\n13 Fassung des vierten Satzes gemäss Anhang Ziff. 4 des BG vom 17. Juni 2016 (Adoption),\\nin Kraft seit 1. Jan. 2018 (AS 2017 3699; BBl 2015 877).\\n2', metadata={'source': '/tmp/tmp9hgjbr1q', 'file_path': '/tmp/tmp9hgjbr1q', 'page': 2, 'total_pages': 16, 'Title': '836.2', 'Author': 'Schweizerische Bundeskanzlei', 'Subject': 'Bundesgesetz  über die Familienzulagen und Finanzhilfen an Familienorganisationen', 'Keywords': 'Rechtstext Formatvorlage DfV', 'Creator': 'Microsoft® Word 2016', 'CreationDate': \"D:20220426200750+02'00'\", 'ModDate': \"D:20220426200750+02'00'\", 'Producer': 'Microsoft® Word 2016'})]}"
      ]
     },
     "execution_count": 26,
     "metadata": {},
     "output_type": "execute_result"
    }
   ],
   "source": [
    "from ai import chat\n",
    "result = chat(query, store)\n",
    "result"
   ]
  },
  {
   "cell_type": "code",
   "execution_count": 27,
   "metadata": {},
   "outputs": [
    {
     "data": {
      "text/plain": [
       "' Yes, according to Art. 19 of the Familienzulagengesetz 836.2, your ex-wife has an entitlement to family allowances as a non-working person.'"
      ]
     },
     "execution_count": 27,
     "metadata": {},
     "output_type": "execute_result"
    }
   ],
   "source": [
    "result['answer']"
   ]
  },
  {
   "cell_type": "code",
   "execution_count": 28,
   "metadata": {},
   "outputs": [
    {
     "name": "stdout",
     "output_type": "stream",
     "text": [
      "{'source': '/tmp/tmp9hgjbr1q', 'file_path': '/tmp/tmp9hgjbr1q', 'page': 3, 'total_pages': 16, 'Title': '836.2', 'Author': 'Schweizerische Bundeskanzlei', 'Subject': 'Bundesgesetz  über die Familienzulagen und Finanzhilfen an Familienorganisationen', 'Keywords': 'Rechtstext Formatvorlage DfV', 'Creator': 'Microsoft® Word 2016', 'CreationDate': \"D:20220426200750+02'00'\", 'ModDate': \"D:20220426200750+02'00'\", 'Producer': 'Microsoft® Word 2016'}\n",
      "{'source': '/tmp/tmp9hgjbr1q', 'file_path': '/tmp/tmp9hgjbr1q', 'page': 8, 'total_pages': 16, 'Title': '836.2', 'Author': 'Schweizerische Bundeskanzlei', 'Subject': 'Bundesgesetz  über die Familienzulagen und Finanzhilfen an Familienorganisationen', 'Keywords': 'Rechtstext Formatvorlage DfV', 'Creator': 'Microsoft® Word 2016', 'CreationDate': \"D:20220426200750+02'00'\", 'ModDate': \"D:20220426200750+02'00'\", 'Producer': 'Microsoft® Word 2016'}\n",
      "{'source': '/tmp/tmp9hgjbr1q', 'file_path': '/tmp/tmp9hgjbr1q', 'page': 4, 'total_pages': 16, 'Title': '836.2', 'Author': 'Schweizerische Bundeskanzlei', 'Subject': 'Bundesgesetz  über die Familienzulagen und Finanzhilfen an Familienorganisationen', 'Keywords': 'Rechtstext Formatvorlage DfV', 'Creator': 'Microsoft® Word 2016', 'CreationDate': \"D:20220426200750+02'00'\", 'ModDate': \"D:20220426200750+02'00'\", 'Producer': 'Microsoft® Word 2016'}\n"
     ]
    }
   ],
   "source": [
    "print(result['source_documents'][0].metadata)\n",
    "print(result['source_documents'][1].metadata)\n",
    "print(result['source_documents'][2].metadata)"
   ]
  }
 ],
 "metadata": {
  "kernelspec": {
   "display_name": "Python 3",
   "language": "python",
   "name": "python3"
  },
  "language_info": {
   "codemirror_mode": {
    "name": "ipython",
    "version": 3
   },
   "file_extension": ".py",
   "mimetype": "text/x-python",
   "name": "python",
   "nbconvert_exporter": "python",
   "pygments_lexer": "ipython3",
   "version": "3.10.4"
  },
  "orig_nbformat": 4
 },
 "nbformat": 4,
 "nbformat_minor": 2
}
