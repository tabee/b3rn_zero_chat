{
 "cells": [
  {
   "attachments": {},
   "cell_type": "markdown",
   "metadata": {},
   "source": [
    "# Demo b3rn_zero_chat"
   ]
  },
  {
   "attachments": {},
   "cell_type": "markdown",
   "metadata": {},
   "source": [
    "## make some xml sitemaps"
   ]
  },
  {
   "cell_type": "code",
   "execution_count": 10,
   "metadata": {},
   "outputs": [
    {
     "name": "stdout",
     "output_type": "stream",
     "text": [
      "make sitemap for https://myherbal.ch\n",
      "https://myherbal.ch\n",
      "https://myherbal.ch/de\n",
      "https://myherbal.ch/de/kontakt/\n",
      "https://myherbal.ch/de/\n",
      "https://myherbal.ch/de/categorie-produs/aloe-vera-produkte/\n",
      "https://myherbal.ch/de/categorie-produs/basisprodukte/\n",
      "https://myherbal.ch/de/categorie-produs/basisprodukte/ballaststoffe/\n",
      "https://myherbal.ch/de/categorie-produs/basisprodukte/energie/\n",
      "https://myherbal.ch/de/categorie-produs/basisprodukte/gesunde-fette/\n",
      "https://myherbal.ch/de/categorie-produs/basisprodukte/hydration/\n",
      "https://myherbal.ch/de/categorie-produs/basisprodukte/mikronaehrstoffe/\n",
      "https://myherbal.ch/de/categorie-produs/basisprodukte/proteine/\n",
      "https://myherbal.ch/de/categorie-produs/basisprodukte/snacks/\n",
      "https://myherbal.ch/de/categorie-produs/mitgliedspack/\n",
      "https://myherbal.ch/de/categorie-produs/basisprogramme/\n",
      "https://myherbal.ch/de/categorie-produs/basisprogramme/gewichtskontrolle/\n",
      "https://myherbal.ch/de/categorie-produs/basisprogramme/gutes-fruhstuck/\n",
      "https://myherbal.ch/de/categorie-produs/basisprogramme/mastprogramm/\n",
      "https://myherbal.ch/de/categorie-produs/basisprogramme/muskelaufbau/\n",
      "https://myherbal.ch/de/categorie-produs/basisprogramme/winter/\n",
      "https://myherbal.ch/de/categorie-produs/skin-produkte/\n",
      "https://myherbal.ch/de/categorie-produs/sport/\n",
      "https://myherbal.ch/de/categorie-produs/sport/nach-dem-workout/\n",
      "https://myherbal.ch/de/categorie-produs/sport/vor-dem-workout/\n",
      "https://myherbal.ch/de/categorie-produs/sport/wahrend-dem-workout/\n",
      "https://myherbal.ch/de/categorie-produs/zubehoer-und-shaker/\n",
      "https://myherbal.ch/de/mein-konto/\n",
      "https://myherbal.ch/de/wishlist/\n",
      "https://myherbal.ch/de/compare/\n",
      "https://myherbal.ch/de/warenkorb/\n",
      "https://myherbal.ch/de/geschaft/\n",
      "https://myherbal.ch/de/portfolio/\n",
      "https://myherbal.ch/de/blog/\n",
      "https://myherbal.ch/de/uber-uns/\n",
      "https://myherbal.ch/de/produs/herbalife-aloe-vera-getraenkekonzentrat-original-473ml/\n",
      "https://myherbal.ch/de/wp-content/uploads/2022/09/Aloe-Vera-Getraenkekonzentrat-Original473ml-1.png\n"
     ]
    },
    {
     "name": "stderr",
     "output_type": "stream",
     "text": [
      "Some characters could not be decoded, and were replaced with REPLACEMENT CHARACTER.\n"
     ]
    },
    {
     "name": "stdout",
     "output_type": "stream",
     "text": [
      "https://myherbal.ch/de/produs/herbalife-aloe-vera-getraenkekonzentrat-mango-473-ml/\n",
      "https://myherbal.ch/de/wp-content/uploads/2022/09/Aloe-Vera-Getraenkekonzentrat-Mango473ml-1.png\n"
     ]
    },
    {
     "name": "stderr",
     "output_type": "stream",
     "text": [
      "Some characters could not be decoded, and were replaced with REPLACEMENT CHARACTER.\n"
     ]
    },
    {
     "name": "stdout",
     "output_type": "stream",
     "text": [
      "https://myherbal.ch/de/produs/herbalife-skin-reinigende-lehm-maske-mit-minze-120-ml/\n",
      "https://myherbal.ch/de/wp-content/uploads/2022/09/Hebalife-SKIN-Reinigende-Lehm-Maske-mit-Minze-120mL.png\n"
     ]
    },
    {
     "name": "stderr",
     "output_type": "stream",
     "text": [
      "Some characters could not be decoded, and were replaced with REPLACEMENT CHARACTER.\n"
     ]
    },
    {
     "name": "stdout",
     "output_type": "stream",
     "text": [
      "https://myherbal.ch/de/produs/herbalife-skin-beeren-peeling-mit-sofortwirkung-120-ml/\n",
      "https://myherbal.ch/de/wp-content/uploads/2022/09/Herbalife-SKIN-Beeren-Peeling-mit-Sofortwirkung120mL-1.png\n"
     ]
    },
    {
     "name": "stderr",
     "output_type": "stream",
     "text": [
      "Some characters could not be decoded, and were replaced with REPLACEMENT CHARACTER.\n"
     ]
    },
    {
     "name": "stdout",
     "output_type": "stream",
     "text": [
      "https://myherbal.ch/de/produs/herbalife-skin-regenerierende-nachtcreme-50-ml/\n",
      "https://myherbal.ch/de/wp-content/uploads/2022/09/herbalife-skin-Regenerierende-Nachtcreme-50mL.png\n"
     ]
    },
    {
     "name": "stderr",
     "output_type": "stream",
     "text": [
      "Some characters could not be decoded, and were replaced with REPLACEMENT CHARACTER.\n"
     ]
    },
    {
     "name": "stdout",
     "output_type": "stream",
     "text": [
      "https://myherbal.ch/de/produs/herbalife-skin-schuetzende-feuchtigkeitscreme-spf-30-50-ml/\n",
      "https://myherbal.ch/de/wp-content/uploads/2022/09/Herbalife-SKIN-Schuetzende-Feuchtigkeitscreme-SPF-30-50mL.png\n"
     ]
    },
    {
     "name": "stderr",
     "output_type": "stream",
     "text": [
      "Some characters could not be decoded, and were replaced with REPLACEMENT CHARACTER.\n"
     ]
    },
    {
     "name": "stdout",
     "output_type": "stream",
     "text": [
      "https://myherbal.ch/de/produs/herbalife-skin-feuchtigkeitscreme-fuer-strahlende-haut-50-ml/\n",
      "https://myherbal.ch/de/wp-content/uploads/2022/09/Feuchtigkeitscreme-fuer-strahlende-Haut50mL-1.png\n"
     ]
    },
    {
     "name": "stderr",
     "output_type": "stream",
     "text": [
      "Some characters could not be decoded, and were replaced with REPLACEMENT CHARACTER.\n"
     ]
    },
    {
     "name": "stdout",
     "output_type": "stream",
     "text": [
      "https://myherbal.ch/de/produs/herbalife-skin-falten-verringerndes-serum-50-ml/\n"
     ]
    },
    {
     "name": "stderr",
     "output_type": "stream",
     "text": [
      "Some characters could not be decoded, and were replaced with REPLACEMENT CHARACTER.\n"
     ]
    },
    {
     "name": "stdout",
     "output_type": "stream",
     "text": [
      "https://myherbal.ch/de/wp-content/uploads/2022/09/Falten-verringerndes-Serum50mL-1.png\n",
      "https://myherbal.ch/de/produs/herbalife-skin-feuchtigkeit-spendende-augencreme-15-ml/\n",
      "https://myherbal.ch/de/wp-content/uploads/2022/09/Feuchtigkeit-spendende-Augencreme15mL-1.png\n"
     ]
    },
    {
     "name": "stderr",
     "output_type": "stream",
     "text": [
      "Some characters could not be decoded, and were replaced with REPLACEMENT CHARACTER.\n"
     ]
    },
    {
     "name": "stdout",
     "output_type": "stream",
     "text": [
      "https://myherbal.ch/de/produs/herbalife-skin-straffendes-augen-gel-15-ml/\n",
      "https://myherbal.ch/de/wp-content/uploads/2022/09/Straffendes-Augen-Gel15mL-1.png\n"
     ]
    },
    {
     "name": "stderr",
     "output_type": "stream",
     "text": [
      "Some characters could not be decoded, and were replaced with REPLACEMENT CHARACTER.\n"
     ]
    },
    {
     "name": "stdout",
     "output_type": "stream",
     "text": [
      "https://myherbal.ch/de/produs/herbalife-skin-belebender-toner-mit-pflanzenextrakt-50-ml/\n",
      "https://myherbal.ch/de/wp-content/uploads/2022/09/Belebender-Toner-mit-Pflanzenextrakt50mL-1.png\n"
     ]
    },
    {
     "name": "stderr",
     "output_type": "stream",
     "text": [
      "Some characters could not be decoded, and were replaced with REPLACEMENT CHARACTER.\n"
     ]
    },
    {
     "name": "stdout",
     "output_type": "stream",
     "text": [
      "https://myherbal.ch/de/produs/herbalife-skin-glaettendes-zitrusreinigungsgel-150-ml/\n",
      "https://myherbal.ch/de/wp-content/uploads/2022/09/Glaettendes-Zitrusreinigungsgel150mL-1.png\n"
     ]
    },
    {
     "name": "stderr",
     "output_type": "stream",
     "text": [
      "Some characters could not be decoded, and were replaced with REPLACEMENT CHARACTER.\n"
     ]
    },
    {
     "name": "stdout",
     "output_type": "stream",
     "text": [
      "https://myherbal.ch/de/produs/herbalife-skin-beruhigendes-aloe-reinigungsgel-150-ml/\n",
      "https://myherbal.ch/de/wp-content/uploads/2022/09/Beruhigendes-Aloe-Reinigungsgel150mL-1.png\n"
     ]
    },
    {
     "name": "stderr",
     "output_type": "stream",
     "text": [
      "Some characters could not be decoded, and were replaced with REPLACEMENT CHARACTER.\n"
     ]
    },
    {
     "name": "stdout",
     "output_type": "stream",
     "text": [
      "https://myherbal.ch/de/produs/herbal-aloe-pflegegel-200-ml/\n",
      "https://myherbal.ch/de/wp-content/uploads/2022/09/Herbal-Aloe-Pflegegel200mL-1.png\n"
     ]
    },
    {
     "name": "stderr",
     "output_type": "stream",
     "text": [
      "Some characters could not be decoded, and were replaced with REPLACEMENT CHARACTER.\n"
     ]
    },
    {
     "name": "stdout",
     "output_type": "stream",
     "text": [
      "https://myherbal.ch/de/produs/herbal-aloe-hand-und-koerperlotion-200-ml/\n",
      "https://myherbal.ch/de/wp-content/uploads/2022/09/Herbal-Aloe-Hand-und-Koerperlotion200mL-1.png\n"
     ]
    },
    {
     "name": "stderr",
     "output_type": "stream",
     "text": [
      "Some characters could not be decoded, and were replaced with REPLACEMENT CHARACTER.\n"
     ]
    },
    {
     "name": "stdout",
     "output_type": "stream",
     "text": [
      "https://myherbal.ch/de/produs/herbal-aloe-kraeftigender-conditioner-250-ml/\n",
      "https://myherbal.ch/de/wp-content/uploads/2022/09/Herbal-Aloe-Kraeftigender-Conditioner250mL-1.png\n"
     ]
    },
    {
     "name": "stderr",
     "output_type": "stream",
     "text": [
      "Some characters could not be decoded, and were replaced with REPLACEMENT CHARACTER.\n"
     ]
    },
    {
     "name": "stdout",
     "output_type": "stream",
     "text": [
      "https://myherbal.ch/de/produs/herbal-aloe-waschlotion-250-ml/\n",
      "https://myherbal.ch/de/wp-content/uploads/2022/09/Herbal-Aloe-Waschlotion250mL-1.png\n"
     ]
    },
    {
     "name": "stderr",
     "output_type": "stream",
     "text": [
      "Some characters could not be decoded, and were replaced with REPLACEMENT CHARACTER.\n"
     ]
    },
    {
     "name": "stdout",
     "output_type": "stream",
     "text": [
      "https://myherbal.ch/de/produs/herbal-aloe-koerperseife-125-g/\n",
      "https://myherbal.ch/de/wp-content/uploads/woocommerce-placeholder-700x700.png\n"
     ]
    },
    {
     "name": "stderr",
     "output_type": "stream",
     "text": [
      "Some characters could not be decoded, and were replaced with REPLACEMENT CHARACTER.\n"
     ]
    },
    {
     "name": "stdout",
     "output_type": "stream",
     "text": [
      "https://myherbal.ch/de/produs/herbalife-mitgliedspack-hmp/\n",
      "https://myherbal.ch/de/wp-content/uploads/2022/09/Mitgliedspack1-1.png\n"
     ]
    },
    {
     "name": "stderr",
     "output_type": "stream",
     "text": [
      "Some characters could not be decoded, and were replaced with REPLACEMENT CHARACTER.\n"
     ]
    },
    {
     "name": "stdout",
     "output_type": "stream",
     "text": [
      "https://myherbal.ch/de/produs/herbal-aloe-kraeftigendes-shampoo-250-ml/\n",
      "https://myherbal.ch/de/wp-content/uploads/2022/09/Herbal-Aloe-Kraeftigendes-Shampoo-250mL.png\n"
     ]
    },
    {
     "name": "stderr",
     "output_type": "stream",
     "text": [
      "Some characters could not be decoded, and were replaced with REPLACEMENT CHARACTER.\n"
     ]
    },
    {
     "name": "stdout",
     "output_type": "stream",
     "text": [
      "https://myherbal.ch/de/produs/herbalife-skin-collagen-skin-booster-ernaehrung-fuer-deine-haut-erdbeer-und-zitronengeschmack-171-g/\n",
      "https://myherbal.ch/de/wp-content/uploads/2022/09/collagen-skin.png\n"
     ]
    },
    {
     "name": "stderr",
     "output_type": "stream",
     "text": [
      "Some characters could not be decoded, and were replaced with REPLACEMENT CHARACTER.\n"
     ]
    },
    {
     "name": "stdout",
     "output_type": "stream",
     "text": [
      "https://myherbal.ch/de/wp-content/uploads/2022/09/herbalife-collagen.png\n"
     ]
    },
    {
     "name": "stderr",
     "output_type": "stream",
     "text": [
      "Some characters could not be decoded, and were replaced with REPLACEMENT CHARACTER.\n"
     ]
    },
    {
     "name": "stdout",
     "output_type": "stream",
     "text": [
      "https://myherbal.ch/de/produs/herbalife-h24-rebuild-strength-schokolade-1000-g/\n",
      "https://myherbal.ch/de/wp-content/uploads/2022/09/cq5dam.web_.800.800-1.png\n"
     ]
    },
    {
     "name": "stderr",
     "output_type": "stream",
     "text": [
      "Some characters could not be decoded, and were replaced with REPLACEMENT CHARACTER.\n"
     ]
    },
    {
     "name": "stdout",
     "output_type": "stream",
     "text": [
      "https://myherbal.ch/de/wp-content/uploads/2022/09/herbalife-rebuild-strength.jpg\n"
     ]
    },
    {
     "name": "stderr",
     "output_type": "stream",
     "text": [
      "Some characters could not be decoded, and were replaced with REPLACEMENT CHARACTER.\n"
     ]
    },
    {
     "name": "stdout",
     "output_type": "stream",
     "text": [
      "https://myherbal.ch/de/produs/herbalife-h24-rebuild-endurance-vanille-1000-g/\n"
     ]
    },
    {
     "name": "stderr",
     "output_type": "stream",
     "text": [
      "Some characters could not be decoded, and were replaced with REPLACEMENT CHARACTER.\n"
     ]
    },
    {
     "name": "stdout",
     "output_type": "stream",
     "text": [
      "https://myherbal.ch/de/wp-content/uploads/2022/09/h24-rebuild-endurance-1.jpg\n",
      "https://myherbal.ch/de/wp-content/uploads/2022/09/herbalife-rebuild-endurance.jpg\n"
     ]
    },
    {
     "name": "stderr",
     "output_type": "stream",
     "text": [
      "Some characters could not be decoded, and were replaced with REPLACEMENT CHARACTER.\n"
     ]
    },
    {
     "name": "stdout",
     "output_type": "stream",
     "text": [
      "https://myherbal.ch/de/produs/herbalife-messloffel/\n"
     ]
    },
    {
     "name": "stderr",
     "output_type": "stream",
     "text": [
      "Some characters could not be decoded, and were replaced with REPLACEMENT CHARACTER.\n"
     ]
    },
    {
     "name": "stdout",
     "output_type": "stream",
     "text": [
      "https://myherbal.ch/de/wp-content/uploads/2022/09/1057_myherba_shop_herbalifemessloeffel_neu-1.jpg\n",
      "https://myherbal.ch/de/produs/h24-shaker/\n"
     ]
    },
    {
     "name": "stderr",
     "output_type": "stream",
     "text": [
      "Some characters could not be decoded, and were replaced with REPLACEMENT CHARACTER.\n"
     ]
    },
    {
     "name": "stdout",
     "output_type": "stream",
     "text": [
      "https://myherbal.ch/de/wp-content/uploads/2022/09/efa97d_2faa2a48f2db4888aaadc84fbf5c140f_mv2-1.jpg\n",
      "https://myherbal.ch/de/produs/herbalife-formula-1-shake-cafe-latte-550-g/\n",
      "https://myherbal.ch/de/wp-content/uploads/2022/09/F1-CaffeLatte.png\n"
     ]
    },
    {
     "name": "stderr",
     "output_type": "stream",
     "text": [
      "Some characters could not be decoded, and were replaced with REPLACEMENT CHARACTER.\n"
     ]
    },
    {
     "name": "stdout",
     "output_type": "stream",
     "text": [
      "https://myherbal.ch/de/produs/herbalife-active-mind-complex-60-kapseln/\n",
      "https://myherbal.ch/de/wp-content/uploads/2023/03/active-mind.jpeg\n"
     ]
    },
    {
     "name": "stderr",
     "output_type": "stream",
     "text": [
      "Some characters could not be decoded, and were replaced with REPLACEMENT CHARACTER.\n"
     ]
    },
    {
     "name": "stdout",
     "output_type": "stream",
     "text": [
      "https://myherbal.ch/de/produs/herbalife-detox-pack-2/\n"
     ]
    },
    {
     "name": "stderr",
     "output_type": "stream",
     "text": [
      "Some characters could not be decoded, and were replaced with REPLACEMENT CHARACTER.\n"
     ]
    },
    {
     "name": "stdout",
     "output_type": "stream",
     "text": [
      "https://myherbal.ch/de/wp-content/uploads/2023/01/pack-aloe-fibra-y-te.jpg\n",
      "https://myherbal.ch/de/produs/herbalife-detox-pack-1/\n"
     ]
    },
    {
     "name": "stderr",
     "output_type": "stream",
     "text": [
      "Some characters could not be decoded, and were replaced with REPLACEMENT CHARACTER.\n"
     ]
    },
    {
     "name": "stdout",
     "output_type": "stream",
     "text": [
      "https://myherbal.ch/de/wp-content/uploads/2023/01/program-pentru-imbunatatirea-tranzitului-intestinal.jpg\n",
      "https://myherbal.ch/de/produs/herbalife-herz-packet/\n",
      "https://myherbal.ch/de/wp-content/uploads/2023/01/herbalife-heart-pack.jpeg\n"
     ]
    },
    {
     "name": "stderr",
     "output_type": "stream",
     "text": [
      "Some characters could not be decoded, and were replaced with REPLACEMENT CHARACTER.\n"
     ]
    },
    {
     "name": "stdout",
     "output_type": "stream",
     "text": [
      "https://myherbal.ch/de/produs/herbalife-immune-activation/\n",
      "https://myherbal.ch/de/wp-content/uploads/2023/01/pack-2-immune-activation-maenner.jpg\n"
     ]
    },
    {
     "name": "stderr",
     "output_type": "stream",
     "text": [
      "Some characters could not be decoded, and were replaced with REPLACEMENT CHARACTER.\n"
     ]
    },
    {
     "name": "stdout",
     "output_type": "stream",
     "text": [
      "https://myherbal.ch/de/produs/herbalife-basisprogramm-fortgeschritten-power/\n"
     ]
    },
    {
     "name": "stderr",
     "output_type": "stream",
     "text": [
      "Some characters could not be decoded, and were replaced with REPLACEMENT CHARACTER.\n"
     ]
    },
    {
     "name": "stdout",
     "output_type": "stream",
     "text": [
      "https://myherbal.ch/de/wp-content/uploads/2023/01/herbalifeprogramavansat.webp\n",
      "https://myherbal.ch/de/produs/gutes-fruehstueck-pack-2/\n"
     ]
    },
    {
     "name": "stderr",
     "output_type": "stream",
     "text": [
      "Some characters could not be decoded, and were replaced with REPLACEMENT CHARACTER.\n"
     ]
    },
    {
     "name": "stdout",
     "output_type": "stream",
     "text": [
      "https://myherbal.ch/de/wp-content/uploads/2023/01/herbalife-pack-2-gutes-fruehstueck.jpg\n",
      "https://myherbal.ch/de/produs/herbalife-skin-advanced-produktpack-normale-bis-fettige-haut/\n"
     ]
    },
    {
     "name": "stderr",
     "output_type": "stream",
     "text": [
      "Some characters could not be decoded, and were replaced with REPLACEMENT CHARACTER.\n"
     ]
    },
    {
     "name": "stdout",
     "output_type": "stream",
     "text": [
      "https://myherbal.ch/de/wp-content/uploads/2023/01/advanced-produktpack-normale-bis-fettige-haut.jpg\n",
      "https://myherbal.ch/de/produs/herbalife-skin-advanced-produktpack-normale-bis-trockene-haut/\n"
     ]
    },
    {
     "name": "stderr",
     "output_type": "stream",
     "text": [
      "Some characters could not be decoded, and were replaced with REPLACEMENT CHARACTER.\n"
     ]
    },
    {
     "name": "stdout",
     "output_type": "stream",
     "text": [
      "https://myherbal.ch/de/wp-content/uploads/2023/01/advanced-produktpack-normale-bis-trockene-haut.jpg\n",
      "https://myherbal.ch/de/produs/herbalife-skin-basis-produktpack-normale-bis-trockene-haut/\n"
     ]
    },
    {
     "name": "stderr",
     "output_type": "stream",
     "text": [
      "Some characters could not be decoded, and were replaced with REPLACEMENT CHARACTER.\n"
     ]
    },
    {
     "name": "stdout",
     "output_type": "stream",
     "text": [
      "https://myherbal.ch/de/wp-content/uploads/2023/01/basis-produktpack-normale-bis-trockene-haut.jpg\n",
      "https://myherbal.ch/de/produs/herbalife-formula-1-ohne-soja-laktose-und-gluten-himbeere-und-weisse-schokolade-500g/\n",
      "https://myherbal.ch/de/wp-content/uploads/2022/12/Formula1-ohne-Soja-Laktose-und-Gluten-Himbeere-und-Weisse-Schokolade-500g.png\n"
     ]
    },
    {
     "name": "stderr",
     "output_type": "stream",
     "text": [
      "Some characters could not be decoded, and were replaced with REPLACEMENT CHARACTER.\n"
     ]
    },
    {
     "name": "stdout",
     "output_type": "stream",
     "text": [
      "https://myherbal.ch/de/produs/herbalife-formula-1-shake-vanillecreme-780-g/\n",
      "https://myherbal.ch/de/wp-content/uploads/2022/12/Formula1-Shake-Vanillecreme-780g.png\n"
     ]
    },
    {
     "name": "stderr",
     "output_type": "stream",
     "text": [
      "Some characters could not be decoded, and were replaced with REPLACEMENT CHARACTER.\n"
     ]
    },
    {
     "name": "stdout",
     "output_type": "stream",
     "text": [
      "https://myherbal.ch/de/produs/herbalife-formula-1-shake-smooth-chocolate-packung-mit-7-portionspackungen/\n",
      "https://myherbal.ch/de/wp-content/uploads/2022/12/Formula-1-Shake-Smooth-Chocolate-Packung-mit-7-Portionspackungen.jpeg\n"
     ]
    },
    {
     "name": "stderr",
     "output_type": "stream",
     "text": [
      "Some characters could not be decoded, and were replaced with REPLACEMENT CHARACTER.\n"
     ]
    },
    {
     "name": "stdout",
     "output_type": "stream",
     "text": [
      "https://myherbal.ch/de/produs/herbalife-formula-1-shake-cookie-crunch-packung-mit-7-portionspackungen/\n",
      "https://myherbal.ch/de/wp-content/uploads/2022/12/Formula-1-Shake-Cookie-Crunch-Packung-mit-7-Portionspackungen.jpeg\n"
     ]
    },
    {
     "name": "stderr",
     "output_type": "stream",
     "text": [
      "Some characters could not be decoded, and were replaced with REPLACEMENT CHARACTER.\n"
     ]
    },
    {
     "name": "stdout",
     "output_type": "stream",
     "text": [
      "https://myherbal.ch/de/produs/instant-kraeutergetraenk-mit-tee-extrakten-original-102g/\n",
      "https://myherbal.ch/de/wp-content/uploads/2022/12/Instant-Krautergetrank-mit-Tee-Extrakten-Original-102g.jpeg\n"
     ]
    },
    {
     "name": "stderr",
     "output_type": "stream",
     "text": [
      "Some characters could not be decoded, and were replaced with REPLACEMENT CHARACTER.\n"
     ]
    },
    {
     "name": "stdout",
     "output_type": "stream",
     "text": [
      "https://myherbal.ch/de/produs/winter-energie-bundle-h24-liftoff-max/\n",
      "https://myherbal.ch/de/wp-content/uploads/2022/12/Winter-Energie-Bundle-H24-LiftOff-Max.png\n"
     ]
    },
    {
     "name": "stderr",
     "output_type": "stream",
     "text": [
      "Some characters could not be decoded, and were replaced with REPLACEMENT CHARACTER.\n"
     ]
    },
    {
     "name": "stdout",
     "output_type": "stream",
     "text": [
      "https://myherbal.ch/de/produs/winter-energie-bundle-aloe-vera-getraenkekonzentrat-mango/\n",
      "https://myherbal.ch/de/wp-content/uploads/2022/12/Winter-Energie-Bundle-Aloe-Vera-Getrankekonzentrat-Mango.png\n"
     ]
    },
    {
     "name": "stderr",
     "output_type": "stream",
     "text": [
      "Some characters could not be decoded, and were replaced with REPLACEMENT CHARACTER.\n"
     ]
    },
    {
     "name": "stdout",
     "output_type": "stream",
     "text": [
      "https://myherbal.ch/de/produs/gutes-fruehstueck-pack-1/\n"
     ]
    },
    {
     "name": "stderr",
     "output_type": "stream",
     "text": [
      "Some characters could not be decoded, and were replaced with REPLACEMENT CHARACTER.\n"
     ]
    },
    {
     "name": "stdout",
     "output_type": "stream",
     "text": [
      "https://myherbal.ch/de/wp-content/uploads/2022/12/herbalife-pack-1-gutes-fruehstueck.jpg\n",
      "https://myherbal.ch/de/produs/herbalife-basisprogramm-umwelt/\n"
     ]
    },
    {
     "name": "stderr",
     "output_type": "stream",
     "text": [
      "Some characters could not be decoded, and were replaced with REPLACEMENT CHARACTER.\n"
     ]
    },
    {
     "name": "stdout",
     "output_type": "stream",
     "text": [
      "https://myherbal.ch/de/wp-content/uploads/2022/12/herbalife-pack-3-gutes-fruehstueck.jpg\n",
      "https://myherbal.ch/de/produs/pack-3-fuer-ausdauersport-jogger-triathlon-fussball/\n"
     ]
    },
    {
     "name": "stderr",
     "output_type": "stream",
     "text": [
      "Some characters could not be decoded, and were replaced with REPLACEMENT CHARACTER.\n"
     ]
    },
    {
     "name": "stdout",
     "output_type": "stream",
     "text": [
      "https://myherbal.ch/de/wp-content/uploads/2022/12/herbalife-pack-3-fuer-ausdauersport-jogger-triathlon-fussball.jpg\n",
      "https://myherbal.ch/de/produs/pack-2-fuer-kraftsportler/\n"
     ]
    },
    {
     "name": "stderr",
     "output_type": "stream",
     "text": [
      "Some characters could not be decoded, and were replaced with REPLACEMENT CHARACTER.\n"
     ]
    },
    {
     "name": "stdout",
     "output_type": "stream",
     "text": [
      "https://myherbal.ch/de/wp-content/uploads/2022/12/herbalife-pack-2-fuer-kraftsportler.jpg\n",
      "https://myherbal.ch/de/produs/pack-1-fuer-freizeitsportler/\n"
     ]
    },
    {
     "name": "stderr",
     "output_type": "stream",
     "text": [
      "Some characters could not be decoded, and were replaced with REPLACEMENT CHARACTER.\n"
     ]
    },
    {
     "name": "stdout",
     "output_type": "stream",
     "text": [
      "https://myherbal.ch/de/wp-content/uploads/2022/12/herbalife-pack-1-fuer-freizeitsportler.jpg\n",
      "https://myherbal.ch/de/produs/herbalife-nutrition-tasche/\n",
      "https://myherbal.ch/de/wp-content/uploads/2022/12/Herbalife-Nutrition-Tasche.png\n"
     ]
    },
    {
     "name": "stderr",
     "output_type": "stream",
     "text": [
      "Some characters could not be decoded, and were replaced with REPLACEMENT CHARACTER.\n"
     ]
    },
    {
     "name": "stdout",
     "output_type": "stream",
     "text": [
      "https://myherbal.ch/de/produs/herbal-aloe-bundle/\n",
      "https://myherbal.ch/de/wp-content/uploads/2022/11/Herbal-Aloe-Bundle.jpeg\n"
     ]
    },
    {
     "name": "stderr",
     "output_type": "stream",
     "text": [
      "Some characters could not be decoded, and were replaced with REPLACEMENT CHARACTER.\n"
     ]
    },
    {
     "name": "stdout",
     "output_type": "stream",
     "text": [
      "https://myherbal.ch/de/produs/h24-trinkflasche-750-ml/\n"
     ]
    },
    {
     "name": "stderr",
     "output_type": "stream",
     "text": [
      "Some characters could not be decoded, and were replaced with REPLACEMENT CHARACTER.\n"
     ]
    },
    {
     "name": "stdout",
     "output_type": "stream",
     "text": [
      "https://myherbal.ch/de/wp-content/uploads/2022/11/H24-Sportflasche-750ml.png\n",
      "https://myherbal.ch/de/produs/tablettenzerkleinerer/\n",
      "https://myherbal.ch/de/wp-content/uploads/2022/11/Tablettenzerkleinerer.png\n"
     ]
    },
    {
     "name": "stderr",
     "output_type": "stream",
     "text": [
      "Some characters could not be decoded, and were replaced with REPLACEMENT CHARACTER.\n"
     ]
    },
    {
     "name": "stdout",
     "output_type": "stream",
     "text": [
      "https://myherbal.ch/de/produs/h24-trinkflasche-500-ml/\n",
      "https://myherbal.ch/de/wp-content/uploads/2022/11/H24-Trinkflasche-500-ml.png\n"
     ]
    },
    {
     "name": "stderr",
     "output_type": "stream",
     "text": [
      "Some characters could not be decoded, and were replaced with REPLACEMENT CHARACTER.\n"
     ]
    },
    {
     "name": "stdout",
     "output_type": "stream",
     "text": [
      "https://myherbal.ch/de/produs/tablettenbehalter/\n",
      "https://myherbal.ch/de/wp-content/uploads/2022/11/Herbalife-Tablettenbehalter.png\n"
     ]
    },
    {
     "name": "stderr",
     "output_type": "stream",
     "text": [
      "Some characters could not be decoded, and were replaced with REPLACEMENT CHARACTER.\n"
     ]
    },
    {
     "name": "stdout",
     "output_type": "stream",
     "text": [
      "https://myherbal.ch/de/produs/herbalife-liftoff-energy-drink/\n",
      "https://myherbal.ch/de/wp-content/uploads/2022/11/Liftoff-Zitronengeschmack.png\n"
     ]
    },
    {
     "name": "stderr",
     "output_type": "stream",
     "text": [
      "Some characters could not be decoded, and were replaced with REPLACEMENT CHARACTER.\n"
     ]
    },
    {
     "name": "stdout",
     "output_type": "stream",
     "text": [
      "https://myherbal.ch/de/produs/herbalife-ernahrung-aktiv/\n"
     ]
    },
    {
     "name": "stderr",
     "output_type": "stream",
     "text": [
      "Some characters could not be decoded, and were replaced with REPLACEMENT CHARACTER.\n"
     ]
    },
    {
     "name": "stdout",
     "output_type": "stream",
     "text": [
      "https://myherbal.ch/de/wp-content/uploads/2022/11/herbalife-Ernahrung-Aktiv.png\n",
      "https://myherbal.ch/de/produs/herbalife-xtra-cal/\n",
      "https://myherbal.ch/de/wp-content/uploads/2022/11/0020-de-xtra-cal.jpg\n"
     ]
    },
    {
     "name": "stderr",
     "output_type": "stream",
     "text": [
      "Some characters could not be decoded, and were replaced with REPLACEMENT CHARACTER.\n"
     ]
    },
    {
     "name": "stdout",
     "output_type": "stream",
     "text": [
      "https://myherbal.ch/de/produs/herbalife-microbiotic-max-40g/\n",
      "https://myherbal.ch/de/wp-content/uploads/2022/11/Herbalife-Microbiotic-Max-40g1.png\n"
     ]
    },
    {
     "name": "stderr",
     "output_type": "stream",
     "text": [
      "Some characters could not be decoded, and were replaced with REPLACEMENT CHARACTER.\n"
     ]
    },
    {
     "name": "stdout",
     "output_type": "stream",
     "text": [
      "https://myherbal.ch/de/wp-content/uploads/2022/11/Herbalife-Microbiotic-Max-40g.jpg\n"
     ]
    },
    {
     "name": "stderr",
     "output_type": "stream",
     "text": [
      "Some characters could not be decoded, and were replaced with REPLACEMENT CHARACTER.\n"
     ]
    },
    {
     "name": "stdout",
     "output_type": "stream",
     "text": [
      "https://myherbal.ch/de/wp-content/uploads/2022/11/microbiotic-max-vanillegeschmack-20-portionspackungen.jpg\n"
     ]
    },
    {
     "name": "stderr",
     "output_type": "stream",
     "text": [
      "Some characters could not be decoded, and were replaced with REPLACEMENT CHARACTER.\n"
     ]
    },
    {
     "name": "stdout",
     "output_type": "stream",
     "text": [
      "https://myherbal.ch/de/wp-content/uploads/2022/11/herbalife-microbiotic1.png\n"
     ]
    },
    {
     "name": "stderr",
     "output_type": "stream",
     "text": [
      "Some characters could not be decoded, and were replaced with REPLACEMENT CHARACTER.\n"
     ]
    },
    {
     "name": "stdout",
     "output_type": "stream",
     "text": [
      "https://myherbal.ch/de/wp-content/uploads/2022/11/herbalife-microbiotic.png\n"
     ]
    },
    {
     "name": "stderr",
     "output_type": "stream",
     "text": [
      "Some characters could not be decoded, and were replaced with REPLACEMENT CHARACTER.\n"
     ]
    },
    {
     "name": "stdout",
     "output_type": "stream",
     "text": [
      "https://myherbal.ch/de/produs/herbalife-gourmet-tomatensuppe-672g/\n",
      "https://myherbal.ch/de/wp-content/uploads/2022/11/Herbalife-Gourmet-Tomatensuppe-672g.png\n"
     ]
    },
    {
     "name": "stderr",
     "output_type": "stream",
     "text": [
      "Some characters could not be decoded, and were replaced with REPLACEMENT CHARACTER.\n"
     ]
    },
    {
     "name": "stdout",
     "output_type": "stream",
     "text": [
      "https://myherbal.ch/de/produs/herbalife-geroestete-sojabohnen-12-portionen/\n",
      "https://myherbal.ch/de/wp-content/uploads/2022/11/Herbalife-Gerostete-Sojabohnen-258-g.png\n"
     ]
    },
    {
     "name": "stderr",
     "output_type": "stream",
     "text": [
      "Some characters could not be decoded, and were replaced with REPLACEMENT CHARACTER.\n"
     ]
    },
    {
     "name": "stdout",
     "output_type": "stream",
     "text": [
      "https://myherbal.ch/de/produs/herbalife-protein-chips-barbecue-10x30g/\n",
      "https://myherbal.ch/de/wp-content/uploads/2022/11/Herbalife-Protein-Chips-Barbecue-10x30g.png\n"
     ]
    },
    {
     "name": "stderr",
     "output_type": "stream",
     "text": [
      "Some characters could not be decoded, and were replaced with REPLACEMENT CHARACTER.\n"
     ]
    },
    {
     "name": "stdout",
     "output_type": "stream",
     "text": [
      "https://myherbal.ch/de/wp-content/uploads/2022/11/Herbalife_protein_chips_beide.jpg\n"
     ]
    },
    {
     "name": "stderr",
     "output_type": "stream",
     "text": [
      "Some characters could not be decoded, and were replaced with REPLACEMENT CHARACTER.\n"
     ]
    },
    {
     "name": "stdout",
     "output_type": "stream",
     "text": [
      "https://myherbal.ch/de/wp-content/uploads/2022/11/herbalife-protein-chips.png\n"
     ]
    },
    {
     "name": "stderr",
     "output_type": "stream",
     "text": [
      "Some characters could not be decoded, and were replaced with REPLACEMENT CHARACTER.\n"
     ]
    },
    {
     "name": "stdout",
     "output_type": "stream",
     "text": [
      "https://myherbal.ch/de/wp-content/uploads/2022/11/herbalife-protein-chips2.png\n"
     ]
    },
    {
     "name": "stderr",
     "output_type": "stream",
     "text": [
      "Some characters could not be decoded, and were replaced with REPLACEMENT CHARACTER.\n"
     ]
    },
    {
     "name": "stdout",
     "output_type": "stream",
     "text": [
      "https://myherbal.ch/de/produs/herbalife-protein-chips-sour-cream-onion-10x30g/\n",
      "https://myherbal.ch/de/wp-content/uploads/2022/11/Protein-Chips-Sour-CreamOnion-10x30g.png\n"
     ]
    },
    {
     "name": "stderr",
     "output_type": "stream",
     "text": [
      "Some characters could not be decoded, and were replaced with REPLACEMENT CHARACTER.\n"
     ]
    },
    {
     "name": "stdout",
     "output_type": "stream",
     "text": [
      "https://myherbal.ch/de/produs/herbalife-basisprogramm-erforderlich/\n",
      "https://myherbal.ch/de/wp-content/uploads/2022/10/Program-remodelare-baza-1-600x600-1.png\n"
     ]
    },
    {
     "name": "stderr",
     "output_type": "stream",
     "text": [
      "Some characters could not be decoded, and were replaced with REPLACEMENT CHARACTER.\n"
     ]
    },
    {
     "name": "stdout",
     "output_type": "stream",
     "text": [
      "https://myherbal.ch/de/produs/herbalife-formula-1-herzhafte-mahlzeit-kraeuter-pilz-geschmack-550-g/\n",
      "https://myherbal.ch/de/wp-content/uploads/2022/10/Formula1-Herzhafte-Mahlzeit-Kraeuter-Pilz-Geschmack550g.png\n"
     ]
    },
    {
     "name": "stderr",
     "output_type": "stream",
     "text": [
      "Some characters could not be decoded, and were replaced with REPLACEMENT CHARACTER.\n"
     ]
    },
    {
     "name": "stdout",
     "output_type": "stream",
     "text": [
      "https://myherbal.ch/de/wp-content/uploads/2022/10/herbalife-formula1-pilzen.png\n"
     ]
    },
    {
     "name": "stderr",
     "output_type": "stream",
     "text": [
      "Some characters could not be decoded, and were replaced with REPLACEMENT CHARACTER.\n"
     ]
    },
    {
     "name": "stdout",
     "output_type": "stream",
     "text": [
      "https://myherbal.ch/de/produs/herbalifeline-max-omega-3-42g/\n",
      "https://myherbal.ch/de/wp-content/uploads/2022/10/Herbalifeline-Max42g-1.png\n"
     ]
    },
    {
     "name": "stderr",
     "output_type": "stream",
     "text": [
      "Some characters could not be decoded, and were replaced with REPLACEMENT CHARACTER.\n"
     ]
    },
    {
     "name": "stdout",
     "output_type": "stream",
     "text": [
      "https://myherbal.ch/de/wp-content/uploads/2022/10/herbalife_0043_herbalifelinemax_kaufen2-1.jpg\n"
     ]
    },
    {
     "name": "stderr",
     "output_type": "stream",
     "text": [
      "Some characters could not be decoded, and were replaced with REPLACEMENT CHARACTER.\n"
     ]
    },
    {
     "name": "stdout",
     "output_type": "stream",
     "text": [
      "https://myherbal.ch/de/produs/herbalife-protein-back-mix-limitierte-edition-480-g/\n",
      "https://myherbal.ch/de/wp-content/uploads/2022/10/Protein-Back-Mix-Limitierte-Edition480g-1.jpeg\n"
     ]
    },
    {
     "name": "stderr",
     "output_type": "stream",
     "text": [
      "Some characters could not be decoded, and were replaced with REPLACEMENT CHARACTER.\n"
     ]
    },
    {
     "name": "stdout",
     "output_type": "stream",
     "text": [
      "https://myherbal.ch/de/wp-content/uploads/2022/10/herbalife-protein-back-mix.png\n"
     ]
    },
    {
     "name": "stderr",
     "output_type": "stream",
     "text": [
      "Some characters could not be decoded, and were replaced with REPLACEMENT CHARACTER.\n"
     ]
    },
    {
     "name": "stdout",
     "output_type": "stream",
     "text": [
      "https://myherbal.ch/de/wp-content/uploads/2022/10/proteinback.png\n"
     ]
    },
    {
     "name": "stderr",
     "output_type": "stream",
     "text": [
      "Some characters could not be decoded, and were replaced with REPLACEMENT CHARACTER.\n"
     ]
    },
    {
     "name": "stdout",
     "output_type": "stream",
     "text": [
      "https://myherbal.ch/de/produs/herbalife-gewichtszunahmeprogramm-mindestpaket/\n",
      "https://myherbal.ch/de/wp-content/uploads/2022/09/Program-ingrasare1-1.jpg\n"
     ]
    },
    {
     "name": "stderr",
     "output_type": "stream",
     "text": [
      "Some characters could not be decoded, and were replaced with REPLACEMENT CHARACTER.\n"
     ]
    },
    {
     "name": "stdout",
     "output_type": "stream",
     "text": [
      "https://myherbal.ch/de/produs/herbalife-basisprogramm-fortgeschritten-frauen/\n",
      "https://myherbal.ch/de/wp-content/uploads/2022/09/Program-remodelare-avansat-femei-600x600-2-1.png\n"
     ]
    },
    {
     "name": "stderr",
     "output_type": "stream",
     "text": [
      "Some characters could not be decoded, and were replaced with REPLACEMENT CHARACTER.\n"
     ]
    },
    {
     "name": "stdout",
     "output_type": "stream",
     "text": [
      "https://myherbal.ch/de/produs/herbalife-basisprogramm-ideal/\n",
      "https://myherbal.ch/de/wp-content/uploads/2022/09/Program-remodelare-recomandat-600x600-2.png\n"
     ]
    },
    {
     "name": "stderr",
     "output_type": "stream",
     "text": [
      "Some characters could not be decoded, and were replaced with REPLACEMENT CHARACTER.\n"
     ]
    },
    {
     "name": "stdout",
     "output_type": "stream",
     "text": [
      "https://myherbal.ch/de/produs/herbalife-gutes-fruehstueck-pack-3/\n",
      "https://myherbal.ch/de/wp-content/uploads/2022/09/Program-remodelare-mediu-600x600-3.png\n"
     ]
    },
    {
     "name": "stderr",
     "output_type": "stream",
     "text": [
      "Some characters could not be decoded, and were replaced with REPLACEMENT CHARACTER.\n"
     ]
    },
    {
     "name": "stdout",
     "output_type": "stream",
     "text": [
      "https://myherbal.ch/de/produs/herbalife-immune-booster-21-portionspackungen-wild-berry/\n",
      "https://myherbal.ch/de/wp-content/uploads/2022/09/Immune-Booster-21-Portionspackungen-Wild-Berry-1.jpeg\n"
     ]
    },
    {
     "name": "stderr",
     "output_type": "stream",
     "text": [
      "Some characters could not be decoded, and were replaced with REPLACEMENT CHARACTER.\n"
     ]
    },
    {
     "name": "stdout",
     "output_type": "stream",
     "text": [
      "https://myherbal.ch/de/wp-content/uploads/2022/09/herbalife-immune-booster.png\n"
     ]
    },
    {
     "name": "stderr",
     "output_type": "stream",
     "text": [
      "Some characters could not be decoded, and were replaced with REPLACEMENT CHARACTER.\n"
     ]
    },
    {
     "name": "stdout",
     "output_type": "stream",
     "text": [
      "https://myherbal.ch/de/wp-content/uploads/2023/02/herbalife-immune-booster1.png\n"
     ]
    },
    {
     "name": "stderr",
     "output_type": "stream",
     "text": [
      "Some characters could not be decoded, and were replaced with REPLACEMENT CHARACTER.\n"
     ]
    },
    {
     "name": "stdout",
     "output_type": "stream",
     "text": [
      "https://myherbal.ch/de/produs/herbalife-niteworks/\n",
      "https://myherbal.ch/de/wp-content/uploads/2022/09/Niteworks.png\n"
     ]
    },
    {
     "name": "stderr",
     "output_type": "stream",
     "text": [
      "Some characters could not be decoded, and were replaced with REPLACEMENT CHARACTER.\n"
     ]
    },
    {
     "name": "stdout",
     "output_type": "stream",
     "text": [
      "https://myherbal.ch/de/produs/herbalife-thermo-complete-90-tabletten/\n"
     ]
    },
    {
     "name": "stderr",
     "output_type": "stream",
     "text": [
      "Some characters could not be decoded, and were replaced with REPLACEMENT CHARACTER.\n"
     ]
    },
    {
     "name": "stdout",
     "output_type": "stream",
     "text": [
      "https://myherbal.ch/de/wp-content/uploads/2022/09/Thermo-Complete-90-Tabletten.jpg\n",
      "https://myherbal.ch/de/produs/herbalife-formula-2-vitamin-mineral-komplex-fuer-maenner-84-3g/\n",
      "https://myherbal.ch/de/wp-content/uploads/2022/09/Formula2-Vitamin-Mineral-Komplex-fur-Manner84.3g-1.png\n"
     ]
    },
    {
     "name": "stderr",
     "output_type": "stream",
     "text": [
      "Some characters could not be decoded, and were replaced with REPLACEMENT CHARACTER.\n"
     ]
    },
    {
     "name": "stdout",
     "output_type": "stream",
     "text": [
      "https://myherbal.ch/de/produs/herbalife-formula-2-vitamin-mineral-komplex-fuer-frauen-84-3g/\n",
      "https://myherbal.ch/de/wp-content/uploads/2022/09/Formula2-Vitamin-Mineral-Komplex-fuer-Frauen84.3g-1.png\n"
     ]
    },
    {
     "name": "stderr",
     "output_type": "stream",
     "text": [
      "Some characters could not be decoded, and were replaced with REPLACEMENT CHARACTER.\n"
     ]
    },
    {
     "name": "stdout",
     "output_type": "stream",
     "text": [
      "https://myherbal.ch/de/produs/herbalife-formula-3-personalized-protein-powder-240g/\n",
      "https://myherbal.ch/de/wp-content/uploads/2022/09/Formula3-Personalized-Protein-Powder240g-1.png\n"
     ]
    },
    {
     "name": "stderr",
     "output_type": "stream",
     "text": [
      "Some characters could not be decoded, and were replaced with REPLACEMENT CHARACTER.\n"
     ]
    },
    {
     "name": "stdout",
     "output_type": "stream",
     "text": [
      "https://myherbal.ch/de/produs/herbalife-high-protein-iced-coffee-mocha-322g/\n",
      "https://myherbal.ch/de/wp-content/uploads/2022/09/High-Protein-Iced-Coffee-Mocha322g-1.png\n"
     ]
    },
    {
     "name": "stderr",
     "output_type": "stream",
     "text": [
      "Some characters could not be decoded, and were replaced with REPLACEMENT CHARACTER.\n"
     ]
    },
    {
     "name": "stdout",
     "output_type": "stream",
     "text": [
      "https://myherbal.ch/de/wp-content/uploads/2022/09/highprotein.png\n"
     ]
    },
    {
     "name": "stderr",
     "output_type": "stream",
     "text": [
      "Some characters could not be decoded, and were replaced with REPLACEMENT CHARACTER.\n"
     ]
    },
    {
     "name": "stdout",
     "output_type": "stream",
     "text": [
      "https://myherbal.ch/de/wp-content/uploads/2022/09/highprotein1.png\n"
     ]
    },
    {
     "name": "stderr",
     "output_type": "stream",
     "text": [
      "Some characters could not be decoded, and were replaced with REPLACEMENT CHARACTER.\n"
     ]
    },
    {
     "name": "stdout",
     "output_type": "stream",
     "text": [
      "https://myherbal.ch/de/produs/herbalife-high-protein-iced-coffee-latte-macchiato-308g/\n",
      "https://myherbal.ch/de/wp-content/uploads/2022/09/High-Protein-Iced-Coffee-Latte-Macchiato308g-1.png\n"
     ]
    },
    {
     "name": "stderr",
     "output_type": "stream",
     "text": [
      "Some characters could not be decoded, and were replaced with REPLACEMENT CHARACTER.\n"
     ]
    },
    {
     "name": "stdout",
     "output_type": "stream",
     "text": [
      "https://myherbal.ch/de/produs/herbalife-tri-blend-select-coffee-caramel-600g/\n",
      "https://myherbal.ch/de/wp-content/uploads/2022/09/Tri-Blend-Select-Coffee-caramel600g-1.png\n"
     ]
    },
    {
     "name": "stderr",
     "output_type": "stream",
     "text": [
      "Some characters could not be decoded, and were replaced with REPLACEMENT CHARACTER.\n"
     ]
    },
    {
     "name": "stdout",
     "output_type": "stream",
     "text": [
      "https://myherbal.ch/de/produs/herbalife-tri-blend-select-banana-600g/\n",
      "https://myherbal.ch/de/wp-content/uploads/2022/09/Tri-Blend-Select-Banana600g-1.png\n"
     ]
    },
    {
     "name": "stderr",
     "output_type": "stream",
     "text": [
      "Some characters could not be decoded, and were replaced with REPLACEMENT CHARACTER.\n"
     ]
    },
    {
     "name": "stdout",
     "output_type": "stream",
     "text": [
      "https://myherbal.ch/de/produs/herbalife-tee-instantgetrank-mit-pflanzenextrakten-himbeere-50-g/\n",
      "https://myherbal.ch/de/wp-content/uploads/2022/09/Instantgetraenk-mit-Pflanzenextrakten-Himbeere50g-1.png\n"
     ]
    },
    {
     "name": "stderr",
     "output_type": "stream",
     "text": [
      "Some characters could not be decoded, and were replaced with REPLACEMENT CHARACTER.\n"
     ]
    },
    {
     "name": "stdout",
     "output_type": "stream",
     "text": [
      "https://myherbal.ch/de/produs/herbalife-tee-instantgetrank-mit-pflanzenextrakten-original-50-g/\n",
      "https://myherbal.ch/de/wp-content/uploads/2022/09/Instantgetraenk-mit-Pflanzenextrakten-Original50g-1.png\n"
     ]
    },
    {
     "name": "stderr",
     "output_type": "stream",
     "text": [
      "Some characters could not be decoded, and were replaced with REPLACEMENT CHARACTER.\n"
     ]
    },
    {
     "name": "stdout",
     "output_type": "stream",
     "text": [
      "https://myherbal.ch/de/produs/herbalife-tee-instantgetrank-mit-pflanzenextrakten-pfirsich-50g/\n",
      "https://myherbal.ch/de/wp-content/uploads/2022/09/Instantgetraenk-mit-Pflanzenextrakten-Pfirsich50g-1.png\n"
     ]
    },
    {
     "name": "stderr",
     "output_type": "stream",
     "text": [
      "Some characters could not be decoded, and were replaced with REPLACEMENT CHARACTER.\n"
     ]
    },
    {
     "name": "stdout",
     "output_type": "stream",
     "text": [
      "https://myherbal.ch/de/produs/h24-achieve-protein-riegel-dark-chocolate-geschmack-6x60g/\n",
      "https://myherbal.ch/de/wp-content/uploads/2022/09/H24-Achieve-Protein-Riegel-Dark-Chocolate-Geschmack-6x60g-1.jpeg\n"
     ]
    },
    {
     "name": "stderr",
     "output_type": "stream",
     "text": [
      "Some characters could not be decoded, and were replaced with REPLACEMENT CHARACTER.\n"
     ]
    },
    {
     "name": "stdout",
     "output_type": "stream",
     "text": [
      "https://myherbal.ch/de/wp-content/uploads/2022/09/herbalife-riegel-dark-chocholate.png\n"
     ]
    },
    {
     "name": "stderr",
     "output_type": "stream",
     "text": [
      "Some characters could not be decoded, and were replaced with REPLACEMENT CHARACTER.\n"
     ]
    },
    {
     "name": "stdout",
     "output_type": "stream",
     "text": [
      "https://myherbal.ch/de/produs/herbalife-h24-liftoff-max-grapefruit-geschmack-10-portionspackungen/\n",
      "https://myherbal.ch/de/wp-content/uploads/2022/09/H24-LiftOff-Max-Grapefruit-Geschmack-1.jpeg\n"
     ]
    },
    {
     "name": "stderr",
     "output_type": "stream",
     "text": [
      "Some characters could not be decoded, and were replaced with REPLACEMENT CHARACTER.\n"
     ]
    },
    {
     "name": "stdout",
     "output_type": "stream",
     "text": [
      "https://myherbal.ch/de/wp-content/uploads/2022/09/herbalife-liftoff-max2.png\n"
     ]
    },
    {
     "name": "stderr",
     "output_type": "stream",
     "text": [
      "Some characters could not be decoded, and were replaced with REPLACEMENT CHARACTER.\n"
     ]
    },
    {
     "name": "stdout",
     "output_type": "stream",
     "text": [
      "https://myherbal.ch/de/produs/herbalife-cr7-drive-portionspackungen-acai-beere-270-g/\n",
      "https://myherbal.ch/de/wp-content/uploads/2022/09/CR7-Drive-Portionspackungen-Acai-Beere270g-1.png\n"
     ]
    },
    {
     "name": "stderr",
     "output_type": "stream",
     "text": [
      "Some characters could not be decoded, and were replaced with REPLACEMENT CHARACTER.\n"
     ]
    },
    {
     "name": "stdout",
     "output_type": "stream",
     "text": [
      "https://myherbal.ch/de/wp-content/uploads/2022/09/herbalife-cr7.jpg\n"
     ]
    },
    {
     "name": "stderr",
     "output_type": "stream",
     "text": [
      "Some characters could not be decoded, and were replaced with REPLACEMENT CHARACTER.\n"
     ]
    },
    {
     "name": "stdout",
     "output_type": "stream",
     "text": [
      "https://myherbal.ch/de/produs/herbalife-cr7-drive-behaelter-acai-beere-540-g/\n",
      "https://myherbal.ch/de/wp-content/uploads/2022/09/CR7-Drive-Behaelter-Acai-Beere540g-1.png\n"
     ]
    },
    {
     "name": "stderr",
     "output_type": "stream",
     "text": [
      "Some characters could not be decoded, and were replaced with REPLACEMENT CHARACTER.\n"
     ]
    },
    {
     "name": "stdout",
     "output_type": "stream",
     "text": [
      "https://myherbal.ch/de/wp-content/uploads/2022/09/herbalife-cr7-2.jpg\n"
     ]
    },
    {
     "name": "stderr",
     "output_type": "stream",
     "text": [
      "Some characters could not be decoded, and were replaced with REPLACEMENT CHARACTER.\n"
     ]
    },
    {
     "name": "stdout",
     "output_type": "stream",
     "text": [
      "https://myherbal.ch/de/produs/herbalife-h24-prolong-limone-900g/\n",
      "https://myherbal.ch/de/wp-content/uploads/2022/09/H24-Prolong-Limone-900g-1.png\n"
     ]
    },
    {
     "name": "stderr",
     "output_type": "stream",
     "text": [
      "Some characters could not be decoded, and were replaced with REPLACEMENT CHARACTER.\n"
     ]
    },
    {
     "name": "stdout",
     "output_type": "stream",
     "text": [
      "https://myherbal.ch/de/wp-content/uploads/2022/09/herbalife-prolong.jpg\n"
     ]
    },
    {
     "name": "stderr",
     "output_type": "stream",
     "text": [
      "Some characters could not be decoded, and were replaced with REPLACEMENT CHARACTER.\n"
     ]
    },
    {
     "name": "stdout",
     "output_type": "stream",
     "text": [
      "https://myherbal.ch/de/produs/herbalife-h24-hydrate-orange-20-x-5-3g/\n",
      "https://myherbal.ch/de/wp-content/uploads/2022/09/H24-Hydrate-Orange20x5.3g-1.png\n"
     ]
    },
    {
     "name": "stderr",
     "output_type": "stream",
     "text": [
      "Some characters could not be decoded, and were replaced with REPLACEMENT CHARACTER.\n"
     ]
    },
    {
     "name": "stdout",
     "output_type": "stream",
     "text": [
      "https://myherbal.ch/de/wp-content/uploads/2022/09/herbalife-hydrate1.jpg\n"
     ]
    },
    {
     "name": "stderr",
     "output_type": "stream",
     "text": [
      "Some characters could not be decoded, and were replaced with REPLACEMENT CHARACTER.\n"
     ]
    },
    {
     "name": "stdout",
     "output_type": "stream",
     "text": [
      "https://myherbal.ch/de/produs/herbalife-h24-restore-30-kapseln/\n",
      "https://myherbal.ch/de/wp-content/uploads/2022/09/H24-Restore-30Kapseln-1.png\n"
     ]
    },
    {
     "name": "stderr",
     "output_type": "stream",
     "text": [
      "Some characters could not be decoded, and were replaced with REPLACEMENT CHARACTER.\n"
     ]
    },
    {
     "name": "stdout",
     "output_type": "stream",
     "text": [
      "https://myherbal.ch/de/wp-content/uploads/2022/09/herbalife-restore-1.jpg\n"
     ]
    },
    {
     "name": "stderr",
     "output_type": "stream",
     "text": [
      "Some characters could not be decoded, and were replaced with REPLACEMENT CHARACTER.\n"
     ]
    },
    {
     "name": "stdout",
     "output_type": "stream",
     "text": [
      "https://myherbal.ch/de/produs/h24-formula-1-sport-vanille-524g/\n",
      "https://myherbal.ch/de/wp-content/uploads/2022/09/H24-Formula1-Sport-Vanille-1.png\n"
     ]
    },
    {
     "name": "stderr",
     "output_type": "stream",
     "text": [
      "Some characters could not be decoded, and were replaced with REPLACEMENT CHARACTER.\n"
     ]
    },
    {
     "name": "stdout",
     "output_type": "stream",
     "text": [
      "https://myherbal.ch/de/wp-content/uploads/2022/09/herbalife-formula1-sport24.jpg\n"
     ]
    },
    {
     "name": "stderr",
     "output_type": "stream",
     "text": [
      "Some characters could not be decoded, and were replaced with REPLACEMENT CHARACTER.\n"
     ]
    },
    {
     "name": "stdout",
     "output_type": "stream",
     "text": [
      "https://myherbal.ch/de/produs/15-meter-massband-herbalife-nutrition-einzeln/\n",
      "https://myherbal.ch/de/wp-content/uploads/2022/09/1.5Meter-Massband-Herbalife-Nutrition-Einzeln-1.png\n"
     ]
    },
    {
     "name": "stderr",
     "output_type": "stream",
     "text": [
      "Some characters could not be decoded, and were replaced with REPLACEMENT CHARACTER.\n"
     ]
    },
    {
     "name": "stdout",
     "output_type": "stream",
     "text": [
      "https://myherbal.ch/de/produs/herbalife-nutrition-kochbuch-band-1/\n",
      "https://myherbal.ch/de/wp-content/uploads/2022/09/Herbalife-Nutrition-Kochbuch-Band1-1.png\n"
     ]
    },
    {
     "name": "stderr",
     "output_type": "stream",
     "text": [
      "Some characters could not be decoded, and were replaced with REPLACEMENT CHARACTER.\n"
     ]
    },
    {
     "name": "stdout",
     "output_type": "stream",
     "text": [
      "https://myherbal.ch/de/produs/herbalife-badeschwamm/\n",
      "https://myherbal.ch/de/wp-content/uploads/2022/09/Herbalife-Badeschwamm-1.png\n"
     ]
    },
    {
     "name": "stderr",
     "output_type": "stream",
     "text": [
      "Some characters could not be decoded, and were replaced with REPLACEMENT CHARACTER.\n"
     ]
    },
    {
     "name": "stdout",
     "output_type": "stream",
     "text": [
      "https://myherbal.ch/de/produs/herbalife-super-shaker/\n",
      "https://myherbal.ch/de/wp-content/uploads/2022/09/Super-Shaker-1.png\n"
     ]
    },
    {
     "name": "stderr",
     "output_type": "stream",
     "text": [
      "Some characters could not be decoded, and were replaced with REPLACEMENT CHARACTER.\n"
     ]
    },
    {
     "name": "stdout",
     "output_type": "stream",
     "text": [
      "https://myherbal.ch/de/produs/herbalife-starter-kit-nutrition-1-set/\n",
      "https://myherbal.ch/de/wp-content/uploads/2022/09/Starter-Kit-Herbalife-Nutrition1Set-1.jpeg\n"
     ]
    },
    {
     "name": "stderr",
     "output_type": "stream",
     "text": [
      "Some characters could not be decoded, and were replaced with REPLACEMENT CHARACTER.\n"
     ]
    },
    {
     "name": "stdout",
     "output_type": "stream",
     "text": [
      "https://myherbal.ch/de/produs/shaker-herbalife-nutrition-einzeln/\n",
      "https://myherbal.ch/de/wp-content/uploads/2022/09/Shaker-Herbalife-Nutrition-Einzeln-1.png\n"
     ]
    },
    {
     "name": "stderr",
     "output_type": "stream",
     "text": [
      "Some characters could not be decoded, and were replaced with REPLACEMENT CHARACTER.\n",
      "Some characters could not be decoded, and were replaced with REPLACEMENT CHARACTER.\n"
     ]
    },
    {
     "name": "stdout",
     "output_type": "stream",
     "text": [
      "https://myherbal.ch/de/wp-content/uploads/2022/09/61O9IkDiJiL._AC_SX679_.jpg\n",
      "https://myherbal.ch/de/produs/herbalife-formula-1-express-riegel-dark-chocolate-7-x-56g/\n"
     ]
    },
    {
     "name": "stderr",
     "output_type": "stream",
     "text": [
      "Some characters could not be decoded, and were replaced with REPLACEMENT CHARACTER.\n"
     ]
    },
    {
     "name": "stdout",
     "output_type": "stream",
     "text": [
      "https://myherbal.ch/de/wp-content/uploads/2022/09/Formula1-Express-Riegel-Dark-Chocolate7x56g-1.jpeg\n",
      "https://myherbal.ch/de/wp-content/uploads/2022/09/herbalife-formula1-riegel.jpg\n"
     ]
    },
    {
     "name": "stderr",
     "output_type": "stream",
     "text": [
      "Some characters could not be decoded, and were replaced with REPLACEMENT CHARACTER.\n"
     ]
    },
    {
     "name": "stdout",
     "output_type": "stream",
     "text": [
      "https://myherbal.ch/de/produs/protein-riegel-vanille-mandel-14-x-35g/\n",
      "https://myherbal.ch/de/wp-content/uploads/2022/09/Protein-Riegel14-RiegelVanille-Mandel14x35g-1.png\n"
     ]
    },
    {
     "name": "stderr",
     "output_type": "stream",
     "text": [
      "Some characters could not be decoded, and were replaced with REPLACEMENT CHARACTER.\n"
     ]
    },
    {
     "name": "stdout",
     "output_type": "stream",
     "text": [
      "https://myherbal.ch/de/produs/protein-riegel-schokolade-erdnuss-14-x-35g/\n",
      "https://myherbal.ch/de/wp-content/uploads/2022/09/Protein-Riegel14-RiegelSchokolade-Erdnuss14x35g-1.png\n"
     ]
    },
    {
     "name": "stderr",
     "output_type": "stream",
     "text": [
      "Some characters could not be decoded, and were replaced with REPLACEMENT CHARACTER.\n"
     ]
    },
    {
     "name": "stdout",
     "output_type": "stream",
     "text": [
      "https://myherbal.ch/de/produs/protein-riegel-14-riegel-zitronengeschmack-14-x-35-g/\n",
      "https://myherbal.ch/de/wp-content/uploads/2022/09/Protein-Riegel14-RiegelZitronengeschmack14x35g-1.png\n"
     ]
    },
    {
     "name": "stderr",
     "output_type": "stream",
     "text": [
      "Some characters could not be decoded, and were replaced with REPLACEMENT CHARACTER.\n"
     ]
    },
    {
     "name": "stdout",
     "output_type": "stream",
     "text": [
      "https://myherbal.ch/de/produs/beta-heart-vanille-229-g/\n",
      "https://myherbal.ch/de/wp-content/uploads/2022/09/Beta-Heart-Vanille229g-1.png\n"
     ]
    },
    {
     "name": "stderr",
     "output_type": "stream",
     "text": [
      "Some characters could not be decoded, and were replaced with REPLACEMENT CHARACTER.\n"
     ]
    },
    {
     "name": "stdout",
     "output_type": "stream",
     "text": [
      "https://myherbal.ch/de/wp-content/uploads/2022/09/herbalife-betaheart1.jpg\n"
     ]
    },
    {
     "name": "stderr",
     "output_type": "stream",
     "text": [
      "Some characters could not be decoded, and were replaced with REPLACEMENT CHARACTER.\n"
     ]
    },
    {
     "name": "stdout",
     "output_type": "stream",
     "text": [
      "https://myherbal.ch/de/wp-content/uploads/2022/09/herbalife-betaheart.jpg\n"
     ]
    },
    {
     "name": "stderr",
     "output_type": "stream",
     "text": [
      "Some characters could not be decoded, and were replaced with REPLACEMENT CHARACTER.\n"
     ]
    },
    {
     "name": "stdout",
     "output_type": "stream",
     "text": [
      "https://myherbal.ch/de/produs/herbalife-multi-ballaststoff-drink-204-g/\n",
      "https://myherbal.ch/de/wp-content/uploads/2022/09/Multi-Ballaststoff-Drink204g-1.png\n"
     ]
    },
    {
     "name": "stderr",
     "output_type": "stream",
     "text": [
      "Some characters could not be decoded, and were replaced with REPLACEMENT CHARACTER.\n"
     ]
    },
    {
     "name": "stdout",
     "output_type": "stream",
     "text": [
      "https://myherbal.ch/de/produs/formula-1-shake-mint-chocolate-550-g/\n",
      "https://myherbal.ch/de/wp-content/uploads/2022/09/F1-MintChocolate-1.png\n"
     ]
    },
    {
     "name": "stderr",
     "output_type": "stream",
     "text": [
      "Some characters could not be decoded, and were replaced with REPLACEMENT CHARACTER.\n"
     ]
    },
    {
     "name": "stdout",
     "output_type": "stream",
     "text": [
      "https://myherbal.ch/de/produs/herbalife-formula-1-shake-summer-berries-550-g/\n",
      "https://myherbal.ch/de/wp-content/uploads/2022/09/F1-SummerBerries-1.png\n"
     ]
    },
    {
     "name": "stderr",
     "output_type": "stream",
     "text": [
      "Some characters could not be decoded, and were replaced with REPLACEMENT CHARACTER.\n"
     ]
    },
    {
     "name": "stdout",
     "output_type": "stream",
     "text": [
      "https://myherbal.ch/de/produs/herbalife-formula-1-shake-erdbeeren-traum-550-g/\n",
      "https://myherbal.ch/de/wp-content/uploads/2022/09/F1-ErdbeerenTraum-1.png\n"
     ]
    },
    {
     "name": "stderr",
     "output_type": "stream",
     "text": [
      "Some characters could not be decoded, and were replaced with REPLACEMENT CHARACTER.\n"
     ]
    },
    {
     "name": "stdout",
     "output_type": "stream",
     "text": [
      "https://myherbal.ch/de/produs/formula-1-shake-cookie-crunch-550-g/\n",
      "https://myherbal.ch/de/wp-content/uploads/2022/09/F1-CookieCrunch-1.png\n"
     ]
    },
    {
     "name": "stderr",
     "output_type": "stream",
     "text": [
      "Some characters could not be decoded, and were replaced with REPLACEMENT CHARACTER.\n"
     ]
    },
    {
     "name": "stdout",
     "output_type": "stream",
     "text": [
      "https://myherbal.ch/de/produs/formula-1-shake-banana-cream-550-g/\n",
      "https://myherbal.ch/de/wp-content/uploads/2022/09/F1-BananaCream-1.png\n"
     ]
    },
    {
     "name": "stderr",
     "output_type": "stream",
     "text": [
      "Some characters could not be decoded, and were replaced with REPLACEMENT CHARACTER.\n"
     ]
    },
    {
     "name": "stdout",
     "output_type": "stream",
     "text": [
      "https://myherbal.ch/de/produs/formula-1-shake-vanillecreme-550-g/\n",
      "https://myherbal.ch/de/wp-content/uploads/2022/09/F1-Vanillecreme-1.png\n"
     ]
    },
    {
     "name": "stderr",
     "output_type": "stream",
     "text": [
      "Some characters could not be decoded, and were replaced with REPLACEMENT CHARACTER.\n"
     ]
    },
    {
     "name": "stdout",
     "output_type": "stream",
     "text": [
      "https://myherbal.ch/de/produs/herbalife-formula-1-shake-smooth-chocolate-550-g/\n",
      "https://myherbal.ch/de/wp-content/uploads/2022/09/F1-Chocolate-1.png\n"
     ]
    },
    {
     "name": "stderr",
     "output_type": "stream",
     "text": [
      "Some characters could not be decoded, and were replaced with REPLACEMENT CHARACTER.\n"
     ]
    },
    {
     "name": "stdout",
     "output_type": "stream",
     "text": [
      "https://myherbal.ch/de/produs/herbalife-pro-20-select-vanille-630g/\n",
      "https://myherbal.ch/de/wp-content/uploads/2022/09/PRO20-Select-Vanille630g-1.png\n"
     ]
    },
    {
     "name": "stderr",
     "output_type": "stream",
     "text": [
      "Some characters could not be decoded, and were replaced with REPLACEMENT CHARACTER.\n"
     ]
    },
    {
     "name": "stdout",
     "output_type": "stream",
     "text": [
      "https://myherbal.ch/de/produs/herbalife-protein-getraenkemix-vegan-vanillegeschmack-560g/\n",
      "https://myherbal.ch/de/wp-content/uploads/2022/09/Protein-Getraenkemix-Vegan-Vanillegeschmack560g-1.jpeg\n"
     ]
    },
    {
     "name": "stderr",
     "output_type": "stream",
     "text": [
      "Some characters could not be decoded, and were replaced with REPLACEMENT CHARACTER.\n"
     ]
    },
    {
     "name": "stdout",
     "output_type": "stream",
     "text": [
      "https://myherbal.ch/de/wp-content/uploads/2022/09/herbalife-protein-drinkmix-vegan.png\n"
     ]
    },
    {
     "name": "stderr",
     "output_type": "stream",
     "text": [
      "Some characters could not be decoded, and were replaced with REPLACEMENT CHARACTER.\n"
     ]
    },
    {
     "name": "stdout",
     "output_type": "stream",
     "text": [
      "https://myherbal.ch/de/produs/herbalife-protein-getraenkemix-vanille-588-g/\n",
      "https://myherbal.ch/de/wp-content/uploads/2022/09/Protein-Getraenkemix-Vanille588g-1.png\n"
     ]
    },
    {
     "name": "stderr",
     "output_type": "stream",
     "text": [
      "Some characters could not be decoded, and were replaced with REPLACEMENT CHARACTER.\n"
     ]
    },
    {
     "name": "stdout",
     "output_type": "stream",
     "text": [
      "https://myherbal.ch/de/produs/herbalife-tee-instantgetrank-mit-pflanzenextrakten-zitronengeschmack-50-g/\n",
      "https://myherbal.ch/de/wp-content/uploads/2022/09/Instantgetraenk-mit-Pflanzenextrakten-Zitronengeschmack50g-1.png\n"
     ]
    },
    {
     "name": "stderr",
     "output_type": "stream",
     "text": [
      "Some characters could not be decoded, and were replaced with REPLACEMENT CHARACTER.\n"
     ]
    },
    {
     "name": "stdout",
     "output_type": "stream",
     "text": [
      "https://myherbal.ch/de/produs/herbalife-aloe-max-473-ml/\n",
      "https://myherbal.ch/de/wp-content/uploads/2022/09/AloeMax473ml-1.png\n"
     ]
    },
    {
     "name": "stderr",
     "output_type": "stream",
     "text": [
      "Some characters could not be decoded, and were replaced with REPLACEMENT CHARACTER.\n"
     ]
    },
    {
     "name": "stdout",
     "output_type": "stream",
     "text": [
      "https://myherbal.ch/de/wp-content/uploads/2022/09/aloemax.png\n"
     ]
    },
    {
     "name": "stderr",
     "output_type": "stream",
     "text": [
      "Some characters could not be decoded, and were replaced with REPLACEMENT CHARACTER.\n"
     ]
    },
    {
     "name": "stdout",
     "output_type": "stream",
     "text": [
      "https://myherbal.ch/de/produs/herbalife-aloe-max-473-ml/#respond\n",
      "https://myherbal.ch/de/2023/03/05/shake-formula-1/\n",
      "https://myherbal.ch/de/category/produkte/\n",
      "https://myherbal.ch/de/author/admin/\n",
      "https://myherbal.ch/de/2023/03/05/shake-formula-1/#respond\n",
      "https://myherbal.ch/de/2023/03/04/aloemax/\n",
      "https://myherbal.ch/de/2023/03/03/instant-kraeutergetraenk-mit-tee-extrakten/\n",
      "https://myherbal.ch/de/2023/02/21/berry-nice-lollies/\n",
      "https://myherbal.ch/de/category/mit-formula-1/\n",
      "https://myherbal.ch/de/category/rezepte/\n",
      "https://myherbal.ch/de/2023/02/21/berry-nice-lollies/#respond\n",
      "https://myherbal.ch/de/2023/02/21/pina-colada-mocktail-slushy/\n",
      "https://myherbal.ch/de/2023/02/21/schoko-kokos-protein-konfekt/\n",
      "https://myherbal.ch/product/herbalife-formula-1-shake-smooth-chocolate-550-g/\n",
      "https://myherbal.ch/\n",
      "https://myherbal.ch/agb/\n",
      "https://myherbal.ch/shop/\n",
      "https://myherbal.ch/product-category/basisprodukte/\n",
      "https://myherbal.ch/product-category/basisprodukte/proteine/\n",
      "https://myherbal.ch/product-category/basisprodukte/energie\n",
      "https://myherbal.ch/product-category/basisprodukte/hydration/\n",
      "https://myherbal.ch/product-category/basisprodukte/snacks/\n",
      "https://myherbal.ch/product-category/basisprodukte/ballaststoffe/\n",
      "https://myherbal.ch/product-category/basisprodukte/mikronaehrstoffe/\n",
      "https://myherbal.ch/product-category/basisprogramme/\n",
      "https://myherbal.ch/product-category/basisprogramme/gutes-fruhstuck/\n",
      "https://myherbal.ch/product-category/basisprogramme/muskelaufbau/\n",
      "https://myherbal.ch/product-category/basisprogramme/gewichtskontrolle/\n",
      "https://myherbal.ch/product-category/basisprogramme/mastprogramm/\n",
      "https://myherbal.ch/product-category/sport/\n",
      "https://myherbal.ch/product-category/skin-produkte/\n",
      "https://myherbal.ch/product-category/aloe-vera-produkte/\n",
      "https://myherbal.ch/product-category/zubehoer-und-shaker/\n",
      "https://myherbal.ch/programme/\n",
      "https://myherbal.ch/ausgewogenes-fruehstueck/\n",
      "https://myherbal.ch/gewichtskontrolle/\n",
      "https://myherbal.ch/muskelaufbau/\n",
      "https://myherbal.ch/nahrungsergaenzungsmittel/\n",
      "https://myherbal.ch/hautpflege/\n",
      "https://myherbal.ch/geschaftsmoglichkeit/\n",
      "https://myherbal.ch/mitglied-werden/\n",
      "https://myherbal.ch/uber-uns/\n",
      "https://myherbal.ch/bmi-rechner/\n",
      "https://myherbal.ch/ueber-proteinernaehrung/\n",
      "https://myherbal.ch/ueber-mikronaehrstoffe/\n",
      "https://myherbal.ch/fruehstuecks-fakten/\n",
      "https://myherbal.ch/wp-content/uploads/2023/05/broschure.pdf\n"
     ]
    },
    {
     "name": "stderr",
     "output_type": "stream",
     "text": [
      "Some characters could not be decoded, and were replaced with REPLACEMENT CHARACTER.\n"
     ]
    },
    {
     "name": "stdout",
     "output_type": "stream",
     "text": [
      "https://myherbal.ch/portfolio/\n",
      "https://myherbal.ch/blog/\n",
      "https://myherbal.ch/kontakt/\n",
      "https://myherbal.ch/my-account/\n",
      "https://myherbal.ch/cart/\n",
      "https://myherbal.ch/checkout/\n",
      "https://myherbal.ch/product/herbalife-formula-1-limitierte-edition-pfirsich-litschi-550-g/\n",
      "https://myherbal.ch/wp-content/uploads/2023/03/herbalife-formula1-pfirsch.jpeg\n",
      "https://myherbal.ch/wp-content/uploads/2023/03/formula1.jpg\n",
      "https://myherbal.ch/wp-content/uploads/2023/03/neu-formula1.jpg\n",
      "https://myherbal.ch/wp-content/uploads/2023/03/J6148-F1LE-Peach-Lychee-Claimsheet_GE-SZ-AU_Hi-Res_No-Crops-pdf.jpg\n",
      "https://myherbal.ch/product/herbalife-active-mind-complex-60-kapseln/\n",
      "https://myherbal.ch/wp-content/uploads/2023/03/active-mind.jpeg\n",
      "https://myherbal.ch/wp-content/uploads/2023/03/J6072-AMC-FB-1x1_GE-SZGE-AU.jpg\n",
      "https://myherbal.ch/wp-content/uploads/2023/03/J6072-AMC-Claims_GE-SZGE-AU_Hi-Res_No-Crops-pdf.jpg\n",
      "https://myherbal.ch/product/herbalife-formula-1-ohne-soja-laktose-und-gluten-himbeere-und-weisse-schokolade-500g/\n",
      "https://myherbal.ch/wp-content/uploads/2022/12/Formula1-ohne-Soja-Laktose-und-Gluten-Himbeere-und-Weisse-Schokolade-500g.png\n",
      "https://myherbal.ch/wp-content/uploads/2022/12/formula1-himbeere-1.png\n",
      "https://myherbal.ch/product/herbalife-formula-1-shake-vanillecreme-780-g/\n",
      "https://myherbal.ch/wp-content/uploads/2022/12/Formula1-Shake-Vanillecreme-780g.png\n",
      "https://myherbal.ch/wp-content/uploads/2022/12/formula1-vanilla-creme.png\n",
      "https://myherbal.ch/product/herbalife-formula-1-shake-smooth-chocolate-packung-mit-7-portionspackungen/\n",
      "https://myherbal.ch/wp-content/uploads/2022/12/Formula-1-Shake-Smooth-Chocolate-Packung-mit-7-Portionspackungen.jpeg\n",
      "https://myherbal.ch/product/herbalife-formula-1-shake-cookie-crunch-packung-mit-7-portionspackungen/\n",
      "https://myherbal.ch/wp-content/uploads/2022/12/Formula-1-Shake-Cookie-Crunch-Packung-mit-7-Portionspackungen.jpeg\n",
      "https://myherbal.ch/product/instant-kraeutergetraenk-mit-tee-extrakten-original-102g/\n",
      "https://myherbal.ch/wp-content/uploads/2022/12/Instant-Krautergetrank-mit-Tee-Extrakten-Original-102g.jpeg\n",
      "https://myherbal.ch/product-category/basisprodukte/energie/\n",
      "https://myherbal.ch/product-category/basisprodukte/gesunde-fette/\n",
      "https://myherbal.ch/product-category/mitgliedspack/\n",
      "https://myherbal.ch/product-category/basisprogramme/winter/\n",
      "https://myherbal.ch/product-category/sport/nach-dem-workout/\n",
      "https://myherbal.ch/product-category/sport/vor-dem-workout/\n",
      "https://myherbal.ch/product-category/sport/wahrend-dem-workout/\n",
      "https://myherbal.ch/product/herbalife-cr7-drive-behaelter-acai-beere-540-g/\n",
      "https://myherbal.ch/wp-content/uploads/2022/09/CR7-Drive-Behaelter-Acai-Beere540g-1.png\n",
      "https://myherbal.ch/wp-content/uploads/2022/09/herbalife-cr7-2.jpg\n",
      "https://myherbal.ch/product/herbalife-cr7-drive-portionspackungen-acai-beere-270-g/\n",
      "https://myherbal.ch/wp-content/uploads/2022/09/CR7-Drive-Portionspackungen-Acai-Beere270g-1.png\n",
      "https://myherbal.ch/wp-content/uploads/2022/09/herbalife-cr7.jpg\n",
      "https://myherbal.ch/product/herbalife-h24-liftoff-max-grapefruit-geschmack-10-portionspackungen/\n",
      "https://myherbal.ch/wp-content/uploads/2022/09/H24-LiftOff-Max-Grapefruit-Geschmack-1.jpeg\n",
      "https://myherbal.ch/wp-content/uploads/2022/09/herbalife-liftoff-max2.png\n",
      "https://myherbal.ch/product/h24-achieve-protein-riegel-dark-chocolate-geschmack-6x60g/\n",
      "https://myherbal.ch/wp-content/uploads/2022/09/H24-Achieve-Protein-Riegel-Dark-Chocolate-Geschmack-6x60g-1.jpeg\n",
      "https://myherbal.ch/wp-content/uploads/2022/09/herbalife-riegel-dark-chocholate.png\n",
      "https://myherbal.ch/product/herbalife-tri-blend-select-banana-600g/\n",
      "https://myherbal.ch/wp-content/uploads/2022/09/Tri-Blend-Select-Banana600g-1.png\n",
      "https://myherbal.ch/product/herbalife-tri-blend-select-coffee-caramel-600g/\n",
      "https://myherbal.ch/wp-content/uploads/2022/09/Tri-Blend-Select-Coffee-caramel600g-1.png\n",
      "https://myherbal.ch/product/herbalife-high-protein-iced-coffee-latte-macchiato-308g/\n",
      "https://myherbal.ch/wp-content/uploads/2022/09/High-Protein-Iced-Coffee-Latte-Macchiato308g-1.png\n",
      "https://myherbal.ch/wp-content/uploads/2022/09/highprotein.png\n",
      "https://myherbal.ch/wp-content/uploads/2022/09/highprotein1.png\n",
      "https://myherbal.ch/product/herbalife-high-protein-iced-coffee-mocha-322g/\n",
      "https://myherbal.ch/wp-content/uploads/2022/09/High-Protein-Iced-Coffee-Mocha322g-1.png\n",
      "https://myherbal.ch/product/herbalife-formula-3-personalized-protein-powder-240g/\n",
      "https://myherbal.ch/wp-content/uploads/2022/09/Formula3-Personalized-Protein-Powder240g-1.png\n",
      "https://myherbal.ch/wp-content/uploads/2022/09/Formula-3.jpg\n",
      "https://myherbal.ch/product/herbalife-formula-2-vitamin-mineral-komplex-fuer-frauen-84-3g/\n",
      "https://myherbal.ch/wp-content/uploads/2022/09/Formula2-Vitamin-Mineral-Komplex-fuer-Frauen84.3g-1.png\n",
      "https://myherbal.ch/product/herbalife-formula-2-vitamin-mineral-komplex-fuer-maenner-84-3g/\n",
      "https://myherbal.ch/wp-content/uploads/2022/09/Formula2-Vitamin-Mineral-Komplex-fur-Manner84.3g-1.png\n",
      "https://myherbal.ch/product/herbalife-thermo-complete-90-tabletten/\n",
      "https://myherbal.ch/wp-content/uploads/2022/09/Thermo-Complete-90-Tabletten.jpg\n",
      "https://myherbal.ch/product/herbalife-niteworks/\n",
      "https://myherbal.ch/wp-content/uploads/2022/09/Niteworks.png\n",
      "https://myherbal.ch/wp-content/uploads/2022/09/Flyer_SZGE_Web-pdf.jpg\n",
      "https://myherbal.ch/product/herbalife-immune-booster-21-portionspackungen-wild-berry/\n",
      "https://myherbal.ch/wp-content/uploads/2022/09/Immune-Booster-21-Portionspackungen-Wild-Berry-1.jpeg\n",
      "https://myherbal.ch/wp-content/uploads/2022/09/herbalife-immune-booster.png\n",
      "https://myherbal.ch/wp-content/uploads/2023/02/herbalife-immune-booster1.png\n",
      "https://myherbal.ch/product/herbalife-protein-back-mix-limitierte-edition-480-g/\n",
      "https://myherbal.ch/wp-content/uploads/2022/10/Protein-Back-Mix-Limitierte-Edition480g-1.jpeg\n",
      "https://myherbal.ch/wp-content/uploads/2022/10/herbalife-protein-back-mix.png\n",
      "https://myherbal.ch/wp-content/uploads/2022/10/proteinback.png\n",
      "https://myherbal.ch/product/herbalifeline-max-omega-3-42g/\n",
      "https://myherbal.ch/wp-content/uploads/2022/10/Herbalifeline-Max42g-1.png\n",
      "https://myherbal.ch/wp-content/uploads/2022/10/herbalife_0043_herbalifelinemax_kaufen2-1.jpg\n",
      "https://myherbal.ch/wp-content/uploads/2022/10/herbalifelinee-pdf.jpg\n",
      "https://myherbal.ch/product/herbalife-formula-1-herzhafte-mahlzeit-kraeuter-pilz-geschmack-550-g/\n",
      "https://myherbal.ch/wp-content/uploads/2022/10/Formula1-Herzhafte-Mahlzeit-Kraeuter-Pilz-Geschmack550g.png\n",
      "https://myherbal.ch/wp-content/uploads/2022/10/herbalife-formula1-pilzen.png\n",
      "https://myherbal.ch/product/herbalife-protein-chips-sour-cream-onion-10x30g/\n"
     ]
    },
    {
     "name": "stderr",
     "output_type": "stream",
     "text": [
      "Some characters could not be decoded, and were replaced with REPLACEMENT CHARACTER.\n"
     ]
    },
    {
     "name": "stdout",
     "output_type": "stream",
     "text": [
      "https://myherbal.ch/wp-content/uploads/2022/11/Protein-Chips-Sour-CreamOnion-10x30g.png\n",
      "https://myherbal.ch/wp-content/uploads/2022/11/Herbalife_protein_chips_beide.jpg\n",
      "https://myherbal.ch/wp-content/uploads/2022/11/herbalife-protein-chips.png\n",
      "https://myherbal.ch/wp-content/uploads/2022/11/herbalife-protein-chips2.png\n",
      "https://myherbal.ch/product/herbalife-geroestete-sojabohnen-12-portionen/\n",
      "https://myherbal.ch/wp-content/uploads/2022/11/Herbalife-Gerostete-Sojabohnen-258-g.png\n",
      "https://myherbal.ch/product/herbalife-gourmet-tomatensuppe-672g/\n"
     ]
    },
    {
     "name": "stderr",
     "output_type": "stream",
     "text": [
      "Some characters could not be decoded, and were replaced with REPLACEMENT CHARACTER.\n"
     ]
    },
    {
     "name": "stdout",
     "output_type": "stream",
     "text": [
      "https://myherbal.ch/wp-content/uploads/2022/11/Herbalife-Gourmet-Tomatensuppe-672g.png\n",
      "https://myherbal.ch/product/herbalife-microbiotic-max-40g/\n",
      "https://myherbal.ch/wp-content/uploads/2022/11/Herbalife-Microbiotic-Max-40g1.png\n",
      "https://myherbal.ch/wp-content/uploads/2022/11/Herbalife-Microbiotic-Max-40g.jpg\n",
      "https://myherbal.ch/wp-content/uploads/2022/11/microbiotic-max-vanillegeschmack-20-portionspackungen.jpg\n",
      "https://myherbal.ch/wp-content/uploads/2022/11/herbalife-microbiotic1.png\n",
      "https://myherbal.ch/wp-content/uploads/2022/11/herbalife-microbiotic.png\n",
      "https://myherbal.ch/product/herbalife-xtra-cal/\n",
      "https://myherbal.ch/wp-content/uploads/2022/11/0020-de-xtra-cal.jpg\n",
      "https://myherbal.ch/wp-content/uploads/2022/11/xtra-cal-pdf.jpg\n",
      "https://myherbal.ch/product/herbalife-ernahrung-aktiv/\n"
     ]
    },
    {
     "name": "stderr",
     "output_type": "stream",
     "text": [
      "Some characters could not be decoded, and were replaced with REPLACEMENT CHARACTER.\n"
     ]
    },
    {
     "name": "stdout",
     "output_type": "stream",
     "text": [
      "https://myherbal.ch/wp-content/uploads/2022/11/herbalife-Ernahrung-Aktiv.png\n",
      "https://myherbal.ch/product/herbalife-liftoff-energy-drink/\n"
     ]
    },
    {
     "name": "stderr",
     "output_type": "stream",
     "text": [
      "Some characters could not be decoded, and were replaced with REPLACEMENT CHARACTER.\n"
     ]
    },
    {
     "name": "stdout",
     "output_type": "stream",
     "text": [
      "https://myherbal.ch/wp-content/uploads/2022/11/Liftoff-Zitronengeschmack.png\n",
      "https://myherbal.ch/product-tag/energie/\n",
      "https://myherbal.ch/product/herbalife-tee-instantgetrank-mit-pflanzenextrakten-zitronengeschmack-50-g/\n",
      "https://myherbal.ch/wp-content/uploads/2022/09/Instantgetraenk-mit-Pflanzenextrakten-Zitronengeschmack50g-1.png\n",
      "https://myherbal.ch/product/herbalife-protein-getraenkemix-vanille-588-g/\n"
     ]
    },
    {
     "name": "stderr",
     "output_type": "stream",
     "text": [
      "Some characters could not be decoded, and were replaced with REPLACEMENT CHARACTER.\n"
     ]
    },
    {
     "name": "stdout",
     "output_type": "stream",
     "text": [
      "https://myherbal.ch/wp-content/uploads/2022/09/Protein-Getraenkemix-Vanille588g-1.png\n",
      "https://myherbal.ch/product/herbalife-protein-getraenkemix-vegan-vanillegeschmack-560g/\n",
      "https://myherbal.ch/wp-content/uploads/2022/09/Protein-Getraenkemix-Vegan-Vanillegeschmack560g-1.jpeg\n",
      "https://myherbal.ch/wp-content/uploads/2022/09/herbalife-protein-drinkmix-vegan.png\n",
      "https://myherbal.ch/product/herbalife-pro-20-select-vanille-630g/\n",
      "https://myherbal.ch/wp-content/uploads/2022/09/PRO20-Select-Vanille630g-1.png\n",
      "https://myherbal.ch/product-tag/herbalife/\n",
      "https://myherbal.ch/product-tag/herbalife/?filter_formula-2=f2-frauen\n",
      "https://myherbal.ch/product-tag/herbalife/?filter_formula-2=f2-frauen,f2-manner\n",
      "https://myherbal.ch/product-tag/herbalife/?filter_formula-2=f2-manner\n",
      "https://myherbal.ch/product/herbalife-detox-pack-2/\n",
      "https://myherbal.ch/wp-content/uploads/2023/01/pack-aloe-fibra-y-te.jpg\n",
      "https://myherbal.ch/product/herbalife-detox-pack-1/\n",
      "https://myherbal.ch/wp-content/uploads/2023/01/program-pentru-imbunatatirea-tranzitului-intestinal.jpg\n",
      "https://myherbal.ch/product/herbalife-herz-packet/\n",
      "https://myherbal.ch/wp-content/uploads/2023/01/herbalife-heart-pack.jpeg\n",
      "https://myherbal.ch/product/herbalife-immune-activation/\n",
      "https://myherbal.ch/wp-content/uploads/2023/01/pack-2-immune-activation-maenner.jpg\n",
      "https://myherbal.ch/product/herbalife-basisprogramm-fortgeschritten-power/\n"
     ]
    },
    {
     "name": "stderr",
     "output_type": "stream",
     "text": [
      "Some characters could not be decoded, and were replaced with REPLACEMENT CHARACTER.\n"
     ]
    },
    {
     "name": "stdout",
     "output_type": "stream",
     "text": [
      "https://myherbal.ch/wp-content/uploads/2023/01/herbalifeprogramavansat.webp\n",
      "https://myherbal.ch/product/gutes-fruehstueck-pack-2/\n",
      "https://myherbal.ch/wp-content/uploads/2023/01/herbalife-pack-2-gutes-fruehstueck.jpg\n",
      "https://myherbal.ch/product/herbalife-skin-advanced-produktpack-normale-bis-fettige-haut/\n",
      "https://myherbal.ch/wp-content/uploads/2023/01/advanced-produktpack-normale-bis-fettige-haut.jpg\n",
      "https://myherbal.ch/product/herbalife-skin-advanced-produktpack-normale-bis-trockene-haut/\n",
      "https://myherbal.ch/wp-content/uploads/2023/01/advanced-produktpack-normale-bis-trockene-haut.jpg\n",
      "https://myherbal.ch/product/herbalife-skin-basis-produktpack-normale-bis-trockene-haut/\n",
      "https://myherbal.ch/wp-content/uploads/2023/01/basis-produktpack-normale-bis-trockene-haut.jpg\n",
      "https://myherbal.ch/product/winter-energie-bundle-h24-liftoff-max/\n",
      "https://myherbal.ch/wp-content/uploads/2022/12/Winter-Energie-Bundle-H24-LiftOff-Max.png\n",
      "https://myherbal.ch/product/winter-energie-bundle-aloe-vera-getraenkekonzentrat-mango/\n",
      "https://myherbal.ch/wp-content/uploads/2022/12/Winter-Energie-Bundle-Aloe-Vera-Getrankekonzentrat-Mango.png\n",
      "https://myherbal.ch/product/gutes-fruehstueck-pack-1/\n",
      "https://myherbal.ch/wp-content/uploads/2022/12/herbalife-pack-1-gutes-fruehstueck.jpg\n",
      "https://myherbal.ch/product/herbalife-basisprogramm-umwelt/\n",
      "https://myherbal.ch/wp-content/uploads/2022/12/herbalife-pack-3-gutes-fruehstueck.jpg\n",
      "https://myherbal.ch/product/pack-3-fuer-ausdauersport-jogger-triathlon-fussball/\n",
      "https://myherbal.ch/wp-content/uploads/2022/12/herbalife-pack-3-fuer-ausdauersport-jogger-triathlon-fussball.jpg\n",
      "https://myherbal.ch/product/pack-2-fuer-kraftsportler/\n",
      "https://myherbal.ch/wp-content/uploads/2022/12/herbalife-pack-2-fuer-kraftsportler.jpg\n",
      "https://myherbal.ch/product/pack-1-fuer-freizeitsportler/\n",
      "https://myherbal.ch/wp-content/uploads/2022/12/herbalife-pack-1-fuer-freizeitsportler.jpg\n",
      "https://myherbal.ch/product/herbal-aloe-bundle/\n"
     ]
    },
    {
     "name": "stderr",
     "output_type": "stream",
     "text": [
      "Some characters could not be decoded, and were replaced with REPLACEMENT CHARACTER.\n"
     ]
    },
    {
     "name": "stdout",
     "output_type": "stream",
     "text": [
      "https://myherbal.ch/wp-content/uploads/2022/11/Herbal-Aloe-Bundle.jpeg\n",
      "https://myherbal.ch/product/herbalife-basisprogramm-erforderlich/\n",
      "https://myherbal.ch/wp-content/uploads/2022/10/Program-remodelare-baza-1-600x600-1.png\n",
      "https://myherbal.ch/product/herbalife-gewichtszunahmeprogramm-mindestpaket/\n"
     ]
    },
    {
     "name": "stderr",
     "output_type": "stream",
     "text": [
      "Some characters could not be decoded, and were replaced with REPLACEMENT CHARACTER.\n"
     ]
    },
    {
     "name": "stdout",
     "output_type": "stream",
     "text": [
      "https://myherbal.ch/wp-content/uploads/2022/09/Program-ingrasare1-1.jpg\n",
      "https://myherbal.ch/product/herbalife-basisprogramm-fortgeschritten-frauen/\n",
      "https://myherbal.ch/wp-content/uploads/2022/09/Program-remodelare-avansat-femei-600x600-2.png\n",
      "https://myherbal.ch/product/herbalife-basisprogramm-ideal/\n",
      "https://myherbal.ch/wp-content/uploads/2022/09/Program-remodelare-recomandat-600x600-2.png\n",
      "https://myherbal.ch/product/herbalife-gutes-fruehstueck-pack-3/\n",
      "https://myherbal.ch/wp-content/uploads/2022/09/Program-remodelare-mediu-600x600-3.png\n",
      "https://myherbal.ch/product/herbalife-aloe-vera-getraenkekonzentrat-mango-473-ml/\n",
      "https://myherbal.ch/wp-content/uploads/2022/09/Aloe-Vera-Getraenkekonzentrat-Mango473ml-1.png\n",
      "https://myherbal.ch/product/herbalife-aloe-vera-getraenkekonzentrat-original-473ml/\n",
      "https://myherbal.ch/wp-content/uploads/2022/09/Aloe-Vera-Getraenkekonzentrat-Original473ml-1.png\n",
      "https://myherbal.ch/product/herbalife-aloe-max-473-ml/\n",
      "https://myherbal.ch/wp-content/uploads/2022/09/AloeMax473ml-1.png\n",
      "https://myherbal.ch/wp-content/uploads/2022/09/aloemax.png\n",
      "https://myherbal.ch/product/herbalife-formula-1-shake-cafe-latte-550-g/\n"
     ]
    },
    {
     "name": "stderr",
     "output_type": "stream",
     "text": [
      "Some characters could not be decoded, and were replaced with REPLACEMENT CHARACTER.\n"
     ]
    },
    {
     "name": "stdout",
     "output_type": "stream",
     "text": [
      "https://myherbal.ch/wp-content/uploads/2022/09/F1-CaffeLatte.png\n",
      "https://myherbal.ch/wp-content/uploads/2022/09/formula1-cafe-latte.png\n",
      "https://myherbal.ch/product-tag/formula-1/\n",
      "https://myherbal.ch/product/formula-1-shake-cookie-crunch-550-g/\n",
      "https://myherbal.ch/wp-content/uploads/2022/09/F1-CookieCrunch-1.png\n",
      "https://myherbal.ch/wp-content/uploads/2022/09/formula1-cookie-crunch.png\n",
      "https://myherbal.ch/product/herbalife-formula-1-shake-erdbeeren-traum-550-g/\n"
     ]
    },
    {
     "name": "stderr",
     "output_type": "stream",
     "text": [
      "Some characters could not be decoded, and were replaced with REPLACEMENT CHARACTER.\n"
     ]
    },
    {
     "name": "stdout",
     "output_type": "stream",
     "text": [
      "https://myherbal.ch/wp-content/uploads/2022/09/F1-ErdbeerenTraum-1.png\n",
      "https://myherbal.ch/wp-content/uploads/2022/09/formula1-erdbeeren.png\n",
      "https://myherbal.ch/product/herbalife-formula-1-shake-summer-berries-550-g/\n",
      "https://myherbal.ch/wp-content/uploads/2022/09/F1-SummerBerries-1.png\n",
      "https://myherbal.ch/wp-content/uploads/2022/09/formula1-summer-berries.png\n",
      "https://myherbal.ch/product/formula-1-shake-mint-chocolate-550-g/\n",
      "https://myherbal.ch/wp-content/uploads/2022/09/F1-MintChocolate-1.png\n",
      "https://myherbal.ch/wp-content/uploads/2022/09/formula1-mint.png\n",
      "https://myherbal.ch/product/herbalife-multi-ballaststoff-drink-204-g/\n",
      "https://myherbal.ch/wp-content/uploads/2022/09/Multi-Ballaststoff-Drink204g-1.png\n",
      "https://myherbal.ch/wp-content/uploads/2022/09/J3211-OAF-SugarFree-2016-A5-Flyer_SZGE_Hi-Res-pdf.jpg\n",
      "https://myherbal.ch/product/beta-heart-vanille-229-g/\n",
      "https://myherbal.ch/wp-content/uploads/2022/09/Beta-Heart-Vanille229g-1.png\n",
      "https://myherbal.ch/wp-content/uploads/2022/09/herbalife-betaheart1.jpg\n",
      "https://myherbal.ch/wp-content/uploads/2022/09/herbalife-betaheart.jpg\n",
      "https://myherbal.ch/product/protein-riegel-14-riegel-zitronengeschmack-14-x-35-g/\n",
      "https://myherbal.ch/wp-content/uploads/2022/09/Protein-Riegel14-RiegelZitronengeschmack14x35g-1.png\n",
      "https://myherbal.ch/product/protein-riegel-schokolade-erdnuss-14-x-35g/\n",
      "https://myherbal.ch/wp-content/uploads/2022/09/Protein-Riegel14-RiegelSchokolade-Erdnuss14x35g-1.png\n",
      "https://myherbal.ch/product/protein-riegel-vanille-mandel-14-x-35g/\n",
      "https://myherbal.ch/wp-content/uploads/2022/09/Protein-Riegel14-RiegelVanille-Mandel14x35g-1.png\n",
      "https://myherbal.ch/product/herbalife-formula-1-express-riegel-dark-chocolate-7-x-56g/\n",
      "https://myherbal.ch/wp-content/uploads/2022/09/Formula1-Express-Riegel-Dark-Chocolate7x56g-1.jpeg\n",
      "https://myherbal.ch/wp-content/uploads/2022/09/herbalife-formula1-riegel.jpg\n",
      "https://myherbal.ch/product/herbalife-h24-hydrate-orange-20-x-5-3g/\n",
      "https://myherbal.ch/wp-content/uploads/2022/09/H24-Hydrate-Orange20x5.3g-1.png\n",
      "https://myherbal.ch/wp-content/uploads/2022/09/herbalife-hydrate1.jpg\n",
      "https://myherbal.ch/product/herbalife-h24-prolong-limone-900g/\n"
     ]
    },
    {
     "name": "stderr",
     "output_type": "stream",
     "text": [
      "Some characters could not be decoded, and were replaced with REPLACEMENT CHARACTER.\n"
     ]
    },
    {
     "name": "stdout",
     "output_type": "stream",
     "text": [
      "https://myherbal.ch/wp-content/uploads/2022/09/H24-Prolong-Limone-900g-1.png\n",
      "https://myherbal.ch/wp-content/uploads/2022/09/herbalife-prolong.jpg\n",
      "https://myherbal.ch/product/h24-formula-1-sport-vanille-524g/\n",
      "https://myherbal.ch/wp-content/uploads/2022/09/H24-Formula1-Sport-Vanille-1.png\n",
      "https://myherbal.ch/wp-content/uploads/2022/09/herbalife-formula1-sport24.jpg\n",
      "https://myherbal.ch/product/herbalife-h24-restore-30-kapseln/\n",
      "https://myherbal.ch/wp-content/uploads/2022/09/H24-Restore-30Kapseln-1.png\n",
      "https://myherbal.ch/wp-content/uploads/2022/09/herbalife-restore-1.jpg\n",
      "https://myherbal.ch/product-tag/h24/\n",
      "https://myherbal.ch/product/herbalife-h24-rebuild-strength-schokolade-1000-g/\n",
      "https://myherbal.ch/wp-content/uploads/2022/09/cq5dam.web_.800.800-1.png\n",
      "https://myherbal.ch/wp-content/uploads/2022/09/herbalife-rebuild-strength.jpg\n",
      "https://myherbal.ch/product/herbalife-h24-rebuild-endurance-vanille-1000-g/\n",
      "https://myherbal.ch/wp-content/uploads/2022/09/h24-rebuild-endurance-1.jpg\n",
      "https://myherbal.ch/wp-content/uploads/2022/09/herbalife-rebuild-endurance.jpg\n",
      "https://myherbal.ch/product-tag/herbalife-schweiz/\n",
      "https://myherbal.ch/product-tag/herbalife-schweiz/?filter_formula-2=f2-frauen\n",
      "https://myherbal.ch/product-tag/herbalife-schweiz/?filter_formula-2=f2-frauen,f2-manner\n",
      "https://myherbal.ch/product-tag/herbalife-schweiz/?filter_formula-2=f2-manner\n",
      "https://myherbal.ch/product/herbal-aloe-kraeftigendes-shampoo-250-ml/\n",
      "https://myherbal.ch/wp-content/uploads/2022/09/Herbal-Aloe-Kraeftigendes-Shampoo-250mL.png\n",
      "https://myherbal.ch/product/herbal-aloe-koerperseife-125-g/\n",
      "https://myherbal.ch/wp-content/uploads/2022/09/Herbal-Aloe-Koerperseife125g-1.png\n",
      "https://myherbal.ch/product/herbal-aloe-waschlotion-250-ml/\n",
      "https://myherbal.ch/wp-content/uploads/2022/09/Herbal-Aloe-Waschlotion250mL-1.png\n",
      "https://myherbal.ch/product/herbal-aloe-kraeftigender-conditioner-250-ml/\n",
      "https://myherbal.ch/wp-content/uploads/2022/09/Herbal-Aloe-Kraeftigender-Conditioner250mL-1.png\n",
      "https://myherbal.ch/product/herbal-aloe-hand-und-koerperlotion-200-ml/\n",
      "https://myherbal.ch/wp-content/uploads/2022/09/Herbal-Aloe-Hand-und-Koerperlotion200mL-1.png\n",
      "https://myherbal.ch/product/herbal-aloe-pflegegel-200-ml/\n",
      "https://myherbal.ch/wp-content/uploads/2022/09/Herbal-Aloe-Pflegegel200mL-1.png\n",
      "https://myherbal.ch/product-tag/herbal-aloe/\n",
      "https://myherbal.ch/product/formula-1-shake-vanillecreme-550-g/\n",
      "https://myherbal.ch/wp-content/uploads/2022/09/F1-Vanillecreme-1.png\n",
      "https://myherbal.ch/product/formula-1-shake-banana-cream-550-g/\n",
      "https://myherbal.ch/wp-content/uploads/2022/09/F1-BananaCream-1.png\n",
      "https://myherbal.ch/wp-content/uploads/2022/09/formula1-banana-cream.png\n",
      "https://myherbal.ch/product-tag/proteine/\n",
      "https://myherbal.ch/product-tag/proteine/page/2/\n",
      "https://myherbal.ch/product-tag/proteine/page/1/\n",
      "https://myherbal.ch/fuer-eilige-morgenstunden/\n",
      "https://myherbal.ch/category/gut-leben/\n",
      "https://myherbal.ch/author/admin/\n",
      "https://myherbal.ch/fuer-eilige-morgenstunden/#respond\n",
      "https://myherbal.ch/product/herbalife-tee-instantgetrank-mit-pflanzenextrakten-himbeere-50-g/\n",
      "https://myherbal.ch/wp-content/uploads/2022/09/Instantgetraenk-mit-Pflanzenextrakten-Himbeere50g-1.png\n",
      "https://myherbal.ch/product/herbalife-tee-instantgetrank-mit-pflanzenextrakten-original-50-g/\n",
      "https://myherbal.ch/wp-content/uploads/2022/09/Instantgetraenk-mit-Pflanzenextrakten-Original50g-1.png\n",
      "https://myherbal.ch/product/herbalife-tee-instantgetrank-mit-pflanzenextrakten-pfirsich-50g/\n",
      "https://myherbal.ch/wp-content/uploads/2022/09/Instantgetraenk-mit-Pflanzenextrakten-Pfirsich50g-1.png\n",
      "https://myherbal.ch/product-tag/herbalife-instant-kraeutergetraenk/\n",
      "https://myherbal.ch/product/herbalife-skin-schuetzende-feuchtigkeitscreme-spf-30-50-ml/\n",
      "https://myherbal.ch/wp-content/uploads/2022/09/Herbalife-SKIN-Schuetzende-Feuchtigkeitscreme-SPF-30-50mL.png\n",
      "https://myherbal.ch/wp-content/uploads/2022/09/Herbalife_SKIN_post_8.jpg\n",
      "https://myherbal.ch/product/herbalife-skin-regenerierende-nachtcreme-50-ml/\n",
      "https://myherbal.ch/wp-content/uploads/2022/09/herbalife-skin-Regenerierende-Nachtcreme-50mL.png\n",
      "https://myherbal.ch/wp-content/uploads/2022/09/Herbalife_SKIN_post_9.jpg\n",
      "https://myherbal.ch/product/herbalife-skin-beeren-peeling-mit-sofortwirkung-120-ml/\n"
     ]
    },
    {
     "name": "stderr",
     "output_type": "stream",
     "text": [
      "Some characters could not be decoded, and were replaced with REPLACEMENT CHARACTER.\n"
     ]
    },
    {
     "name": "stdout",
     "output_type": "stream",
     "text": [
      "https://myherbal.ch/wp-content/uploads/2022/09/Herbalife-SKIN-Beeren-Peeling-mit-Sofortwirkung120mL-1.png\n",
      "https://myherbal.ch/product/herbalife-skin-reinigende-lehm-maske-mit-minze-120-ml/\n",
      "https://myherbal.ch/wp-content/uploads/2022/09/Hebalife-SKIN-Reinigende-Lehm-Maske-mit-Minze-120mL.png\n",
      "https://myherbal.ch/wp-content/uploads/2022/09/Herbalife_SKIN_post_10.jpg\n",
      "https://myherbal.ch/product-tag/herbalife-skin/\n",
      "https://myherbal.ch/product/herbalife-skin-collagen-skin-booster-ernaehrung-fuer-deine-haut-erdbeer-und-zitronengeschmack-171-g/\n",
      "https://myherbal.ch/wp-content/uploads/2022/09/collagen-skin.png\n",
      "https://myherbal.ch/wp-content/uploads/2022/09/herbalife-collagen.png\n",
      "https://myherbal.ch/product/herbalife-skin-beruhigendes-aloe-reinigungsgel-150-ml/\n",
      "https://myherbal.ch/wp-content/uploads/2022/09/Beruhigendes-Aloe-Reinigungsgel150mL-1.png\n",
      "https://myherbal.ch/product/herbalife-skin-glaettendes-zitrusreinigungsgel-150-ml/\n",
      "https://myherbal.ch/wp-content/uploads/2022/09/Glaettendes-Zitrusreinigungsgel150mL-1.png\n",
      "https://myherbal.ch/wp-content/uploads/2022/09/Herbalife_SKIN_post_6.jpg\n",
      "https://myherbal.ch/product/herbalife-skin-belebender-toner-mit-pflanzenextrakt-50-ml/\n",
      "https://myherbal.ch/wp-content/uploads/2022/09/Belebender-Toner-mit-Pflanzenextrakt50mL-1.png\n",
      "https://myherbal.ch/product/herbalife-skin-straffendes-augen-gel-15-ml/\n",
      "https://myherbal.ch/wp-content/uploads/2022/09/Straffendes-Augen-Gel15mL-1.png\n",
      "https://myherbal.ch/product/herbalife-skin-feuchtigkeit-spendende-augencreme-15-ml/\n",
      "https://myherbal.ch/wp-content/uploads/2022/09/Feuchtigkeit-spendende-Augencreme15mL-1.png\n",
      "https://myherbal.ch/wp-content/uploads/2022/09/Herbalife_SKIN_post_4.jpg\n",
      "https://myherbal.ch/product/herbalife-skin-falten-verringerndes-serum-50-ml/\n"
     ]
    },
    {
     "name": "stderr",
     "output_type": "stream",
     "text": [
      "Some characters could not be decoded, and were replaced with REPLACEMENT CHARACTER.\n"
     ]
    },
    {
     "name": "stdout",
     "output_type": "stream",
     "text": [
      "https://myherbal.ch/wp-content/uploads/2022/09/Falten-verringerndes-Serum50mL-1.png\n",
      "https://myherbal.ch/wp-content/uploads/2022/09/Herbalife_SKIN_post_7.jpg\n",
      "https://myherbal.ch/product/herbalife-skin-feuchtigkeitscreme-fuer-strahlende-haut-50-ml/\n",
      "https://myherbal.ch/wp-content/uploads/2022/09/Feuchtigkeitscreme-fuer-strahlende-Haut50mL-1.png\n",
      "https://myherbal.ch/wp-content/uploads/2022/09/Herbalife_SKIN_post_5.jpg\n",
      "https://myherbal.ch/product/herbalife-skin-feuchtigkeitscreme-fuer-strahlende-haut-50-ml/#respond\n",
      "https://myherbal.ch/wie-organisieren-sie-ihre-mahlzeiten-fuer-eine-ausgewogene-ernaehrung/\n",
      "https://myherbal.ch/richtig-essen-gut-schlafen/\n",
      "https://myherbal.ch/kurze-homeworkouts-ohne-equipment/\n",
      "https://myherbal.ch/aloe-vera-im-faktencheck/\n",
      "https://myherbal.ch/category/produkte/\n",
      "https://myherbal.ch/aloe-vera-im-faktencheck/#respond\n",
      "https://myherbal.ch/pfirsich-litschi-erdbeer-smoothie-vegan/\n",
      "https://myherbal.ch/category/rezepte/mit-formula-1/\n",
      "https://myherbal.ch/category/rezepte/\n",
      "https://myherbal.ch/pfirsich-litschi-erdbeer-smoothie-vegan/#respond\n",
      "https://myherbal.ch/pfirsich-litschi-mousse-vegan/\n",
      "https://myherbal.ch/pfirsich-muffins-vegetarisch/\n",
      "https://myherbal.ch/osterei-schokoladentrueffel/\n",
      "https://myherbal.ch/category/rezepte/ostern/\n",
      "https://myherbal.ch/osterei-schokoladentrueffel/#respond\n",
      "https://myherbal.ch/oster-blondies/\n",
      "https://myherbal.ch/karotten-shake/\n",
      "https://myherbal.ch/oster-lamm/\n",
      "https://myherbal.ch/liftoff-max-spritz/\n",
      "https://myherbal.ch/schoko-kuchen-2/\n",
      "https://myherbal.ch/vanille-blaubeeren-protein-shake/\n",
      "https://myherbal.ch/banana-cream-pfannkuchen/\n",
      "https://myherbal.ch/shake-formula-1/\n",
      "https://myherbal.ch/product-tag/shake/\n",
      "https://myherbal.ch/wie-organisieren-sie-ihre-mahlzeiten-fuer-eine-ausgewogene-ernaehrung/#respond\n",
      "https://myherbal.ch/richtig-essen-gut-schlafen/#respond\n",
      "https://myherbal.ch/kurze-homeworkouts-ohne-equipment/#respond\n",
      "https://myherbal.ch/category/rezepte/rezepte-mit-formula-1-sporth24/\n"
     ]
    },
    {
     "ename": "TooManyRedirects",
     "evalue": "Exceeded 30 redirects.",
     "output_type": "error",
     "traceback": [
      "\u001b[0;31m---------------------------------------------------------------------------\u001b[0m",
      "\u001b[0;31mTooManyRedirects\u001b[0m                          Traceback (most recent call last)",
      "Cell \u001b[0;32mIn[10], line 3\u001b[0m\n\u001b[1;32m      1\u001b[0m \u001b[39mfrom\u001b[39;00m \u001b[39mtools\u001b[39;00m \u001b[39mimport\u001b[39;00m sitemaper\n\u001b[1;32m      2\u001b[0m \u001b[39m#sitemaper.make_sitemap('https://www.ch.ch','_ch_ch')\u001b[39;00m\n\u001b[0;32m----> 3\u001b[0m sitemaper\u001b[39m.\u001b[39;49mmake_sitemap(\u001b[39m'\u001b[39;49m\u001b[39mhttps://myherbal.ch\u001b[39;49m\u001b[39m'\u001b[39;49m,\u001b[39m'\u001b[39;49m\u001b[39m_myherbal_ch\u001b[39;49m\u001b[39m'\u001b[39;49m)\n\u001b[1;32m      4\u001b[0m \u001b[39m#sitemaper.make_sitemap('https://www.digitale-verwaltung-schweiz.ch','_digitale_verwaltung_schweiz_ch')\u001b[39;00m\n",
      "File \u001b[0;32m/workspaces/codespaces-jupyter/app/tools/sitemaper/base.py:94\u001b[0m, in \u001b[0;36mmake_sitemap\u001b[0;34m(base_url, filename)\u001b[0m\n\u001b[1;32m     91\u001b[0m visited \u001b[39m=\u001b[39m \u001b[39mset\u001b[39m()\n\u001b[1;32m     93\u001b[0m \u001b[39m# Start building the sitemap from the base URL\u001b[39;00m\n\u001b[0;32m---> 94\u001b[0m build_sitemap(base_url, sitemap, visited, base_url)\n\u001b[1;32m     96\u001b[0m \u001b[39m# Create the root element of the sitemap\u001b[39;00m\n\u001b[1;32m     97\u001b[0m root \u001b[39m=\u001b[39m etree\u001b[39m.\u001b[39mElement(\n\u001b[1;32m     98\u001b[0m     \u001b[39m'\u001b[39m\u001b[39murlset\u001b[39m\u001b[39m'\u001b[39m, xmlns\u001b[39m=\u001b[39m\u001b[39m\"\u001b[39m\u001b[39mhttp://www.sitemaps.org/schemas/sitemap/0.9\u001b[39m\u001b[39m\"\u001b[39m)\n",
      "File \u001b[0;32m/workspaces/codespaces-jupyter/app/tools/sitemaper/base.py:77\u001b[0m, in \u001b[0;36mbuild_sitemap\u001b[0;34m(url, sitemap, visited, base_url)\u001b[0m\n\u001b[1;32m     75\u001b[0m \u001b[39m# Follow the links and add them to the sitemap\u001b[39;00m\n\u001b[1;32m     76\u001b[0m \u001b[39mfor\u001b[39;00m link \u001b[39min\u001b[39;00m links:\n\u001b[0;32m---> 77\u001b[0m     build_sitemap(link, sitemap, visited, base_url)\n",
      "File \u001b[0;32m/workspaces/codespaces-jupyter/app/tools/sitemaper/base.py:77\u001b[0m, in \u001b[0;36mbuild_sitemap\u001b[0;34m(url, sitemap, visited, base_url)\u001b[0m\n\u001b[1;32m     75\u001b[0m \u001b[39m# Follow the links and add them to the sitemap\u001b[39;00m\n\u001b[1;32m     76\u001b[0m \u001b[39mfor\u001b[39;00m link \u001b[39min\u001b[39;00m links:\n\u001b[0;32m---> 77\u001b[0m     build_sitemap(link, sitemap, visited, base_url)\n",
      "    \u001b[0;31m[... skipping similar frames: build_sitemap at line 77 (354 times)]\u001b[0m\n",
      "File \u001b[0;32m/workspaces/codespaces-jupyter/app/tools/sitemaper/base.py:77\u001b[0m, in \u001b[0;36mbuild_sitemap\u001b[0;34m(url, sitemap, visited, base_url)\u001b[0m\n\u001b[1;32m     75\u001b[0m \u001b[39m# Follow the links and add them to the sitemap\u001b[39;00m\n\u001b[1;32m     76\u001b[0m \u001b[39mfor\u001b[39;00m link \u001b[39min\u001b[39;00m links:\n\u001b[0;32m---> 77\u001b[0m     build_sitemap(link, sitemap, visited, base_url)\n",
      "File \u001b[0;32m/workspaces/codespaces-jupyter/app/tools/sitemaper/base.py:73\u001b[0m, in \u001b[0;36mbuild_sitemap\u001b[0;34m(url, sitemap, visited, base_url)\u001b[0m\n\u001b[1;32m     70\u001b[0m visited\u001b[39m.\u001b[39madd(path)\n\u001b[1;32m     72\u001b[0m \u001b[39m# Crawl the URL and extract the links\u001b[39;00m\n\u001b[0;32m---> 73\u001b[0m links \u001b[39m=\u001b[39m crawl(url, visited, base_url)\n\u001b[1;32m     75\u001b[0m \u001b[39m# Follow the links and add them to the sitemap\u001b[39;00m\n\u001b[1;32m     76\u001b[0m \u001b[39mfor\u001b[39;00m link \u001b[39min\u001b[39;00m links:\n",
      "File \u001b[0;32m/workspaces/codespaces-jupyter/app/tools/sitemaper/base.py:29\u001b[0m, in \u001b[0;36mcrawl\u001b[0;34m(url, visited, base_url)\u001b[0m\n\u001b[1;32m     26\u001b[0m     \u001b[39mreturn\u001b[39;00m []\n\u001b[1;32m     28\u001b[0m \u001b[39m# Send an HTTP request to the URL\u001b[39;00m\n\u001b[0;32m---> 29\u001b[0m response \u001b[39m=\u001b[39m requests\u001b[39m.\u001b[39;49mget(url, headers\u001b[39m=\u001b[39;49mheaders)\n\u001b[1;32m     31\u001b[0m \u001b[39m# Check if the response is successful\u001b[39;00m\n\u001b[1;32m     32\u001b[0m \u001b[39mif\u001b[39;00m response\u001b[39m.\u001b[39mstatus_code \u001b[39m==\u001b[39m \u001b[39m200\u001b[39m:\n\u001b[1;32m     33\u001b[0m     \u001b[39m# Parse the HTML content\u001b[39;00m\n",
      "File \u001b[0;32m~/.python/current/lib/python3.10/site-packages/requests/api.py:73\u001b[0m, in \u001b[0;36mget\u001b[0;34m(url, params, **kwargs)\u001b[0m\n\u001b[1;32m     62\u001b[0m \u001b[39mdef\u001b[39;00m \u001b[39mget\u001b[39m(url, params\u001b[39m=\u001b[39m\u001b[39mNone\u001b[39;00m, \u001b[39m*\u001b[39m\u001b[39m*\u001b[39mkwargs):\n\u001b[1;32m     63\u001b[0m \u001b[39m    \u001b[39m\u001b[39mr\u001b[39m\u001b[39m\"\"\"Sends a GET request.\u001b[39;00m\n\u001b[1;32m     64\u001b[0m \n\u001b[1;32m     65\u001b[0m \u001b[39m    :param url: URL for the new :class:`Request` object.\u001b[39;00m\n\u001b[0;32m   (...)\u001b[0m\n\u001b[1;32m     70\u001b[0m \u001b[39m    :rtype: requests.Response\u001b[39;00m\n\u001b[1;32m     71\u001b[0m \u001b[39m    \"\"\"\u001b[39;00m\n\u001b[0;32m---> 73\u001b[0m     \u001b[39mreturn\u001b[39;00m request(\u001b[39m\"\u001b[39;49m\u001b[39mget\u001b[39;49m\u001b[39m\"\u001b[39;49m, url, params\u001b[39m=\u001b[39;49mparams, \u001b[39m*\u001b[39;49m\u001b[39m*\u001b[39;49mkwargs)\n",
      "File \u001b[0;32m~/.python/current/lib/python3.10/site-packages/requests/api.py:59\u001b[0m, in \u001b[0;36mrequest\u001b[0;34m(method, url, **kwargs)\u001b[0m\n\u001b[1;32m     55\u001b[0m \u001b[39m# By using the 'with' statement we are sure the session is closed, thus we\u001b[39;00m\n\u001b[1;32m     56\u001b[0m \u001b[39m# avoid leaving sockets open which can trigger a ResourceWarning in some\u001b[39;00m\n\u001b[1;32m     57\u001b[0m \u001b[39m# cases, and look like a memory leak in others.\u001b[39;00m\n\u001b[1;32m     58\u001b[0m \u001b[39mwith\u001b[39;00m sessions\u001b[39m.\u001b[39mSession() \u001b[39mas\u001b[39;00m session:\n\u001b[0;32m---> 59\u001b[0m     \u001b[39mreturn\u001b[39;00m session\u001b[39m.\u001b[39;49mrequest(method\u001b[39m=\u001b[39;49mmethod, url\u001b[39m=\u001b[39;49murl, \u001b[39m*\u001b[39;49m\u001b[39m*\u001b[39;49mkwargs)\n",
      "File \u001b[0;32m~/.python/current/lib/python3.10/site-packages/requests/sessions.py:589\u001b[0m, in \u001b[0;36mSession.request\u001b[0;34m(self, method, url, params, data, headers, cookies, files, auth, timeout, allow_redirects, proxies, hooks, stream, verify, cert, json)\u001b[0m\n\u001b[1;32m    584\u001b[0m send_kwargs \u001b[39m=\u001b[39m {\n\u001b[1;32m    585\u001b[0m     \u001b[39m\"\u001b[39m\u001b[39mtimeout\u001b[39m\u001b[39m\"\u001b[39m: timeout,\n\u001b[1;32m    586\u001b[0m     \u001b[39m\"\u001b[39m\u001b[39mallow_redirects\u001b[39m\u001b[39m\"\u001b[39m: allow_redirects,\n\u001b[1;32m    587\u001b[0m }\n\u001b[1;32m    588\u001b[0m send_kwargs\u001b[39m.\u001b[39mupdate(settings)\n\u001b[0;32m--> 589\u001b[0m resp \u001b[39m=\u001b[39m \u001b[39mself\u001b[39;49m\u001b[39m.\u001b[39;49msend(prep, \u001b[39m*\u001b[39;49m\u001b[39m*\u001b[39;49msend_kwargs)\n\u001b[1;32m    591\u001b[0m \u001b[39mreturn\u001b[39;00m resp\n",
      "File \u001b[0;32m~/.python/current/lib/python3.10/site-packages/requests/sessions.py:725\u001b[0m, in \u001b[0;36mSession.send\u001b[0;34m(self, request, **kwargs)\u001b[0m\n\u001b[1;32m    722\u001b[0m \u001b[39mif\u001b[39;00m allow_redirects:\n\u001b[1;32m    723\u001b[0m     \u001b[39m# Redirect resolving generator.\u001b[39;00m\n\u001b[1;32m    724\u001b[0m     gen \u001b[39m=\u001b[39m \u001b[39mself\u001b[39m\u001b[39m.\u001b[39mresolve_redirects(r, request, \u001b[39m*\u001b[39m\u001b[39m*\u001b[39mkwargs)\n\u001b[0;32m--> 725\u001b[0m     history \u001b[39m=\u001b[39m [resp \u001b[39mfor\u001b[39;00m resp \u001b[39min\u001b[39;00m gen]\n\u001b[1;32m    726\u001b[0m \u001b[39melse\u001b[39;00m:\n\u001b[1;32m    727\u001b[0m     history \u001b[39m=\u001b[39m []\n",
      "File \u001b[0;32m~/.python/current/lib/python3.10/site-packages/requests/sessions.py:725\u001b[0m, in \u001b[0;36m<listcomp>\u001b[0;34m(.0)\u001b[0m\n\u001b[1;32m    722\u001b[0m \u001b[39mif\u001b[39;00m allow_redirects:\n\u001b[1;32m    723\u001b[0m     \u001b[39m# Redirect resolving generator.\u001b[39;00m\n\u001b[1;32m    724\u001b[0m     gen \u001b[39m=\u001b[39m \u001b[39mself\u001b[39m\u001b[39m.\u001b[39mresolve_redirects(r, request, \u001b[39m*\u001b[39m\u001b[39m*\u001b[39mkwargs)\n\u001b[0;32m--> 725\u001b[0m     history \u001b[39m=\u001b[39m [resp \u001b[39mfor\u001b[39;00m resp \u001b[39min\u001b[39;00m gen]\n\u001b[1;32m    726\u001b[0m \u001b[39melse\u001b[39;00m:\n\u001b[1;32m    727\u001b[0m     history \u001b[39m=\u001b[39m []\n",
      "File \u001b[0;32m~/.python/current/lib/python3.10/site-packages/requests/sessions.py:191\u001b[0m, in \u001b[0;36mSessionRedirectMixin.resolve_redirects\u001b[0;34m(self, resp, req, stream, timeout, verify, cert, proxies, yield_requests, **adapter_kwargs)\u001b[0m\n\u001b[1;32m    188\u001b[0m     resp\u001b[39m.\u001b[39mraw\u001b[39m.\u001b[39mread(decode_content\u001b[39m=\u001b[39m\u001b[39mFalse\u001b[39;00m)\n\u001b[1;32m    190\u001b[0m \u001b[39mif\u001b[39;00m \u001b[39mlen\u001b[39m(resp\u001b[39m.\u001b[39mhistory) \u001b[39m>\u001b[39m\u001b[39m=\u001b[39m \u001b[39mself\u001b[39m\u001b[39m.\u001b[39mmax_redirects:\n\u001b[0;32m--> 191\u001b[0m     \u001b[39mraise\u001b[39;00m TooManyRedirects(\n\u001b[1;32m    192\u001b[0m         \u001b[39mf\u001b[39m\u001b[39m\"\u001b[39m\u001b[39mExceeded \u001b[39m\u001b[39m{\u001b[39;00m\u001b[39mself\u001b[39m\u001b[39m.\u001b[39mmax_redirects\u001b[39m}\u001b[39;00m\u001b[39m redirects.\u001b[39m\u001b[39m\"\u001b[39m, response\u001b[39m=\u001b[39mresp\n\u001b[1;32m    193\u001b[0m     )\n\u001b[1;32m    195\u001b[0m \u001b[39m# Release the connection back into the pool.\u001b[39;00m\n\u001b[1;32m    196\u001b[0m resp\u001b[39m.\u001b[39mclose()\n",
      "\u001b[0;31mTooManyRedirects\u001b[0m: Exceeded 30 redirects."
     ]
    }
   ],
   "source": [
    "from tools import sitemaper\n",
    "#sitemaper.make_sitemap('https://www.ch.ch','_ch_ch')\n",
    "sitemaper.make_sitemap('https://myherbal.ch','_myherbal_ch')\n",
    "#sitemaper.make_sitemap('https://www.digitale-verwaltung-schweiz.ch','_digitale_verwaltung_schweiz_ch')\n"
   ]
  },
  {
   "attachments": {},
   "cell_type": "markdown",
   "metadata": {},
   "source": [
    "## make documents from sitemaps"
   ]
  },
  {
   "cell_type": "code",
   "execution_count": null,
   "metadata": {},
   "outputs": [],
   "source": [
    "from tools import webextractor\n",
    "documents = webextractor.get_documents_from_sitemap(\n",
    "    sitemap_path='data/sitemaps/sitemap__digitale_verwaltung_schweiz_ch.xml', \n",
    "    sitemap_url_filter=''\n",
    "    )\n",
    "documents"
   ]
  },
  {
   "attachments": {},
   "cell_type": "markdown",
   "metadata": {},
   "source": [
    "## vectorstore"
   ]
  },
  {
   "attachments": {},
   "cell_type": "markdown",
   "metadata": {},
   "source": [
    "### add documents to a local vectorstore"
   ]
  },
  {
   "cell_type": "code",
   "execution_count": null,
   "metadata": {},
   "outputs": [],
   "source": [
    "from tools import vectorstore\n",
    "vectorstore.add_stuff_to_store(documents)"
   ]
  },
  {
   "attachments": {},
   "cell_type": "markdown",
   "metadata": {},
   "source": [
    "### load local vectorestore"
   ]
  },
  {
   "cell_type": "code",
   "execution_count": null,
   "metadata": {},
   "outputs": [],
   "source": [
    "from tools import vectorstore\n",
    "store = vectorstore.load_vectorstore()"
   ]
  },
  {
   "attachments": {},
   "cell_type": "markdown",
   "metadata": {},
   "source": [
    "## query the vectorstore"
   ]
  },
  {
   "cell_type": "code",
   "execution_count": null,
   "metadata": {},
   "outputs": [],
   "source": [
    "query = \"Darf der Bund eine E-Government-Plattform aufbauen?\"\n",
    "k=1"
   ]
  },
  {
   "cell_type": "code",
   "execution_count": null,
   "metadata": {},
   "outputs": [],
   "source": [
    "result_similarity_search = store.similarity_search(query, k=k)\n",
    "result_similarity_search_with_score = store.similarity_search_with_score(query, k=k)\n",
    "result_similarity_search_with_relevance_scores = store.similarity_search_with_relevance_scores(query, k=k)"
   ]
  },
  {
   "cell_type": "code",
   "execution_count": null,
   "metadata": {},
   "outputs": [],
   "source": [
    "result_similarity_search"
   ]
  },
  {
   "cell_type": "code",
   "execution_count": null,
   "metadata": {},
   "outputs": [],
   "source": [
    "result_similarity_search_with_score"
   ]
  },
  {
   "cell_type": "code",
   "execution_count": null,
   "metadata": {},
   "outputs": [],
   "source": [
    "result_similarity_search_with_relevance_scores"
   ]
  }
 ],
 "metadata": {
  "kernelspec": {
   "display_name": "Python 3",
   "language": "python",
   "name": "python3"
  },
  "language_info": {
   "codemirror_mode": {
    "name": "ipython",
    "version": 3
   },
   "file_extension": ".py",
   "mimetype": "text/x-python",
   "name": "python",
   "nbconvert_exporter": "python",
   "pygments_lexer": "ipython3",
   "version": "3.10.8"
  },
  "orig_nbformat": 4
 },
 "nbformat": 4,
 "nbformat_minor": 2
}
