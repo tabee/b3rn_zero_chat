{
 "cells": [
  {
   "attachments": {},
   "cell_type": "markdown",
   "metadata": {},
   "source": [
    "# Demo b3rn_zero_chat"
   ]
  },
  {
   "attachments": {},
   "cell_type": "markdown",
   "metadata": {},
   "source": [
    "## make some xml sitemaps"
   ]
  },
  {
   "cell_type": "code",
   "execution_count": null,
   "metadata": {},
   "outputs": [],
   "source": [
    "from tools import sitemaper\n",
    "#sitemaper.make_sitemap('https://www.ch.ch','_ch_ch')\n",
    "#sitemaper.make_sitemap('https://myherbal.ch','_myherbal_ch')\n",
    "sitemaper.make_sitemap('https://bee-gu.ch','_bee_gu_ch')\n",
    "#sitemaper.make_sitemap('https://www.digitale-verwaltung-schweiz.ch','_digitale_verwaltung_schweiz_ch')\n"
   ]
  },
  {
   "attachments": {},
   "cell_type": "markdown",
   "metadata": {},
   "source": [
    "## make documents from sitemaps"
   ]
  },
  {
   "cell_type": "code",
   "execution_count": null,
   "metadata": {},
   "outputs": [],
   "source": [
    "from tools import webextractor\n",
    "documents = webextractor.get_documents_from_sitemap(\n",
    "    sitemap_path='/data/sitemaps/sitemap__bee_gu_ch.xml', \n",
    "    sitemap_url_filter=''\n",
    "    )\n",
    "documents"
   ]
  },
  {
   "attachments": {},
   "cell_type": "markdown",
   "metadata": {},
   "source": [
    "# make documents from pdf"
   ]
  },
  {
   "cell_type": "code",
   "execution_count": 5,
   "metadata": {},
   "outputs": [],
   "source": [
    "from tools import pdfextractor\n",
    "more_documents = pdfextractor.pdf_extractor_from_single_file('https://www.ahv-iv.ch/p/6.08.d')"
   ]
  },
  {
   "attachments": {},
   "cell_type": "markdown",
   "metadata": {},
   "source": [
    "## vectorstore"
   ]
  },
  {
   "attachments": {},
   "cell_type": "markdown",
   "metadata": {},
   "source": [
    "### add documents to a local vectorstore"
   ]
  },
  {
   "cell_type": "code",
   "execution_count": 6,
   "metadata": {},
   "outputs": [
    {
     "name": "stdout",
     "output_type": "stream",
     "text": [
      "FAISS-Store ist vorhanden.\n"
     ]
    }
   ],
   "source": [
    "from tools import vectorstore\n",
    "vectorstore.add_stuff_to_store(more_documents)\n",
    "vectorstore.add_stuff_to_store(documents)"
   ]
  },
  {
   "attachments": {},
   "cell_type": "markdown",
   "metadata": {},
   "source": [
    "### load local vectorestore"
   ]
  },
  {
   "cell_type": "code",
   "execution_count": 7,
   "metadata": {},
   "outputs": [],
   "source": [
    "from tools import vectorstore\n",
    "store = vectorstore.load_vectorstore()"
   ]
  },
  {
   "attachments": {},
   "cell_type": "markdown",
   "metadata": {},
   "source": [
    "## query the vectorstore"
   ]
  },
  {
   "cell_type": "code",
   "execution_count": 8,
   "metadata": {},
   "outputs": [],
   "source": [
    "query = \"Wer hat Anspruch auf Familienzulagen?\"\n",
    "k=1"
   ]
  },
  {
   "cell_type": "code",
   "execution_count": 9,
   "metadata": {},
   "outputs": [],
   "source": [
    "result_similarity_search = store.similarity_search(query, k=k)\n",
    "result_similarity_search_with_score = store.similarity_search_with_score(query, k=k)\n",
    "result_similarity_search_with_relevance_scores = store.similarity_search_with_relevance_scores(query, k=k)"
   ]
  },
  {
   "cell_type": "code",
   "execution_count": 10,
   "metadata": {},
   "outputs": [
    {
     "data": {
      "text/plain": [
       "[Document(page_content='Auf einen Blick\\nDie Familienzulagen sollen die Kosten, die den Eltern durch den Unter-\\nhalt ihrer Kinder entstehen, teilweise ausgleichen. Sie umfassen Kinder-\\nund Ausbildungszulagen sowie die von einzelnen Kantonen eingeführten\\nGeburts- und Adoptionszulagen.\\nNach dem Bundesgesetz über die Familienzulagen (FamZG) werden in allen\\nKantonen mindestens die folgenden Zulagen pro Kind und Monat ausge-\\nrichtet:\\n• eine Kinderzulage von 200 Franken für Kinder bis 16 Jahre oder bis\\nzum Anspruch auf die Ausbildungszulage;\\n• eine Ausbildungszulage von 250 Franken für Jugendliche, die eine\\nnachobligatorische Ausbildung absolvieren, frühestens ab 15 Jahren,\\nbis 25 Jahre.\\nAnspruch auf Familienzulagen haben alle Arbeitnehmenden, alle Selbstän-\\ndigerwerbenden sowie Nichterwerbstätige mit bescheidenen Einkommen\\nund arbeitslose Mütter, die eine Mutterschaftsentschädigung beziehen,\\nohne Einkommensgrenze. Für die Beschäftigten in der Landwirtschaft gilt\\neine Sonderregelung (siehe Merkblatt 6.09 – Familienzulagen in der Land-\\nwirtschaft).\\nDieses Merkblatt informiert Arbeitnehmende, Selbständigerwerbende und\\nNichterwerbstätige mit Kindern sowie Arbeitgebende.\\nAnspruch\\n1 Wer hat Anspruch auf Familienzulagen?\\n• Arbeitnehmende und Selbständigerwerbende ausserhalb der Land-\\nwirtschaft: Auf diese Personen ist das Bundesgesetz über die Familien-\\nzulagen (FamZG) anwendbar.\\n• Nichterwerbstätige im Sinne der AHV: Das FamZG gibt auch den Nicht-\\nerwerbstätigen mit bescheidenem Einkommen grundsätzlich einen\\nAnspruch auf Familienzulagen. Arbeitslose Mütter, die eine Mutter-\\nschaftsentschädigung beziehen, gelten auch als Nichterwerbstätige,\\nohne Berücksichtigung der Einkommensgrenze.\\n• Personen, die in der Landwirtschaft tätig sind: Mit dem Bundesgesetz\\nüber die Familienzulagen in der Landwirtschaft (FLG) gilt eine Sonder-\\nregelung, die sowohl selbständigen Landwirtinnen und Landwirten,\\nwie auch landwirtschaftlichen Arbeitnehmerinnen und Arbeitnehmern\\nAnspruch auf Familienzulagen gibt. Mehr Informationen dazu finden\\nSie im Merkblatt 6.09 – Familienzulagen in der Landwirtschaft.\\n2', metadata={'source': '/tmp/tmpvf5kgpky', 'file_path': '/tmp/tmpvf5kgpky', 'page': 2, 'total_pages': 12, 'CreationDate': \"D:20230217104431+01'00'\", 'Creator': 'Adobe InDesign 17.0 (Windows)', 'ModDate': \"D:20230217104432+01'00'\", 'Producer': 'Adobe PDF Library 16.0.3', 'Trapped': 'False'})]"
      ]
     },
     "execution_count": 10,
     "metadata": {},
     "output_type": "execute_result"
    }
   ],
   "source": [
    "result_similarity_search"
   ]
  },
  {
   "cell_type": "code",
   "execution_count": 11,
   "metadata": {},
   "outputs": [
    {
     "data": {
      "text/plain": [
       "[(Document(page_content='Auf einen Blick\\nDie Familienzulagen sollen die Kosten, die den Eltern durch den Unter-\\nhalt ihrer Kinder entstehen, teilweise ausgleichen. Sie umfassen Kinder-\\nund Ausbildungszulagen sowie die von einzelnen Kantonen eingeführten\\nGeburts- und Adoptionszulagen.\\nNach dem Bundesgesetz über die Familienzulagen (FamZG) werden in allen\\nKantonen mindestens die folgenden Zulagen pro Kind und Monat ausge-\\nrichtet:\\n• eine Kinderzulage von 200 Franken für Kinder bis 16 Jahre oder bis\\nzum Anspruch auf die Ausbildungszulage;\\n• eine Ausbildungszulage von 250 Franken für Jugendliche, die eine\\nnachobligatorische Ausbildung absolvieren, frühestens ab 15 Jahren,\\nbis 25 Jahre.\\nAnspruch auf Familienzulagen haben alle Arbeitnehmenden, alle Selbstän-\\ndigerwerbenden sowie Nichterwerbstätige mit bescheidenen Einkommen\\nund arbeitslose Mütter, die eine Mutterschaftsentschädigung beziehen,\\nohne Einkommensgrenze. Für die Beschäftigten in der Landwirtschaft gilt\\neine Sonderregelung (siehe Merkblatt 6.09 – Familienzulagen in der Land-\\nwirtschaft).\\nDieses Merkblatt informiert Arbeitnehmende, Selbständigerwerbende und\\nNichterwerbstätige mit Kindern sowie Arbeitgebende.\\nAnspruch\\n1 Wer hat Anspruch auf Familienzulagen?\\n• Arbeitnehmende und Selbständigerwerbende ausserhalb der Land-\\nwirtschaft: Auf diese Personen ist das Bundesgesetz über die Familien-\\nzulagen (FamZG) anwendbar.\\n• Nichterwerbstätige im Sinne der AHV: Das FamZG gibt auch den Nicht-\\nerwerbstätigen mit bescheidenem Einkommen grundsätzlich einen\\nAnspruch auf Familienzulagen. Arbeitslose Mütter, die eine Mutter-\\nschaftsentschädigung beziehen, gelten auch als Nichterwerbstätige,\\nohne Berücksichtigung der Einkommensgrenze.\\n• Personen, die in der Landwirtschaft tätig sind: Mit dem Bundesgesetz\\nüber die Familienzulagen in der Landwirtschaft (FLG) gilt eine Sonder-\\nregelung, die sowohl selbständigen Landwirtinnen und Landwirten,\\nwie auch landwirtschaftlichen Arbeitnehmerinnen und Arbeitnehmern\\nAnspruch auf Familienzulagen gibt. Mehr Informationen dazu finden\\nSie im Merkblatt 6.09 – Familienzulagen in der Landwirtschaft.\\n2', metadata={'source': '/tmp/tmpvf5kgpky', 'file_path': '/tmp/tmpvf5kgpky', 'page': 2, 'total_pages': 12, 'CreationDate': \"D:20230217104431+01'00'\", 'Creator': 'Adobe InDesign 17.0 (Windows)', 'ModDate': \"D:20230217104432+01'00'\", 'Producer': 'Adobe PDF Library 16.0.3', 'Trapped': 'False'}),\n",
       "  0.22008787)]"
      ]
     },
     "execution_count": 11,
     "metadata": {},
     "output_type": "execute_result"
    }
   ],
   "source": [
    "result_similarity_search_with_score"
   ]
  },
  {
   "cell_type": "code",
   "execution_count": 12,
   "metadata": {},
   "outputs": [
    {
     "data": {
      "text/plain": [
       "[(Document(page_content='Auf einen Blick\\nDie Familienzulagen sollen die Kosten, die den Eltern durch den Unter-\\nhalt ihrer Kinder entstehen, teilweise ausgleichen. Sie umfassen Kinder-\\nund Ausbildungszulagen sowie die von einzelnen Kantonen eingeführten\\nGeburts- und Adoptionszulagen.\\nNach dem Bundesgesetz über die Familienzulagen (FamZG) werden in allen\\nKantonen mindestens die folgenden Zulagen pro Kind und Monat ausge-\\nrichtet:\\n• eine Kinderzulage von 200 Franken für Kinder bis 16 Jahre oder bis\\nzum Anspruch auf die Ausbildungszulage;\\n• eine Ausbildungszulage von 250 Franken für Jugendliche, die eine\\nnachobligatorische Ausbildung absolvieren, frühestens ab 15 Jahren,\\nbis 25 Jahre.\\nAnspruch auf Familienzulagen haben alle Arbeitnehmenden, alle Selbstän-\\ndigerwerbenden sowie Nichterwerbstätige mit bescheidenen Einkommen\\nund arbeitslose Mütter, die eine Mutterschaftsentschädigung beziehen,\\nohne Einkommensgrenze. Für die Beschäftigten in der Landwirtschaft gilt\\neine Sonderregelung (siehe Merkblatt 6.09 – Familienzulagen in der Land-\\nwirtschaft).\\nDieses Merkblatt informiert Arbeitnehmende, Selbständigerwerbende und\\nNichterwerbstätige mit Kindern sowie Arbeitgebende.\\nAnspruch\\n1 Wer hat Anspruch auf Familienzulagen?\\n• Arbeitnehmende und Selbständigerwerbende ausserhalb der Land-\\nwirtschaft: Auf diese Personen ist das Bundesgesetz über die Familien-\\nzulagen (FamZG) anwendbar.\\n• Nichterwerbstätige im Sinne der AHV: Das FamZG gibt auch den Nicht-\\nerwerbstätigen mit bescheidenem Einkommen grundsätzlich einen\\nAnspruch auf Familienzulagen. Arbeitslose Mütter, die eine Mutter-\\nschaftsentschädigung beziehen, gelten auch als Nichterwerbstätige,\\nohne Berücksichtigung der Einkommensgrenze.\\n• Personen, die in der Landwirtschaft tätig sind: Mit dem Bundesgesetz\\nüber die Familienzulagen in der Landwirtschaft (FLG) gilt eine Sonder-\\nregelung, die sowohl selbständigen Landwirtinnen und Landwirten,\\nwie auch landwirtschaftlichen Arbeitnehmerinnen und Arbeitnehmern\\nAnspruch auf Familienzulagen gibt. Mehr Informationen dazu finden\\nSie im Merkblatt 6.09 – Familienzulagen in der Landwirtschaft.\\n2', metadata={'source': '/tmp/tmpvf5kgpky', 'file_path': '/tmp/tmpvf5kgpky', 'page': 2, 'total_pages': 12, 'CreationDate': \"D:20230217104431+01'00'\", 'Creator': 'Adobe InDesign 17.0 (Windows)', 'ModDate': \"D:20230217104432+01'00'\", 'Producer': 'Adobe PDF Library 16.0.3', 'Trapped': 'False'}),\n",
       "  0.8443743739904793)]"
      ]
     },
     "execution_count": 12,
     "metadata": {},
     "output_type": "execute_result"
    }
   ],
   "source": [
    "result_similarity_search_with_relevance_scores"
   ]
  }
 ],
 "metadata": {
  "kernelspec": {
   "display_name": "Python 3",
   "language": "python",
   "name": "python3"
  },
  "language_info": {
   "codemirror_mode": {
    "name": "ipython",
    "version": 3
   },
   "file_extension": ".py",
   "mimetype": "text/x-python",
   "name": "python",
   "nbconvert_exporter": "python",
   "pygments_lexer": "ipython3",
   "version": "3.10.4"
  },
  "orig_nbformat": 4
 },
 "nbformat": 4,
 "nbformat_minor": 2
}
