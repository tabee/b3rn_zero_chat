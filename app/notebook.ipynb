{
 "cells": [
  {
   "attachments": {},
   "cell_type": "markdown",
   "metadata": {},
   "source": [
    "# Demo b3rn_zero_chat"
   ]
  },
  {
   "attachments": {},
   "cell_type": "markdown",
   "metadata": {},
   "source": [
    "## make some xml sitemaps"
   ]
  },
  {
   "cell_type": "code",
   "execution_count": null,
   "metadata": {},
   "outputs": [],
   "source": [
    "from tools import sitemaper\n",
    "#sitemaper.make_sitemap('https://www.ch.ch','_ch_ch')\n",
    "#sitemaper.make_sitemap('https://www.eak.admin.ch','_eak_admin_ch')\n",
    "sitemaper.make_sitemap('https://www.digitale-verwaltung-schweiz.ch','_digitale_verwaltung_schweiz_ch')\n"
   ]
  },
  {
   "attachments": {},
   "cell_type": "markdown",
   "metadata": {},
   "source": [
    "## make documents from sitemaps"
   ]
  },
  {
   "cell_type": "code",
   "execution_count": null,
   "metadata": {},
   "outputs": [],
   "source": [
    "from tools import webextractor\n",
    "documents = webextractor.get_documents_from_sitemap(\n",
    "    sitemap_path='data/sitemaps/sitemap__digitale_verwaltung_schweiz_ch.xml', \n",
    "    sitemap_url_filter='https://www.digitale-verwaltung-schweiz.ch/umsetzungsplan/dienstleistungen'\n",
    "    )\n",
    "documents"
   ]
  },
  {
   "attachments": {},
   "cell_type": "markdown",
   "metadata": {},
   "source": [
    "## vectorstore"
   ]
  },
  {
   "attachments": {},
   "cell_type": "markdown",
   "metadata": {},
   "source": [
    "### add documents to a local vectorstore"
   ]
  },
  {
   "cell_type": "code",
   "execution_count": null,
   "metadata": {},
   "outputs": [],
   "source": [
    "from tools import vectorstore\n",
    "vectorstore.add_stuff_to_store(documents)"
   ]
  },
  {
   "attachments": {},
   "cell_type": "markdown",
   "metadata": {},
   "source": [
    "### load local vectorestore"
   ]
  },
  {
   "cell_type": "code",
   "execution_count": 2,
   "metadata": {},
   "outputs": [
    {
     "name": "stdout",
     "output_type": "stream",
     "text": [
      "sitemaper initialized.\n",
      "webextractor initialized.\n",
      "all tools initialized.\n"
     ]
    }
   ],
   "source": [
    "from tools import vectorstore\n",
    "store = vectorstore.load_vectorstore()"
   ]
  },
  {
   "attachments": {},
   "cell_type": "markdown",
   "metadata": {},
   "source": [
    "## query the vectorstore"
   ]
  },
  {
   "cell_type": "code",
   "execution_count": 12,
   "metadata": {},
   "outputs": [],
   "source": [
    "query = \"Darf der Bund eine E-Government-Plattform aufbauen?\"\n",
    "k=1"
   ]
  },
  {
   "cell_type": "code",
   "execution_count": 17,
   "metadata": {},
   "outputs": [],
   "source": [
    "result_similarity_search = store.similarity_search(query, k=k)\n",
    "result_similarity_search_with_score = store.similarity_search_with_score(query, k=k)\n",
    "result_similarity_search_with_relevance_scores = store.similarity_search_with_relevance_scores(query, k=k)"
   ]
  },
  {
   "cell_type": "code",
   "execution_count": 15,
   "metadata": {},
   "outputs": [
    {
     "data": {
      "text/plain": [
       "[(Document(page_content='#1 E-Government: Braucht es spezifische rechtliche Grundlagen?\\nDie Frage nach rechtlichen Grundlagen für E-Government ist berechtigt: E-Government ist Verwaltungshandeln und Leistungserbringung durch die Verwaltung - in elektronischer Form. Ist es notwendig, der Verwaltung das Handeln in der elektronischen Form zu erlauben? Und vor allem: Genügt das? Oder sind noch andere Fragen zu regeln? Antworten gibt es im Wissensblog Recht der Digitalen Verwaltung Schweiz. Ein Beitrag von Timur Acemoglu.\\nTimur Acemoglu\\nVerein eJustice.CH\\nTimur Acemoglu ist Jurist und Co-Geschäftsführer des\\xa0Vereins eJustice.CH. Der Verein\\xa0hat zum Ziel, den Einsatz von Informationstechnologie zur Steigerung der Leistungsfähigkeit und Bürgernähe in der Rechtspflege von Bund, Kantonen und Gemeinden zu fördern.\\nSelbstverständlich ist E-Government mehr als nur die identische Leistungserbringung der Verwaltung in elektronischer statt analoger Form.\\nGrundlage und Schranke des staatlichen Handelns ist das Recht - diesen in der Bundesverfassung verankerten Grundsatz haben Sie sicher auch schon von einer Juristin oder einem Juristen gehört. Und das Recht regelt in Verfahrensnormen oft auch die zulässige Form der Kommunikation zwischen Behörden und betroffenen Personen.', metadata={'source': 'https://www.digitale-verwaltung-schweiz.ch/umsetzungsplan/dienstleistungen/wissensblog-recht/willkommen-im-wissensblog-e-government-recht'}),\n",
       "  0.8209865293060414)]"
      ]
     },
     "execution_count": 15,
     "metadata": {},
     "output_type": "execute_result"
    }
   ],
   "source": [
    "result_similarity_search_with_relevance_scores"
   ]
  }
 ],
 "metadata": {
  "kernelspec": {
   "display_name": "Python 3",
   "language": "python",
   "name": "python3"
  },
  "language_info": {
   "codemirror_mode": {
    "name": "ipython",
    "version": 3
   },
   "file_extension": ".py",
   "mimetype": "text/x-python",
   "name": "python",
   "nbconvert_exporter": "python",
   "pygments_lexer": "ipython3",
   "version": "3.10.8"
  },
  "orig_nbformat": 4
 },
 "nbformat": 4,
 "nbformat_minor": 2
}
