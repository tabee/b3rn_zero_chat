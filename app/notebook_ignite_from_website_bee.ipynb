{
 "cells": [
  {
   "attachments": {},
   "cell_type": "markdown",
   "metadata": {},
   "source": [
    "# ignite b3rn_zero_chat"
   ]
  },
  {
   "attachments": {},
   "cell_type": "markdown",
   "metadata": {},
   "source": [
    "## make some xml sitemaps"
   ]
  },
  {
   "cell_type": "code",
   "execution_count": 2,
   "metadata": {},
   "outputs": [
    {
     "name": "stdout",
     "output_type": "stream",
     "text": [
      "make sitemap for https://www.bee-gu.ch\n",
      "https://www.bee-gu.ch\n"
     ]
    },
    {
     "name": "stdout",
     "output_type": "stream",
     "text": [
      "https://www.bee-gu.ch/7-familienhaus-in-steffisburg.html\n",
      "https://www.bee-gu.ch/wohnen-im-obstgarten-l%C3%BCtzelfl%C3%BCh.html\n",
      "https://www.bee-gu.ch/gartenwohnung-zu-verkaufen.html\n",
      "https://www.bee-gu.ch/neues-projekt-tag-der-offenen-t%C3%BCr-25-01-2020.html\n",
      "https://www.bee-gu.ch/\n",
      "https://www.bee-gu.ch/Wohnen-Oberdiessbach.html\n",
      "https://www.bee-gu.ch/abstellraum-in-zollbrueck-zu-vermieten.html\n",
      "https://www.bee-gu.ch/einstellhallenplatz-in-hasle-b-b-zu-vermieten.html\n"
     ]
    }
   ],
   "source": [
    "from tools import sitemaper\n",
    "xml_sitemap_name = '_bee_gu_ch'\n",
    "xml_start_url = 'https://www.bee-gu.ch'\n",
    "sitemaper.make_sitemap(xml_start_url, xml_sitemap_name)"
   ]
  },
  {
   "attachments": {},
   "cell_type": "markdown",
   "metadata": {},
   "source": [
    "## make documents from sitemaps"
   ]
  },
  {
   "cell_type": "code",
   "execution_count": 5,
   "metadata": {},
   "outputs": [
    {
     "name": "stdout",
     "output_type": "stream",
     "text": [
      "Reading sitemap from /workspaces/b3rn_zero_chat/data/sitemaps/sitemap__bee_gu_ch.xml\n",
      "Filtering for urls containing /\n",
      "Found 9 urls in /workspaces/b3rn_zero_chat/data/sitemaps/sitemap__bee_gu_ch.xml\n",
      "Split https://www.bee-gu.ch into 0 chunks\n",
      "Split https://www.bee-gu.ch into 2 chunks\n",
      "Split https://www.bee-gu.ch/7-familienhaus-in-steffisburg.html into 1 chunks\n",
      "Split https://www.bee-gu.ch/7-familienhaus-in-steffisburg.html into 1 chunks\n",
      "Split https://www.bee-gu.ch/wohnen-im-obstgarten-l%C3%BCtzelfl%C3%BCh.html into 1 chunks\n",
      "Split https://www.bee-gu.ch/wohnen-im-obstgarten-l%C3%BCtzelfl%C3%BCh.html into 1 chunks\n",
      "Split https://www.bee-gu.ch/gartenwohnung-zu-verkaufen.html into 1 chunks\n",
      "Split https://www.bee-gu.ch/gartenwohnung-zu-verkaufen.html into 1 chunks\n",
      "Split https://www.bee-gu.ch/neues-projekt-tag-der-offenen-t%C3%BCr-25-01-2020.html into 1 chunks\n",
      "Split https://www.bee-gu.ch/neues-projekt-tag-der-offenen-t%C3%BCr-25-01-2020.html into 1 chunks\n",
      "Split https://www.bee-gu.ch/ into 0 chunks\n",
      "Split https://www.bee-gu.ch/ into 2 chunks\n",
      "Split https://www.bee-gu.ch/Wohnen-Oberdiessbach.html into 1 chunks\n",
      "Split https://www.bee-gu.ch/Wohnen-Oberdiessbach.html into 1 chunks\n",
      "Split https://www.bee-gu.ch/abstellraum-in-zollbrueck-zu-vermieten.html into 1 chunks\n",
      "Split https://www.bee-gu.ch/abstellraum-in-zollbrueck-zu-vermieten.html into 1 chunks\n",
      "Split https://www.bee-gu.ch/einstellhallenplatz-in-hasle-b-b-zu-vermieten.html into 1 chunks\n",
      "Split https://www.bee-gu.ch/einstellhallenplatz-in-hasle-b-b-zu-vermieten.html into 1 chunks\n"
     ]
    },
    {
     "data": {
      "text/plain": [
       "[Document(page_content='Kostenlose Immobilienbewertung!\\nHerzlich willkommen\\nWir sind ein Dienstleistungsunternehmen im Bereich der Planung, der Generalunternehmung, der Verwaltung und der Immobiliendienstleistung und streben eine maximale Kundenzufriedenheit an. Unsere kreative und gesamtheitliche Beratung und Ausführung ist von hoher Qualität und von optimalem Kundennutzen geprägt. Unser Ziel ist, Ihr Vorhaben fachmännisch und zu Ihrer vollen Zufriedenheit zu realisieren.\\nWir suchen Altliegenschaften & Bauland\\nWir bieten Ihnen eine kompetente Beratung vom Landkauf über die Planung bis zur Realisierung mit anschliessender Bewirtschaftung oder Vermarktung einer Liegenschaft an.\\nNeue Kaufobjekte\\nMehrfamilienhaus in Steffisburg\\n7 neue Wohnungen mit Lift!\\nWir bauen in Steffisburg ein Mehrfamilienhaus mit sieben 4½ Zimmer Wohnungen, Lift, grossen Balkonen und wunderbarer Aussicht. Baubeginn hat im März stattgefunden. Es sind noch wenige Wohnungen verfügbar.\\nDETAILS\\nWohnen im Obstgarten\\nBaustart 6. Mehrfamilienhaus hat stattgefunden!\\nDie Überbauung \"Wohnen im Obstgarten besteht aus insgesamt 7 Mehrfamilienhäusern. Zum Verkauf stehen noch neue 3.5 Zimmer Wohnungen im sechsten Mehrfamilienhaus. Eine Musterwohnung ist vorhanden.\\nDETAILS\\n5 1/2 Zimmer Einfamilienhaus\\nUnglaubliche 1\\'250m2 Grundstück\\nAusbaupotential im DG, 4 Parkplätze, Bezug in wenigen Monaten, Cheminée und viel Platz zum Spielen und Toben im grossen Garten.\\nDETAILS\\nRenditeobjekt zu verkaufen\\nTolle, vermietete Eigentumswohnung\\nDie Wohnung befindet sich im Obergeschoss eines Achtfamilienhauses. Sämtliche Stockwerke sind von dem Untergeschoss über das Treppenhaus sowie mit\\ndem Lift bequem erreichbar. Die Wohnung ist bereits vermietet und eignet sich ideal für Investoren.\\nDETAILS\\nNeues Projekt in Burgdorf\\n3½ & 4½ Zimmer Wohnungen', metadata={'source': 'https://www.bee-gu.ch'}),\n",
       " Document(page_content='dem Lift bequem erreichbar. Die Wohnung ist bereits vermietet und eignet sich ideal für Investoren.\\nDETAILS\\nNeues Projekt in Burgdorf\\n3½ & 4½ Zimmer Wohnungen\\nBald erfahren Sie hier mehr über unser neues Projekt mit 2 Sechsfamilienhäusern in Burgdorf.  Sie möchten sich bereits jetzt auf unsere Interessentenliste setzen lassen? Schreiben Sie eine E-Mail an: melanie.haas@bee-gu.ch\\nDETAILS\\n3 Mehrfamilienhäuser in Oberdiessbach\\nNur noch eine Wohnung zu verkaufen!\\n18 neue 4.5 Zimmer Eigentumswohnungen mit Lift sind in unserem Terzetto entstanden! Wohnflächen von ca. 110m2 bis 130m2.\\nDETAILS\\nAlle Kaufobjekte\\nNeue Mietobjekte\\nAbstellraum in Zollbrück zu vermieten\\nSie sind auf der Suche nach einer Alternative um mehr Platz zu schaffen?\\nGrosszügiger Abstellraum in Zollbrück per sofort zu vermieten!\\nDETAILS\\nDiverse Einstellhallen- und Autoabstellplätze zu vermieten\\nSie sind auf der Suche nach einem Abstellplatz für Ihr Auto?\\nKlicken Sie hier!\\nDETAILS\\nAlle Mietobjekte\\nWir realisieren seit 1983 die bewährten Bee - Häuser\\nAls Generalunternehmung beinhalten unsere Kernaufgaben die Realisierung von individuellen Familienhäusern, Wohnüberbauungen sowie Umbau- und Renovationsprojekte.\\nGiardino, Oberburg\\nViva, Oberburg\\nBauernhaus Schlossgut, Konolfingen\\nWohnüberbauung Kehr, Langnau i.E.\\nMoosweg I. Etappe, Hindelbank\\nMoosweg II. Etappe, Hindelbank\\nHofgut, Ostermundigen\\nSchlossgut, Konolfingen\\nSonnenfeld, Lützelflüh-Goldbach\\nWaldeckweg, Münchenbuchsee\\nReferenzen\\nDas sagen unsere Kunden über uns!\\nR. Müller, Dagmersellen\\nIch schätze die unkomplizierte Zusammenarbeit und rasche & professionelle Abwicklung bei meinen Wohnungskäufen, sowie Verkäufen.\\nB. + H. Gerber, Zollbrück\\nWir können die Arbeiten und Leistungen der Fa. BEE GU mit ihren Mitarbeiterinnen und Mitarbeiter nur rundum positiv beschreiben. Unsere Anliegen betreffend Änderungen wurden ernst genommen und wir fühlten uns zu jeder Zeit verstanden.', metadata={'source': 'https://www.bee-gu.ch'}),\n",
       " Document(page_content='Melanie Haas\\nImmobilienvermarkterin / Immobilienbewerterin\\nMitglied der Geschäftsleitung\\nphone 031 790 23 23\\nmail melanie.haas@bee-gu.ch\\nDas könnte Sie auch interessieren:\\nMehrfamilienhaus in Steffisburg\\n7 neue Wohnungen mit Lift!\\nWir bauen in Steffisburg ein Mehrfamilienhaus mit sieben 4½ Zimmer Wohnungen, Lift, grossen Balkonen und wunderbarer Aussicht. Baubeginn hat im März stattgefunden. Es sind noch wenige Wohnungen verfügbar.\\nDETAILS\\nWohnen im Obstgarten\\nBaustart 6. Mehrfamilienhaus hat stattgefunden!\\nDie Überbauung \"Wohnen im Obstgarten besteht aus insgesamt 7 Mehrfamilienhäusern. Zum Verkauf stehen noch neue 3.5 Zimmer Wohnungen im sechsten Mehrfamilienhaus. Eine Musterwohnung ist vorhanden.\\nDETAILS\\n5 1/2 Zimmer Einfamilienhaus\\nUnglaubliche 1\\'250m2 Grundstück\\nAusbaupotential im DG, 4 Parkplätze, Bezug in wenigen Monaten, Cheminée und viel Platz zum Spielen und Toben im grossen Garten.\\nDETAILS\\nRenditeobjekt zu verkaufen\\nTolle, vermietete Eigentumswohnung\\nDie Wohnung befindet sich im Obergeschoss eines Achtfamilienhauses. Sämtliche Stockwerke sind von dem Untergeschoss über das Treppenhaus sowie mit\\ndem Lift bequem erreichbar. Die Wohnung ist bereits vermietet und eignet sich ideal für Investoren.\\nDETAILS\\nNeues Projekt in Burgdorf\\n3½ & 4½ Zimmer Wohnungen\\nBald erfahren Sie hier mehr über unser neues Projekt mit 2 Sechsfamilienhäusern in Burgdorf.  Sie möchten sich bereits jetzt auf unsere Interessentenliste setzen lassen? Schreiben Sie eine E-Mail an: melanie.haas@bee-gu.ch\\nDETAILS\\n3 Mehrfamilienhäuser in Oberdiessbach\\nNur noch eine Wohnung zu verkaufen!\\n18 neue 4.5 Zimmer Eigentumswohnungen mit Lift sind in unserem Terzetto entstanden! Wohnflächen von ca. 110m2 bis 130m2.\\nDETAILS', metadata={'source': 'https://www.bee-gu.ch/7-familienhaus-in-steffisburg.html'}),\n",
       " Document(page_content='7-Familienhaus in Steffisburg\\nInfo\\nKarte\\nPDF Dokumentation\\nUmgebung\\nNahe am Thunersee und am Tor zum Berner Oberland liegt Steffisburg. Die Gemeinde gehört mit 15\\'000 Einwohnerinnen und Einwohnern zu den grössten Gemeinden im Kanton Bern und verfügt über eine optimale Infrastruktur mit Bildungseinrichtungen, Grossverteilern, Bahnhof und allem, was es zum Leben braucht.\\n7-Familienhaus Jungfraustrasse\\nDas neue Mehrfamilienhaus mit sieben 4½ Zimmer Wohnungen befindet sich in einem kleinen Quartier, in dem sich hauptsächlich kleine Ein- und Mehrfamilienhäuser und einige regionale Gewerbebetriebe befinden.\\nEingebettet zwischen Aare und Zulg kommt der Naherholungswert nicht zu kurz.\\nDas Gebäude selbst verfügt über einen Lift von der Einstellhalle bis zur Wohnungstür. Den Innenausbau bestimmt die Käuferschaft mit. Hochwertige Materialien sind im Standardbudget vorgesehen. Zum Beispiel Platten-/Parkettböden, Küche mit Kombisteamer und Induktionskochfeld sowie Granitabdeckung etc. Ausserdem besteht für jede Wohnung ein eigener Nebenraum mit Waschmaschine/Tumbler.Grosszügige Balkone mit Alpensicht ermöglichen das Entspannen zu Hause.\\nBaubeginn hat bereits stattgefunden.\\nPreis\\n4½ Zimmer Wohnung ab Fr. 795\\'000.– zzgl. Einstellhallenplatz\\nJungfraustrasse 7, Steffisburg\\nDokumentation sofort als PDF downloaden\\nWenn Sie bereits registriert sind, geben Sie Ihre Zugangsdaten ein und klicken Sie auf \"Anmelden\", um sich mit Ihrem Passwort anzumelden. Wenn Sie noch kein Passwort besitzen, klicken Sie hier auf Registrieren.\\nBenutzername\\nPasswort\\nAnmelden', metadata={'source': 'https://www.bee-gu.ch/7-familienhaus-in-steffisburg.html'}),\n",
       " Document(page_content='Mirco Bee\\nGeschäftsführer\\nphone 031 790 23 23\\nmail mirco.bee@bee-gu.ch\\nDas könnte Sie auch interessieren:\\nMehrfamilienhaus in Steffisburg\\n7 neue Wohnungen mit Lift!\\nWir bauen in Steffisburg ein Mehrfamilienhaus mit sieben 4½ Zimmer Wohnungen, Lift, grossen Balkonen und wunderbarer Aussicht. Baubeginn hat im März stattgefunden. Es sind noch wenige Wohnungen verfügbar.\\nDETAILS\\nWohnen im Obstgarten\\nBaustart 6. Mehrfamilienhaus hat stattgefunden!\\nDie Überbauung \"Wohnen im Obstgarten besteht aus insgesamt 7 Mehrfamilienhäusern. Zum Verkauf stehen noch neue 3.5 Zimmer Wohnungen im sechsten Mehrfamilienhaus. Eine Musterwohnung ist vorhanden.\\nDETAILS\\n5 1/2 Zimmer Einfamilienhaus\\nUnglaubliche 1\\'250m2 Grundstück\\nAusbaupotential im DG, 4 Parkplätze, Bezug in wenigen Monaten, Cheminée und viel Platz zum Spielen und Toben im grossen Garten.\\nDETAILS\\nRenditeobjekt zu verkaufen\\nTolle, vermietete Eigentumswohnung\\nDie Wohnung befindet sich im Obergeschoss eines Achtfamilienhauses. Sämtliche Stockwerke sind von dem Untergeschoss über das Treppenhaus sowie mit\\ndem Lift bequem erreichbar. Die Wohnung ist bereits vermietet und eignet sich ideal für Investoren.\\nDETAILS\\nNeues Projekt in Burgdorf\\n3½ & 4½ Zimmer Wohnungen\\nBald erfahren Sie hier mehr über unser neues Projekt mit 2 Sechsfamilienhäusern in Burgdorf.  Sie möchten sich bereits jetzt auf unsere Interessentenliste setzen lassen? Schreiben Sie eine E-Mail an: melanie.haas@bee-gu.ch\\nDETAILS\\n3 Mehrfamilienhäuser in Oberdiessbach\\nNur noch eine Wohnung zu verkaufen!\\n18 neue 4.5 Zimmer Eigentumswohnungen mit Lift sind in unserem Terzetto entstanden! Wohnflächen von ca. 110m2 bis 130m2.\\nDETAILS', metadata={'source': 'https://www.bee-gu.ch/wohnen-im-obstgarten-l%C3%BCtzelfl%C3%BCh.html'}),\n",
       " Document(page_content='Wohnen im Obstgarten\\nInfo\\nKarte\\nPDF Dokumentation\\nUmgebung\\nLützelflüh liegt an der Emme zwischen Langnau und Burgdorf, mitten im Herzen des Emmentals. Mit rund 4\\'100 Einwohner/innen und mit 26,92 km² Fläche gehört Lützelflüh zu den mittleren bis grösseren Gemeinden im Verwaltungskreis Emmental.\\nLützelflüh verfügt über eine gute Infrastruktur. Alles für den täglichen Bedarf ist vor Ort erhältlich.\\nAuch die Freizeit kommt nicht zu kurz: Badi, Solbad, Wellnessangebote und viele Vereine sorgen für Abwechslung\\nAb Bahnhof Lützelflüh sind die Zentren Burgdorf und Bern im Halbstundentakt und ohne umzusteigen erreichbar.\\nÜberbauung\\nParkettstrasse 34\\nDie 3½ Zimmer Wohnungen sind bereits alle verkauft.\\nParkettstrasse 38\\nIn diesem Gebäude befindet sich unsere aktuelle Musterwohnung. Bis auf diese sind bereits alle Wohnungen verkauft und übergeben.\\nParkettstrasse 36\\nBaubeginn hat im Oktober 2022 stattgefunden.\\nIn diesem Gebäude befinden sich unsere beliebten 3½ Zimmer Wohnungen. Aktuell sind noch Erdgeschosswohnungen mit Privat-Garten, Obergeschoss- oder Dachgeschosswohnungen mit Balkon verfügbar.\\nPreis\\n3½ Zimmer Wohnung ab Fr. 490\\'000.– zzgl. Einstellhallenplatz\\nParkettstrasse 36 Lützelflüh\\nDokumentation sofort als PDF downloaden\\nWenn Sie bereits registriert sind, geben Sie Ihre Zugangsdaten ein und klicken Sie auf \"Anmelden\", um sich mit Ihrem Passwort anzumelden. Wenn Sie noch kein Passwort besitzen, klicken Sie hier auf Registrieren.\\nBenutzername\\nPasswort\\nAnmelden', metadata={'source': 'https://www.bee-gu.ch/wohnen-im-obstgarten-l%C3%BCtzelfl%C3%BCh.html'}),\n",
       " Document(page_content='Melanie Haas\\nImmobilienvermarkterin / Immobilienbewerterin\\nMitglied der Geschäftsleitung\\nphone 031 790 23 23\\nmail melanie.haas@bee-gu.ch\\nDas könnte Sie auch interessieren:\\nMehrfamilienhaus in Steffisburg\\n7 neue Wohnungen mit Lift!\\nWir bauen in Steffisburg ein Mehrfamilienhaus mit sieben 4½ Zimmer Wohnungen, Lift, grossen Balkonen und wunderbarer Aussicht. Baubeginn hat im März stattgefunden. Es sind noch wenige Wohnungen verfügbar.\\nDETAILS\\nWohnen im Obstgarten\\nBaustart 6. Mehrfamilienhaus hat stattgefunden!\\nDie Überbauung \"Wohnen im Obstgarten besteht aus insgesamt 7 Mehrfamilienhäusern. Zum Verkauf stehen noch neue 3.5 Zimmer Wohnungen im sechsten Mehrfamilienhaus. Eine Musterwohnung ist vorhanden.\\nDETAILS\\n5 1/2 Zimmer Einfamilienhaus\\nUnglaubliche 1\\'250m2 Grundstück\\nAusbaupotential im DG, 4 Parkplätze, Bezug in wenigen Monaten, Cheminée und viel Platz zum Spielen und Toben im grossen Garten.\\nDETAILS\\nRenditeobjekt zu verkaufen\\nTolle, vermietete Eigentumswohnung\\nDie Wohnung befindet sich im Obergeschoss eines Achtfamilienhauses. Sämtliche Stockwerke sind von dem Untergeschoss über das Treppenhaus sowie mit\\ndem Lift bequem erreichbar. Die Wohnung ist bereits vermietet und eignet sich ideal für Investoren.\\nDETAILS\\nNeues Projekt in Burgdorf\\n3½ & 4½ Zimmer Wohnungen\\nBald erfahren Sie hier mehr über unser neues Projekt mit 2 Sechsfamilienhäusern in Burgdorf.  Sie möchten sich bereits jetzt auf unsere Interessentenliste setzen lassen? Schreiben Sie eine E-Mail an: melanie.haas@bee-gu.ch\\nDETAILS\\n3 Mehrfamilienhäuser in Oberdiessbach\\nNur noch eine Wohnung zu verkaufen!\\n18 neue 4.5 Zimmer Eigentumswohnungen mit Lift sind in unserem Terzetto entstanden! Wohnflächen von ca. 110m2 bis 130m2.\\nDETAILS', metadata={'source': 'https://www.bee-gu.ch/gartenwohnung-zu-verkaufen.html'}),\n",
       " Document(page_content='Einfamilienhaus mit grossem Grundstück\\nInfo\\nKarte\\nPDF Dokumentation\\nUmgebung\\nBigenthal ist ein Ortsteil von Walkringen. Walkringen liegt auf 708 m ü. M., 13 km östlich der Kantonshauptstadt Bern (Luftlinie) und hat ca. 1\\'800 Einwohner. Das Dorf erstreckt sich am nordöstlichen Rand des Walkringenmooses, am oberen Eingang in das Bigenthal, zwischen den Höhenrücken von Mänziwilegg im Westen und Adlisberg im Osten.\\nIn unmittelbarer Nähe zur Liegenschaft befindet sich der Bahnhof mit Regionalzugverbindungen nach Thun und Solothurn.\\nAusserdem ist Schule (1.-6. Klasse) und Kindergarten in Laufdistanz.\\n5 ½ Zimmer mit Ausbaupotential im DG\\nDas freistehende 5½ Zimmer Einfamilienhaus steht auf einem wunderbar grossen Grundstück von 1’250 m2. Ein Grundstück, dass jedem mit grünem Daumen unglaublich viel Platz zum Verwirklichen bietet. Selbstverständlich finden auch Familien mit Kindern viel Platz zum Spielen und Toben, für ein Trampolin, einen Pool und vieles mehr.\\nDas Haus selbst verfügt aktuell über 5½ Zimmer und 2 Badezimmer. Im Wohnzimmer sorgt ein Cheminée für Gemütlichkeit und Wärme. Ansonsten verfügt es über Flüssiggasheizung mit Tank auf dem Grundstück. Die Wohnräume im EG und OG können nach einer leichten Pinselrenovation unmittelbar bewohnt werden.\\nDas komplette Dachgeschoss ist momentan als Abstellraum genutzt und unbeheizt, kann aber noch weiter ausgebaut werden. Ausserdem ist das Gebäude unterkellert und bietet mit Naturkellern viel Abstellfläche und Lagermöglichkeiten.\\nVerkaufspreis\\n5½ Zimmer Fr. 780\\'000.– inkl. 4 Parkplätze\\nStationsplatz 2, Bigenthal\\nDokumentation sofort als PDF downloaden\\nWenn Sie bereits registriert sind, geben Sie Ihre Zugangsdaten ein und klicken Sie auf \"Anmelden\", um sich mit Ihrem Passwort anzumelden. Wenn Sie noch kein Passwort besitzen, klicken Sie hier auf Registrieren.\\nBenutzername\\nPasswort\\nAnmelden', metadata={'source': 'https://www.bee-gu.ch/gartenwohnung-zu-verkaufen.html'}),\n",
       " Document(page_content='Mirco Bee\\nGeschäftsführer\\nphone 031 790 23 23\\nmail mirco.bee@bee-gu.ch\\nDas könnte Sie auch interessieren:\\nMehrfamilienhaus in Steffisburg\\n7 neue Wohnungen mit Lift!\\nWir bauen in Steffisburg ein Mehrfamilienhaus mit sieben 4½ Zimmer Wohnungen, Lift, grossen Balkonen und wunderbarer Aussicht. Baubeginn hat im März stattgefunden. Es sind noch wenige Wohnungen verfügbar.\\nDETAILS\\nWohnen im Obstgarten\\nBaustart 6. Mehrfamilienhaus hat stattgefunden!\\nDie Überbauung \"Wohnen im Obstgarten besteht aus insgesamt 7 Mehrfamilienhäusern. Zum Verkauf stehen noch neue 3.5 Zimmer Wohnungen im sechsten Mehrfamilienhaus. Eine Musterwohnung ist vorhanden.\\nDETAILS\\n5 1/2 Zimmer Einfamilienhaus\\nUnglaubliche 1\\'250m2 Grundstück\\nAusbaupotential im DG, 4 Parkplätze, Bezug in wenigen Monaten, Cheminée und viel Platz zum Spielen und Toben im grossen Garten.\\nDETAILS\\nRenditeobjekt zu verkaufen\\nTolle, vermietete Eigentumswohnung\\nDie Wohnung befindet sich im Obergeschoss eines Achtfamilienhauses. Sämtliche Stockwerke sind von dem Untergeschoss über das Treppenhaus sowie mit\\ndem Lift bequem erreichbar. Die Wohnung ist bereits vermietet und eignet sich ideal für Investoren.\\nDETAILS\\nNeues Projekt in Burgdorf\\n3½ & 4½ Zimmer Wohnungen\\nBald erfahren Sie hier mehr über unser neues Projekt mit 2 Sechsfamilienhäusern in Burgdorf.  Sie möchten sich bereits jetzt auf unsere Interessentenliste setzen lassen? Schreiben Sie eine E-Mail an: melanie.haas@bee-gu.ch\\nDETAILS\\n3 Mehrfamilienhäuser in Oberdiessbach\\nNur noch eine Wohnung zu verkaufen!\\n18 neue 4.5 Zimmer Eigentumswohnungen mit Lift sind in unserem Terzetto entstanden! Wohnflächen von ca. 110m2 bis 130m2.\\nDETAILS', metadata={'source': 'https://www.bee-gu.ch/neues-projekt-tag-der-offenen-t%C3%BCr-25-01-2020.html'}),\n",
       " Document(page_content=\"Investitionsobjekt in Zollbrück\\nInfo\\nKarte\\nUmgebung\\nZollbrück liegt in idyllischer Emmentaler Hügellandschaft, ca. 15 Kilometer von Burgdorf, auf einer Höhe von 630 m.ü.M., inmitten prächtiger Wälder am Flusslauf der Emme. Zollbrück ist keine eigene Gemeinde, es liegt zum Teil in der Gemeinde Rüderswil und zum anderen Teil in der Gemeinde Lauperswil. Innerhalb von Zollbrück, befindet sich das Achtfamilienhaus in unmittelbarer Nähe des über die Ortsgrenzen hinaus bekannten Jakobmarktes.\\nÜberbauung\\nDie 3½ Zimmer Eigentumswohnung befindet sich wenige Gehminuten vom Jakobmarkt, Banken, Bushaltestelle und dem Bahnhof Neumühle entfernt. Die Wohnung befindet sich im 1. Obergeschoss eines Achtfamilienhauses und teilt sich die Einstellhalle mit dem Vierfamilienhaus nebenan. Sämtliche Stockwerke sind von dem Untergeschoss über das Treppenhaus sowie mit dem Lift bequem erreichbar. Die Wohnung ist mit einer Einbauküche mit Kochinsel, einer barierrefreien Dusche und modernen Küchengeräten wie Induktionsherd und Dampfgarbackofen ausgestattet.\\nDer 16 m2 grosse Balkon bietet viel Platz zum Entspannen.\\nIn dem Untergeschoss befindet sich je ein Keller- und ein Wasch/Trocknungsraum, welche exklusiv zu der Wohnung dazugehören. In diesem Raum befindet sich eine Waschmaschine. Die Wohnung ist aktuell vermietet. Der Mietzins beträgt monatlich Fr. 1‘3850.- exklusive Nebenkosten und Fr. 135.- für den Einstellhallenplatz. Die Wohnung eignet sich somit ideal als Investitionsobjekt.\\nPreis\\n3½ Zimmer ab Fr. 490'000.– inkl. Einstellhallenplatz\\nKährgässli 17, 3436 Zollbrück\", metadata={'source': 'https://www.bee-gu.ch/neues-projekt-tag-der-offenen-t%C3%BCr-25-01-2020.html'}),\n",
       " Document(page_content='Kostenlose Immobilienbewertung!\\nHerzlich willkommen\\nWir sind ein Dienstleistungsunternehmen im Bereich der Planung, der Generalunternehmung, der Verwaltung und der Immobiliendienstleistung und streben eine maximale Kundenzufriedenheit an. Unsere kreative und gesamtheitliche Beratung und Ausführung ist von hoher Qualität und von optimalem Kundennutzen geprägt. Unser Ziel ist, Ihr Vorhaben fachmännisch und zu Ihrer vollen Zufriedenheit zu realisieren.\\nWir suchen Altliegenschaften & Bauland\\nWir bieten Ihnen eine kompetente Beratung vom Landkauf über die Planung bis zur Realisierung mit anschliessender Bewirtschaftung oder Vermarktung einer Liegenschaft an.\\nNeue Kaufobjekte\\nMehrfamilienhaus in Steffisburg\\n7 neue Wohnungen mit Lift!\\nWir bauen in Steffisburg ein Mehrfamilienhaus mit sieben 4½ Zimmer Wohnungen, Lift, grossen Balkonen und wunderbarer Aussicht. Baubeginn hat im März stattgefunden. Es sind noch wenige Wohnungen verfügbar.\\nDETAILS\\nWohnen im Obstgarten\\nBaustart 6. Mehrfamilienhaus hat stattgefunden!\\nDie Überbauung \"Wohnen im Obstgarten besteht aus insgesamt 7 Mehrfamilienhäusern. Zum Verkauf stehen noch neue 3.5 Zimmer Wohnungen im sechsten Mehrfamilienhaus. Eine Musterwohnung ist vorhanden.\\nDETAILS\\n5 1/2 Zimmer Einfamilienhaus\\nUnglaubliche 1\\'250m2 Grundstück\\nAusbaupotential im DG, 4 Parkplätze, Bezug in wenigen Monaten, Cheminée und viel Platz zum Spielen und Toben im grossen Garten.\\nDETAILS\\nRenditeobjekt zu verkaufen\\nTolle, vermietete Eigentumswohnung\\nDie Wohnung befindet sich im Obergeschoss eines Achtfamilienhauses. Sämtliche Stockwerke sind von dem Untergeschoss über das Treppenhaus sowie mit\\ndem Lift bequem erreichbar. Die Wohnung ist bereits vermietet und eignet sich ideal für Investoren.\\nDETAILS\\nNeues Projekt in Burgdorf\\n3½ & 4½ Zimmer Wohnungen', metadata={'source': 'https://www.bee-gu.ch/'}),\n",
       " Document(page_content='dem Lift bequem erreichbar. Die Wohnung ist bereits vermietet und eignet sich ideal für Investoren.\\nDETAILS\\nNeues Projekt in Burgdorf\\n3½ & 4½ Zimmer Wohnungen\\nBald erfahren Sie hier mehr über unser neues Projekt mit 2 Sechsfamilienhäusern in Burgdorf.  Sie möchten sich bereits jetzt auf unsere Interessentenliste setzen lassen? Schreiben Sie eine E-Mail an: melanie.haas@bee-gu.ch\\nDETAILS\\n3 Mehrfamilienhäuser in Oberdiessbach\\nNur noch eine Wohnung zu verkaufen!\\n18 neue 4.5 Zimmer Eigentumswohnungen mit Lift sind in unserem Terzetto entstanden! Wohnflächen von ca. 110m2 bis 130m2.\\nDETAILS\\nAlle Kaufobjekte\\nNeue Mietobjekte\\nAbstellraum in Zollbrück zu vermieten\\nSie sind auf der Suche nach einer Alternative um mehr Platz zu schaffen?\\nGrosszügiger Abstellraum in Zollbrück per sofort zu vermieten!\\nDETAILS\\nDiverse Einstellhallen- und Autoabstellplätze zu vermieten\\nSie sind auf der Suche nach einem Abstellplatz für Ihr Auto?\\nKlicken Sie hier!\\nDETAILS\\nAlle Mietobjekte\\nWir realisieren seit 1983 die bewährten Bee - Häuser\\nAls Generalunternehmung beinhalten unsere Kernaufgaben die Realisierung von individuellen Familienhäusern, Wohnüberbauungen sowie Umbau- und Renovationsprojekte.\\nGiardino, Oberburg\\nViva, Oberburg\\nBauernhaus Schlossgut, Konolfingen\\nWohnüberbauung Kehr, Langnau i.E.\\nMoosweg I. Etappe, Hindelbank\\nMoosweg II. Etappe, Hindelbank\\nHofgut, Ostermundigen\\nSchlossgut, Konolfingen\\nSonnenfeld, Lützelflüh-Goldbach\\nWaldeckweg, Münchenbuchsee\\nReferenzen\\nDas sagen unsere Kunden über uns!\\nR. Müller, Dagmersellen\\nIch schätze die unkomplizierte Zusammenarbeit und rasche & professionelle Abwicklung bei meinen Wohnungskäufen, sowie Verkäufen.\\nB. + H. Gerber, Zollbrück\\nWir können die Arbeiten und Leistungen der Fa. BEE GU mit ihren Mitarbeiterinnen und Mitarbeiter nur rundum positiv beschreiben. Unsere Anliegen betreffend Änderungen wurden ernst genommen und wir fühlten uns zu jeder Zeit verstanden.', metadata={'source': 'https://www.bee-gu.ch/'}),\n",
       " Document(page_content='Melanie Haas\\nImmobilienvermarkterin / Immobilienbewerterin\\nMitglied der Geschäftsleitung\\nphone 031 790 23 23\\nmail melanie.haas@bee-gu.ch\\nDas könnte Sie auch interessieren:\\nMehrfamilienhaus in Steffisburg\\n7 neue Wohnungen mit Lift!\\nWir bauen in Steffisburg ein Mehrfamilienhaus mit sieben 4½ Zimmer Wohnungen, Lift, grossen Balkonen und wunderbarer Aussicht. Baubeginn hat im März stattgefunden. Es sind noch wenige Wohnungen verfügbar.\\nDETAILS\\nWohnen im Obstgarten\\nBaustart 6. Mehrfamilienhaus hat stattgefunden!\\nDie Überbauung \"Wohnen im Obstgarten besteht aus insgesamt 7 Mehrfamilienhäusern. Zum Verkauf stehen noch neue 3.5 Zimmer Wohnungen im sechsten Mehrfamilienhaus. Eine Musterwohnung ist vorhanden.\\nDETAILS\\n5 1/2 Zimmer Einfamilienhaus\\nUnglaubliche 1\\'250m2 Grundstück\\nAusbaupotential im DG, 4 Parkplätze, Bezug in wenigen Monaten, Cheminée und viel Platz zum Spielen und Toben im grossen Garten.\\nDETAILS\\nRenditeobjekt zu verkaufen\\nTolle, vermietete Eigentumswohnung\\nDie Wohnung befindet sich im Obergeschoss eines Achtfamilienhauses. Sämtliche Stockwerke sind von dem Untergeschoss über das Treppenhaus sowie mit\\ndem Lift bequem erreichbar. Die Wohnung ist bereits vermietet und eignet sich ideal für Investoren.\\nDETAILS\\nNeues Projekt in Burgdorf\\n3½ & 4½ Zimmer Wohnungen\\nBald erfahren Sie hier mehr über unser neues Projekt mit 2 Sechsfamilienhäusern in Burgdorf.  Sie möchten sich bereits jetzt auf unsere Interessentenliste setzen lassen? Schreiben Sie eine E-Mail an: melanie.haas@bee-gu.ch\\nDETAILS\\n3 Mehrfamilienhäuser in Oberdiessbach\\nNur noch eine Wohnung zu verkaufen!\\n18 neue 4.5 Zimmer Eigentumswohnungen mit Lift sind in unserem Terzetto entstanden! Wohnflächen von ca. 110m2 bis 130m2.\\nDETAILS', metadata={'source': 'https://www.bee-gu.ch/Wohnen-Oberdiessbach.html'}),\n",
       " Document(page_content='Nur noch eine Wohnung zu verkaufen!\\nInfo\\nKarte\\nPDF Dokumentation\\nUmgebung\\nDer Ortsteil Oberdiessbach besticht durch sein kompaktes Erscheinungsbild und dem ausgedehnten Naherholungsgebiet. Man kennt und grüsst sich im Dorf.Die Südhänge auf der Haube und im Gumi/Kirchbühl lassen traumhafte Ausblicke in Richtung Alpen zu.Kindergarten, Primar- und Sekundarstufe sind zentral gelegen. Kinder und Jugendliche profitieren von einer Vielzahl an sportlichen und kreativen Freizeitmöglichkeiten und von einer lebendigen Vereinskultur. Eine Kindertagesstätte und eine Tagesschule ergänzen das Schulangebot ideal.\\n3 Sechsfamilienhäuser\\nDie neuen Gebäude verfügen über jeweils zwei 4½ Zimmer Wohnungen im Erdgeschoss und im 1. Obergeschoss. Im Dachgeschoss befinden sich ebenfalls zwei 4½ Zimmer Wohnungen, die über eine zusätzliche Galerie verfügen. Alle Wohnungen sind vom Untergeschoss aus mit dem Lift erschlossen und verfügen im Standardausbau über eine Badewanne und eine Dusche, Parkettböden, Induktionskochfeld, Kombisteamer etc. Wohnflächen von ca. 108 - 130 m2 Bruttogeschossfläche sind verfügbar.\\nZu jeder Wohnung gehört ein eigener Abstellraum/Waschküche mit Waschmaschine und Tumbler.\\nDie Erdgeschosswohnungen verfügen über einen eigenen Garten.\\nDie letzte Wohnung in unserer Überbauung könnte schon bald Ihnen gehören!\\nWollen Sie mehr wissen? Gerne zeigen wir Ihnen unverbindlich den Rohbau nach Voranmeldung unter Tel. 031 790 23 23.\\nWir freuen uns aber auch auf Ihre Kontaktaufnahme zur individuellen Terminvereinbarung oder zur telefonischen Beantwortung von Fragen.\\nPreis Sechsfamilienhaus\\n4½ Zimmer-Wohnung ab Fr. 660\\'000.– + Einstellhalle\\nFreimettigenstrasse 34, Oberdiessbach\\nDokumentation sofort als PDF downloaden\\nWenn Sie bereits registriert sind, geben Sie Ihre Zugangsdaten ein und klicken Sie auf \"Anmelden\", um sich mit Ihrem Passwort anzumelden. Wenn Sie noch kein Passwort besitzen, klicken Sie hier auf Registrieren.\\nBenutzername\\nPasswort\\nAnmelden', metadata={'source': 'https://www.bee-gu.ch/Wohnen-Oberdiessbach.html'}),\n",
       " Document(page_content='Mirco Bee\\nGeschäftsführer\\nphone 031 790 23 23\\nmail mirco.bee@bee-gu.ch\\nDas könnte Sie auch interessieren:\\nAbstellraum in Zollbrück zu vermieten\\nSie sind auf der Suche nach einer Alternative um mehr Platz zu schaffen?\\nGrosszügiger Abstellraum in Zollbrück per sofort zu vermieten!\\nDETAILS\\nDiverse Einstellhallen- und Autoabstellplätze zu vermieten\\nSie sind auf der Suche nach einem Abstellplatz für Ihr Auto?\\nKlicken Sie hier!\\nDETAILS', metadata={'source': 'https://www.bee-gu.ch/abstellraum-in-zollbrueck-zu-vermieten.html'}),\n",
       " Document(page_content='Abstellraum in Zollbrück zu vermieten\\nInfo\\nKarte\\nAbstellraum in Zollbrück zu vermieten!\\nHaben Sie nicht genügend Platz um Ihre Sachen unterzubringen? Wir haben die perfekte Lösung!\\nPer sofort oder nach Vereinbarung vermieten wir an der Dorfstrasse 25 in Zollbrück einen Abstellraum.\\nMöchten Sie den Abstellraum besichtigen? Gerne zeigen wir Ihnen die Räume und freuen uns über Ihre Kontaktaufnahme.\\nMietzins\\nAbstellraum: Fr. 200.- pro Monat\\nDorfstrasse 25, 3436 Zollbrück', metadata={'source': 'https://www.bee-gu.ch/abstellraum-in-zollbrueck-zu-vermieten.html'}),\n",
       " Document(page_content='Mirco Bee\\nGeschäftsführer\\nphone 031 790 23 23\\nmail mirco.bee@bee-gu.ch\\nDas könnte Sie auch interessieren:\\nAbstellraum in Zollbrück zu vermieten\\nSie sind auf der Suche nach einer Alternative um mehr Platz zu schaffen?\\nGrosszügiger Abstellraum in Zollbrück per sofort zu vermieten!\\nDETAILS\\nDiverse Einstellhallen- und Autoabstellplätze zu vermieten\\nSie sind auf der Suche nach einem Abstellplatz für Ihr Auto?\\nKlicken Sie hier!\\nDETAILS', metadata={'source': 'https://www.bee-gu.ch/einstellhallenplatz-in-hasle-b-b-zu-vermieten.html'}),\n",
       " Document(page_content='Diverse Einstellhallen- und Autoabstellplätze zu vermieten\\nInfo\\nDiverse Einstellhallenplätze zu vermieten\\nZurzeit verfügen wir über freie Einstellhallenplätze oder Autoabstellplätze an folgenden Standorten:\\n- Zollbrück\\n- Madiswil\\n- Lotzwil\\n- Walkringen\\n- Konolfingen\\n- Hasle bei Burgdorf\\n- Lützelflüh\\nSie sind interessiert an einem Mietverhältnis?\\nWir freuen uns auf Ihre Kontaktaufnahme unter 031 790 23 23.\\nMietzins\\nESH-Platz: ab Fr. 100.- bis Fr. 135.-\\nAussenparkplatz: ab Fr. 40.- bis Fr. 65.-', metadata={'source': 'https://www.bee-gu.ch/einstellhallenplatz-in-hasle-b-b-zu-vermieten.html'})]"
      ]
     },
     "execution_count": 5,
     "metadata": {},
     "output_type": "execute_result"
    }
   ],
   "source": [
    "from tools import webextractor\n",
    "documents = webextractor.get_documents_from_sitemap(\n",
    "    sitemap_path=f'/data/sitemaps/sitemap_{xml_sitemap_name}.xml', \n",
    "    sitemap_url_filter='/' # fail when we ignite full xml\n",
    "    )\n",
    "documents"
   ]
  },
  {
   "attachments": {},
   "cell_type": "markdown",
   "metadata": {},
   "source": [
    "## vectorstore"
   ]
  },
  {
   "attachments": {},
   "cell_type": "markdown",
   "metadata": {},
   "source": [
    "### add documents to a local vectorstore"
   ]
  },
  {
   "cell_type": "code",
   "execution_count": 7,
   "metadata": {},
   "outputs": [
    {
     "name": "stdout",
     "output_type": "stream",
     "text": [
      "FAISS-Store ist nicht vorhanden.\n"
     ]
    }
   ],
   "source": [
    "from tools import vectorstore\n",
    "vectorstore.add_stuff_to_store(documents)"
   ]
  },
  {
   "attachments": {},
   "cell_type": "markdown",
   "metadata": {},
   "source": [
    "### load local vectorestore"
   ]
  },
  {
   "cell_type": "code",
   "execution_count": 8,
   "metadata": {},
   "outputs": [],
   "source": [
    "from tools import vectorstore\n",
    "store = vectorstore.load_vectorstore()"
   ]
  },
  {
   "attachments": {},
   "cell_type": "markdown",
   "metadata": {},
   "source": [
    "### query the vectorstore"
   ]
  },
  {
   "cell_type": "code",
   "execution_count": 15,
   "metadata": {},
   "outputs": [],
   "source": [
    "query = \"Kontakt bee architekten ag?\"\n",
    "k=1"
   ]
  },
  {
   "cell_type": "code",
   "execution_count": 16,
   "metadata": {},
   "outputs": [
    {
     "data": {
      "text/plain": [
       "[Document(page_content='dem Lift bequem erreichbar. Die Wohnung ist bereits vermietet und eignet sich ideal für Investoren.\\nDETAILS\\nNeues Projekt in Burgdorf\\n3½ & 4½ Zimmer Wohnungen\\nBald erfahren Sie hier mehr über unser neues Projekt mit 2 Sechsfamilienhäusern in Burgdorf.  Sie möchten sich bereits jetzt auf unsere Interessentenliste setzen lassen? Schreiben Sie eine E-Mail an: melanie.haas@bee-gu.ch\\nDETAILS\\n3 Mehrfamilienhäuser in Oberdiessbach\\nNur noch eine Wohnung zu verkaufen!\\n18 neue 4.5 Zimmer Eigentumswohnungen mit Lift sind in unserem Terzetto entstanden! Wohnflächen von ca. 110m2 bis 130m2.\\nDETAILS\\nAlle Kaufobjekte\\nNeue Mietobjekte\\nAbstellraum in Zollbrück zu vermieten\\nSie sind auf der Suche nach einer Alternative um mehr Platz zu schaffen?\\nGrosszügiger Abstellraum in Zollbrück per sofort zu vermieten!\\nDETAILS\\nDiverse Einstellhallen- und Autoabstellplätze zu vermieten\\nSie sind auf der Suche nach einem Abstellplatz für Ihr Auto?\\nKlicken Sie hier!\\nDETAILS\\nAlle Mietobjekte\\nWir realisieren seit 1983 die bewährten Bee - Häuser\\nAls Generalunternehmung beinhalten unsere Kernaufgaben die Realisierung von individuellen Familienhäusern, Wohnüberbauungen sowie Umbau- und Renovationsprojekte.\\nGiardino, Oberburg\\nViva, Oberburg\\nBauernhaus Schlossgut, Konolfingen\\nWohnüberbauung Kehr, Langnau i.E.\\nMoosweg I. Etappe, Hindelbank\\nMoosweg II. Etappe, Hindelbank\\nHofgut, Ostermundigen\\nSchlossgut, Konolfingen\\nSonnenfeld, Lützelflüh-Goldbach\\nWaldeckweg, Münchenbuchsee\\nReferenzen\\nDas sagen unsere Kunden über uns!\\nR. Müller, Dagmersellen\\nIch schätze die unkomplizierte Zusammenarbeit und rasche & professionelle Abwicklung bei meinen Wohnungskäufen, sowie Verkäufen.\\nB. + H. Gerber, Zollbrück\\nWir können die Arbeiten und Leistungen der Fa. BEE GU mit ihren Mitarbeiterinnen und Mitarbeiter nur rundum positiv beschreiben. Unsere Anliegen betreffend Änderungen wurden ernst genommen und wir fühlten uns zu jeder Zeit verstanden.', metadata={'source': 'https://www.bee-gu.ch'})]"
      ]
     },
     "execution_count": 16,
     "metadata": {},
     "output_type": "execute_result"
    }
   ],
   "source": [
    "result_similarity_search = store.similarity_search(query, k=k)\n",
    "result_similarity_search"
   ]
  },
  {
   "cell_type": "code",
   "execution_count": 10,
   "metadata": {},
   "outputs": [],
   "source": [
    "result_similarity_search_with_score = store.similarity_search_with_score(query, k=k)\n",
    "result_similarity_search_with_relevance_scores = store.similarity_search_with_relevance_scores(query, k=k)"
   ]
  },
  {
   "cell_type": "code",
   "execution_count": 18,
   "metadata": {},
   "outputs": [
    {
     "name": "stdout",
     "output_type": "stream",
     "text": [
      "[Document(page_content='Über ch.ch  Mehr als 2100 Gemeinden26 Kantone1 Bund15 Bereiche des täglichen Lebens1 Portalch.ch ist das Informationsportal der Schweizer Behörden. Hier finden Sie die Antworten auf alle Ihre Fragen an die Behörden. ch.ch ist ein Angebot des Bundes, der Kantone und der Gemeinden. Die Inhalte werden von der Bundeskanzlei verfasst und verwaltet.  Mehr als 2100 Gemeinden26 Kantone1 Bund15 Bereiche des täglichen Lebens1 Portalch.ch ist das Informationsportal der Schweizer Behörden. Hier finden Sie die Antworten auf alle Ihre Fragen an die Behörden. ch.ch ist ein Angebot des Bundes, der Kantone und der Gemeinden. Die Inhalte werden von der Bundeskanzlei verfasst und verwaltet.       Volksabstimmung vom 18. Juni 2023  1.\\xa0OECD/G20-Mindestbesteuerung2. Klima- und Innovationsgesetz3. Covid-19-Gesetz  1.\\xa0OECD/G20-Mindestbesteuerung2. Klima- und Innovationsgesetz3. Covid-19-Gesetz       Eidgenössische Wahlen 2023 auf ch.ch  Auf dem Portal von ch.ch zu den eidgenössischen Wahlen finden Sie alle Antworten auf Ihre Fragen zu den Parlamentswahlen vom 22. Oktober 2023. Das Portal ist ein gemeinsames Angebot der Bundeskanzlei, der Parlamentsdienste, des Bundesamtes für Statistik und der Kantone.  Auf dem Portal von ch.ch zu den eidgenössischen Wahlen finden Sie alle Antworten auf Ihre Fragen zu den Parlamentswahlen vom 22. Oktober 2023. Das Portal ist ein gemeinsames Angebot der Bundeskanzlei, der Parlamentsdienste, des Bundesamtes für Statistik und der Kantone.       Schutz vor Zecken  Zecken sind in der Schweiz weit verbreitet. Zeckenstiche können gefährlich sein und Borreliose oder Hirnhautentzündung auslösen.\\xa0Auf ch.ch erfahren Sie, wie Sie sich, Kinder und Haustiere schützen können.  Zecken sind in der Schweiz weit verbreitet. Zeckenstiche können gefährlich sein und Borreliose oder Hirnhautentzündung auslösen.\\xa0Auf ch.ch erfahren Sie, wie Sie sich, Kinder und Haustiere schützen können.       Coronavirus: Fragen und Antworten  Möchten Sie wissen, wie die Corona-Situation in der Schweiz ist? Suchen Sie Informationen zum Covid-Zertifikat, zu den Tests, zur Impfung?\\xa0Wir geben Ihnen die Antworten auf die häufigsten Fragen.  Möchten Sie wissen, wie die Corona-Situation in der Schweiz ist? Suchen Sie Informationen zum Covid-Zertifikat, zu den Tests, zur Impfung?\\xa0Wir geben Ihnen die Antworten auf die häufigsten Fragen.       Quiz Volksinitiative  In die Politik eingreifen und die Schweiz verändern - die direkte Demokratie macht es möglich. Können Sie Ihre Idee bis zur Volksabstimmung bringen? Testen Sie es.  In die Politik eingreifen und die Schweiz verändern - die direkte Demokratie macht es möglich. Können Sie Ihre Idee bis zur Volksabstimmung bringen? Testen Sie es.   123456', metadata={'source': 'https://www.ch.ch/de/'})]\n",
      "[(Document(page_content='Über ch.ch  Mehr als 2100 Gemeinden26 Kantone1 Bund15 Bereiche des täglichen Lebens1 Portalch.ch ist das Informationsportal der Schweizer Behörden. Hier finden Sie die Antworten auf alle Ihre Fragen an die Behörden. ch.ch ist ein Angebot des Bundes, der Kantone und der Gemeinden. Die Inhalte werden von der Bundeskanzlei verfasst und verwaltet.  Mehr als 2100 Gemeinden26 Kantone1 Bund15 Bereiche des täglichen Lebens1 Portalch.ch ist das Informationsportal der Schweizer Behörden. Hier finden Sie die Antworten auf alle Ihre Fragen an die Behörden. ch.ch ist ein Angebot des Bundes, der Kantone und der Gemeinden. Die Inhalte werden von der Bundeskanzlei verfasst und verwaltet.       Volksabstimmung vom 18. Juni 2023  1.\\xa0OECD/G20-Mindestbesteuerung2. Klima- und Innovationsgesetz3. Covid-19-Gesetz  1.\\xa0OECD/G20-Mindestbesteuerung2. Klima- und Innovationsgesetz3. Covid-19-Gesetz       Eidgenössische Wahlen 2023 auf ch.ch  Auf dem Portal von ch.ch zu den eidgenössischen Wahlen finden Sie alle Antworten auf Ihre Fragen zu den Parlamentswahlen vom 22. Oktober 2023. Das Portal ist ein gemeinsames Angebot der Bundeskanzlei, der Parlamentsdienste, des Bundesamtes für Statistik und der Kantone.  Auf dem Portal von ch.ch zu den eidgenössischen Wahlen finden Sie alle Antworten auf Ihre Fragen zu den Parlamentswahlen vom 22. Oktober 2023. Das Portal ist ein gemeinsames Angebot der Bundeskanzlei, der Parlamentsdienste, des Bundesamtes für Statistik und der Kantone.       Schutz vor Zecken  Zecken sind in der Schweiz weit verbreitet. Zeckenstiche können gefährlich sein und Borreliose oder Hirnhautentzündung auslösen.\\xa0Auf ch.ch erfahren Sie, wie Sie sich, Kinder und Haustiere schützen können.  Zecken sind in der Schweiz weit verbreitet. Zeckenstiche können gefährlich sein und Borreliose oder Hirnhautentzündung auslösen.\\xa0Auf ch.ch erfahren Sie, wie Sie sich, Kinder und Haustiere schützen können.       Coronavirus: Fragen und Antworten  Möchten Sie wissen, wie die Corona-Situation in der Schweiz ist? Suchen Sie Informationen zum Covid-Zertifikat, zu den Tests, zur Impfung?\\xa0Wir geben Ihnen die Antworten auf die häufigsten Fragen.  Möchten Sie wissen, wie die Corona-Situation in der Schweiz ist? Suchen Sie Informationen zum Covid-Zertifikat, zu den Tests, zur Impfung?\\xa0Wir geben Ihnen die Antworten auf die häufigsten Fragen.       Quiz Volksinitiative  In die Politik eingreifen und die Schweiz verändern - die direkte Demokratie macht es möglich. Können Sie Ihre Idee bis zur Volksabstimmung bringen? Testen Sie es.  In die Politik eingreifen und die Schweiz verändern - die direkte Demokratie macht es möglich. Können Sie Ihre Idee bis zur Volksabstimmung bringen? Testen Sie es.   123456', metadata={'source': 'https://www.ch.ch/de/'}), 0.3011353)]\n",
      "[(Document(page_content='Über ch.ch  Mehr als 2100 Gemeinden26 Kantone1 Bund15 Bereiche des täglichen Lebens1 Portalch.ch ist das Informationsportal der Schweizer Behörden. Hier finden Sie die Antworten auf alle Ihre Fragen an die Behörden. ch.ch ist ein Angebot des Bundes, der Kantone und der Gemeinden. Die Inhalte werden von der Bundeskanzlei verfasst und verwaltet.  Mehr als 2100 Gemeinden26 Kantone1 Bund15 Bereiche des täglichen Lebens1 Portalch.ch ist das Informationsportal der Schweizer Behörden. Hier finden Sie die Antworten auf alle Ihre Fragen an die Behörden. ch.ch ist ein Angebot des Bundes, der Kantone und der Gemeinden. Die Inhalte werden von der Bundeskanzlei verfasst und verwaltet.       Volksabstimmung vom 18. Juni 2023  1.\\xa0OECD/G20-Mindestbesteuerung2. Klima- und Innovationsgesetz3. Covid-19-Gesetz  1.\\xa0OECD/G20-Mindestbesteuerung2. Klima- und Innovationsgesetz3. Covid-19-Gesetz       Eidgenössische Wahlen 2023 auf ch.ch  Auf dem Portal von ch.ch zu den eidgenössischen Wahlen finden Sie alle Antworten auf Ihre Fragen zu den Parlamentswahlen vom 22. Oktober 2023. Das Portal ist ein gemeinsames Angebot der Bundeskanzlei, der Parlamentsdienste, des Bundesamtes für Statistik und der Kantone.  Auf dem Portal von ch.ch zu den eidgenössischen Wahlen finden Sie alle Antworten auf Ihre Fragen zu den Parlamentswahlen vom 22. Oktober 2023. Das Portal ist ein gemeinsames Angebot der Bundeskanzlei, der Parlamentsdienste, des Bundesamtes für Statistik und der Kantone.       Schutz vor Zecken  Zecken sind in der Schweiz weit verbreitet. Zeckenstiche können gefährlich sein und Borreliose oder Hirnhautentzündung auslösen.\\xa0Auf ch.ch erfahren Sie, wie Sie sich, Kinder und Haustiere schützen können.  Zecken sind in der Schweiz weit verbreitet. Zeckenstiche können gefährlich sein und Borreliose oder Hirnhautentzündung auslösen.\\xa0Auf ch.ch erfahren Sie, wie Sie sich, Kinder und Haustiere schützen können.       Coronavirus: Fragen und Antworten  Möchten Sie wissen, wie die Corona-Situation in der Schweiz ist? Suchen Sie Informationen zum Covid-Zertifikat, zu den Tests, zur Impfung?\\xa0Wir geben Ihnen die Antworten auf die häufigsten Fragen.  Möchten Sie wissen, wie die Corona-Situation in der Schweiz ist? Suchen Sie Informationen zum Covid-Zertifikat, zu den Tests, zur Impfung?\\xa0Wir geben Ihnen die Antworten auf die häufigsten Fragen.       Quiz Volksinitiative  In die Politik eingreifen und die Schweiz verändern - die direkte Demokratie macht es möglich. Können Sie Ihre Idee bis zur Volksabstimmung bringen? Testen Sie es.  In die Politik eingreifen und die Schweiz verändern - die direkte Demokratie macht es möglich. Können Sie Ihre Idee bis zur Volksabstimmung bringen? Testen Sie es.   123456', metadata={'source': 'https://www.ch.ch/de/'}), 0.7871202721220828)]\n"
     ]
    }
   ],
   "source": [
    "print(result_similarity_search)\n",
    "print(result_similarity_search_with_score)\n",
    "print(result_similarity_search_with_relevance_scores)"
   ]
  }
 ],
 "metadata": {
  "kernelspec": {
   "display_name": "Python 3",
   "language": "python",
   "name": "python3"
  },
  "language_info": {
   "codemirror_mode": {
    "name": "ipython",
    "version": 3
   },
   "file_extension": ".py",
   "mimetype": "text/x-python",
   "name": "python",
   "nbconvert_exporter": "python",
   "pygments_lexer": "ipython3",
   "version": "3.10.4"
  },
  "orig_nbformat": 4
 },
 "nbformat": 4,
 "nbformat_minor": 2
}
