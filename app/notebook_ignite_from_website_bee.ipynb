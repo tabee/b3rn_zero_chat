{
 "cells": [
  {
   "attachments": {},
   "cell_type": "markdown",
   "metadata": {},
   "source": [
    "# ignite b3rn_zero_chat"
   ]
  },
  {
   "attachments": {},
   "cell_type": "markdown",
   "metadata": {},
   "source": [
    "## make some xml sitemaps"
   ]
  },
  {
   "cell_type": "code",
   "execution_count": 2,
   "metadata": {},
   "outputs": [
    {
     "name": "stdout",
     "output_type": "stream",
     "text": [
      "make sitemap for https://www.bee-gu.ch\n",
      "https://www.bee-gu.ch\n"
     ]
    },
    {
     "name": "stdout",
     "output_type": "stream",
     "text": [
      "https://www.bee-gu.ch/7-familienhaus-in-steffisburg.html\n",
      "https://www.bee-gu.ch/wohnen-im-obstgarten-l%C3%BCtzelfl%C3%BCh.html\n",
      "https://www.bee-gu.ch/gartenwohnung-zu-verkaufen.html\n",
      "https://www.bee-gu.ch/neues-projekt-tag-der-offenen-t%C3%BCr-25-01-2020.html\n",
      "https://www.bee-gu.ch/\n",
      "https://www.bee-gu.ch/Wohnen-Oberdiessbach.html\n",
      "https://www.bee-gu.ch/abstellraum-in-zollbrueck-zu-vermieten.html\n",
      "https://www.bee-gu.ch/einstellhallenplatz-in-hasle-b-b-zu-vermieten.html\n"
     ]
    }
   ],
   "source": [
    "from tools import sitemaper\n",
    "xml_sitemap_name = '_bee_gu_ch'\n",
    "xml_start_url = 'https://www.bee-gu.ch'\n",
    "sitemaper.make_sitemap(xml_start_url, xml_sitemap_name)"
   ]
  },
  {
   "attachments": {},
   "cell_type": "markdown",
   "metadata": {},
   "source": [
    "## make documents from sitemaps"
   ]
  },
  {
   "cell_type": "code",
   "execution_count": 4,
   "metadata": {},
   "outputs": [
    {
     "name": "stdout",
     "output_type": "stream",
     "text": [
      "Reading sitemap from /workspaces/b3rn_zero_chat/data/sitemaps/sitemap__bee_gu_ch.xml\n",
      "Filtering for urls containing /de/\n",
      "Found 9 urls in /workspaces/b3rn_zero_chat/data/sitemaps/sitemap__bee_gu_ch.xml\n"
     ]
    },
    {
     "data": {
      "text/plain": [
       "[]"
      ]
     },
     "execution_count": 4,
     "metadata": {},
     "output_type": "execute_result"
    }
   ],
   "source": [
    "from tools import webextractor\n",
    "documents = webextractor.get_documents_from_sitemap(\n",
    "    sitemap_path=f'/data/sitemaps/sitemap_{xml_sitemap_name}.xml', \n",
    "    sitemap_url_filter='/' # fail when we ignite full xml\n",
    "    )\n",
    "documents"
   ]
  },
  {
   "attachments": {},
   "cell_type": "markdown",
   "metadata": {},
   "source": [
    "## vectorstore"
   ]
  },
  {
   "attachments": {},
   "cell_type": "markdown",
   "metadata": {},
   "source": [
    "### add documents to a local vectorstore"
   ]
  },
  {
   "cell_type": "code",
   "execution_count": 14,
   "metadata": {},
   "outputs": [
    {
     "name": "stdout",
     "output_type": "stream",
     "text": [
      "FAISS-Store ist nicht vorhanden.\n"
     ]
    }
   ],
   "source": [
    "from tools import vectorstore\n",
    "vectorstore.add_stuff_to_store(documents)"
   ]
  },
  {
   "attachments": {},
   "cell_type": "markdown",
   "metadata": {},
   "source": [
    "### load local vectorestore"
   ]
  },
  {
   "cell_type": "code",
   "execution_count": 15,
   "metadata": {},
   "outputs": [],
   "source": [
    "from tools import vectorstore\n",
    "store = vectorstore.load_vectorstore()"
   ]
  },
  {
   "attachments": {},
   "cell_type": "markdown",
   "metadata": {},
   "source": [
    "### query the vectorstore"
   ]
  },
  {
   "cell_type": "code",
   "execution_count": 16,
   "metadata": {},
   "outputs": [],
   "source": [
    "query = \"Was ist ch.ch?\"\n",
    "k=1"
   ]
  },
  {
   "cell_type": "code",
   "execution_count": 17,
   "metadata": {},
   "outputs": [],
   "source": [
    "result_similarity_search = store.similarity_search(query, k=k)\n",
    "result_similarity_search_with_score = store.similarity_search_with_score(query, k=k)\n",
    "result_similarity_search_with_relevance_scores = store.similarity_search_with_relevance_scores(query, k=k)"
   ]
  },
  {
   "cell_type": "code",
   "execution_count": 18,
   "metadata": {},
   "outputs": [
    {
     "name": "stdout",
     "output_type": "stream",
     "text": [
      "[Document(page_content='Über ch.ch  Mehr als 2100 Gemeinden26 Kantone1 Bund15 Bereiche des täglichen Lebens1 Portalch.ch ist das Informationsportal der Schweizer Behörden. Hier finden Sie die Antworten auf alle Ihre Fragen an die Behörden. ch.ch ist ein Angebot des Bundes, der Kantone und der Gemeinden. Die Inhalte werden von der Bundeskanzlei verfasst und verwaltet.  Mehr als 2100 Gemeinden26 Kantone1 Bund15 Bereiche des täglichen Lebens1 Portalch.ch ist das Informationsportal der Schweizer Behörden. Hier finden Sie die Antworten auf alle Ihre Fragen an die Behörden. ch.ch ist ein Angebot des Bundes, der Kantone und der Gemeinden. Die Inhalte werden von der Bundeskanzlei verfasst und verwaltet.       Volksabstimmung vom 18. Juni 2023  1.\\xa0OECD/G20-Mindestbesteuerung2. Klima- und Innovationsgesetz3. Covid-19-Gesetz  1.\\xa0OECD/G20-Mindestbesteuerung2. Klima- und Innovationsgesetz3. Covid-19-Gesetz       Eidgenössische Wahlen 2023 auf ch.ch  Auf dem Portal von ch.ch zu den eidgenössischen Wahlen finden Sie alle Antworten auf Ihre Fragen zu den Parlamentswahlen vom 22. Oktober 2023. Das Portal ist ein gemeinsames Angebot der Bundeskanzlei, der Parlamentsdienste, des Bundesamtes für Statistik und der Kantone.  Auf dem Portal von ch.ch zu den eidgenössischen Wahlen finden Sie alle Antworten auf Ihre Fragen zu den Parlamentswahlen vom 22. Oktober 2023. Das Portal ist ein gemeinsames Angebot der Bundeskanzlei, der Parlamentsdienste, des Bundesamtes für Statistik und der Kantone.       Schutz vor Zecken  Zecken sind in der Schweiz weit verbreitet. Zeckenstiche können gefährlich sein und Borreliose oder Hirnhautentzündung auslösen.\\xa0Auf ch.ch erfahren Sie, wie Sie sich, Kinder und Haustiere schützen können.  Zecken sind in der Schweiz weit verbreitet. Zeckenstiche können gefährlich sein und Borreliose oder Hirnhautentzündung auslösen.\\xa0Auf ch.ch erfahren Sie, wie Sie sich, Kinder und Haustiere schützen können.       Coronavirus: Fragen und Antworten  Möchten Sie wissen, wie die Corona-Situation in der Schweiz ist? Suchen Sie Informationen zum Covid-Zertifikat, zu den Tests, zur Impfung?\\xa0Wir geben Ihnen die Antworten auf die häufigsten Fragen.  Möchten Sie wissen, wie die Corona-Situation in der Schweiz ist? Suchen Sie Informationen zum Covid-Zertifikat, zu den Tests, zur Impfung?\\xa0Wir geben Ihnen die Antworten auf die häufigsten Fragen.       Quiz Volksinitiative  In die Politik eingreifen und die Schweiz verändern - die direkte Demokratie macht es möglich. Können Sie Ihre Idee bis zur Volksabstimmung bringen? Testen Sie es.  In die Politik eingreifen und die Schweiz verändern - die direkte Demokratie macht es möglich. Können Sie Ihre Idee bis zur Volksabstimmung bringen? Testen Sie es.   123456', metadata={'source': 'https://www.ch.ch/de/'})]\n",
      "[(Document(page_content='Über ch.ch  Mehr als 2100 Gemeinden26 Kantone1 Bund15 Bereiche des täglichen Lebens1 Portalch.ch ist das Informationsportal der Schweizer Behörden. Hier finden Sie die Antworten auf alle Ihre Fragen an die Behörden. ch.ch ist ein Angebot des Bundes, der Kantone und der Gemeinden. Die Inhalte werden von der Bundeskanzlei verfasst und verwaltet.  Mehr als 2100 Gemeinden26 Kantone1 Bund15 Bereiche des täglichen Lebens1 Portalch.ch ist das Informationsportal der Schweizer Behörden. Hier finden Sie die Antworten auf alle Ihre Fragen an die Behörden. ch.ch ist ein Angebot des Bundes, der Kantone und der Gemeinden. Die Inhalte werden von der Bundeskanzlei verfasst und verwaltet.       Volksabstimmung vom 18. Juni 2023  1.\\xa0OECD/G20-Mindestbesteuerung2. Klima- und Innovationsgesetz3. Covid-19-Gesetz  1.\\xa0OECD/G20-Mindestbesteuerung2. Klima- und Innovationsgesetz3. Covid-19-Gesetz       Eidgenössische Wahlen 2023 auf ch.ch  Auf dem Portal von ch.ch zu den eidgenössischen Wahlen finden Sie alle Antworten auf Ihre Fragen zu den Parlamentswahlen vom 22. Oktober 2023. Das Portal ist ein gemeinsames Angebot der Bundeskanzlei, der Parlamentsdienste, des Bundesamtes für Statistik und der Kantone.  Auf dem Portal von ch.ch zu den eidgenössischen Wahlen finden Sie alle Antworten auf Ihre Fragen zu den Parlamentswahlen vom 22. Oktober 2023. Das Portal ist ein gemeinsames Angebot der Bundeskanzlei, der Parlamentsdienste, des Bundesamtes für Statistik und der Kantone.       Schutz vor Zecken  Zecken sind in der Schweiz weit verbreitet. Zeckenstiche können gefährlich sein und Borreliose oder Hirnhautentzündung auslösen.\\xa0Auf ch.ch erfahren Sie, wie Sie sich, Kinder und Haustiere schützen können.  Zecken sind in der Schweiz weit verbreitet. Zeckenstiche können gefährlich sein und Borreliose oder Hirnhautentzündung auslösen.\\xa0Auf ch.ch erfahren Sie, wie Sie sich, Kinder und Haustiere schützen können.       Coronavirus: Fragen und Antworten  Möchten Sie wissen, wie die Corona-Situation in der Schweiz ist? Suchen Sie Informationen zum Covid-Zertifikat, zu den Tests, zur Impfung?\\xa0Wir geben Ihnen die Antworten auf die häufigsten Fragen.  Möchten Sie wissen, wie die Corona-Situation in der Schweiz ist? Suchen Sie Informationen zum Covid-Zertifikat, zu den Tests, zur Impfung?\\xa0Wir geben Ihnen die Antworten auf die häufigsten Fragen.       Quiz Volksinitiative  In die Politik eingreifen und die Schweiz verändern - die direkte Demokratie macht es möglich. Können Sie Ihre Idee bis zur Volksabstimmung bringen? Testen Sie es.  In die Politik eingreifen und die Schweiz verändern - die direkte Demokratie macht es möglich. Können Sie Ihre Idee bis zur Volksabstimmung bringen? Testen Sie es.   123456', metadata={'source': 'https://www.ch.ch/de/'}), 0.3011353)]\n",
      "[(Document(page_content='Über ch.ch  Mehr als 2100 Gemeinden26 Kantone1 Bund15 Bereiche des täglichen Lebens1 Portalch.ch ist das Informationsportal der Schweizer Behörden. Hier finden Sie die Antworten auf alle Ihre Fragen an die Behörden. ch.ch ist ein Angebot des Bundes, der Kantone und der Gemeinden. Die Inhalte werden von der Bundeskanzlei verfasst und verwaltet.  Mehr als 2100 Gemeinden26 Kantone1 Bund15 Bereiche des täglichen Lebens1 Portalch.ch ist das Informationsportal der Schweizer Behörden. Hier finden Sie die Antworten auf alle Ihre Fragen an die Behörden. ch.ch ist ein Angebot des Bundes, der Kantone und der Gemeinden. Die Inhalte werden von der Bundeskanzlei verfasst und verwaltet.       Volksabstimmung vom 18. Juni 2023  1.\\xa0OECD/G20-Mindestbesteuerung2. Klima- und Innovationsgesetz3. Covid-19-Gesetz  1.\\xa0OECD/G20-Mindestbesteuerung2. Klima- und Innovationsgesetz3. Covid-19-Gesetz       Eidgenössische Wahlen 2023 auf ch.ch  Auf dem Portal von ch.ch zu den eidgenössischen Wahlen finden Sie alle Antworten auf Ihre Fragen zu den Parlamentswahlen vom 22. Oktober 2023. Das Portal ist ein gemeinsames Angebot der Bundeskanzlei, der Parlamentsdienste, des Bundesamtes für Statistik und der Kantone.  Auf dem Portal von ch.ch zu den eidgenössischen Wahlen finden Sie alle Antworten auf Ihre Fragen zu den Parlamentswahlen vom 22. Oktober 2023. Das Portal ist ein gemeinsames Angebot der Bundeskanzlei, der Parlamentsdienste, des Bundesamtes für Statistik und der Kantone.       Schutz vor Zecken  Zecken sind in der Schweiz weit verbreitet. Zeckenstiche können gefährlich sein und Borreliose oder Hirnhautentzündung auslösen.\\xa0Auf ch.ch erfahren Sie, wie Sie sich, Kinder und Haustiere schützen können.  Zecken sind in der Schweiz weit verbreitet. Zeckenstiche können gefährlich sein und Borreliose oder Hirnhautentzündung auslösen.\\xa0Auf ch.ch erfahren Sie, wie Sie sich, Kinder und Haustiere schützen können.       Coronavirus: Fragen und Antworten  Möchten Sie wissen, wie die Corona-Situation in der Schweiz ist? Suchen Sie Informationen zum Covid-Zertifikat, zu den Tests, zur Impfung?\\xa0Wir geben Ihnen die Antworten auf die häufigsten Fragen.  Möchten Sie wissen, wie die Corona-Situation in der Schweiz ist? Suchen Sie Informationen zum Covid-Zertifikat, zu den Tests, zur Impfung?\\xa0Wir geben Ihnen die Antworten auf die häufigsten Fragen.       Quiz Volksinitiative  In die Politik eingreifen und die Schweiz verändern - die direkte Demokratie macht es möglich. Können Sie Ihre Idee bis zur Volksabstimmung bringen? Testen Sie es.  In die Politik eingreifen und die Schweiz verändern - die direkte Demokratie macht es möglich. Können Sie Ihre Idee bis zur Volksabstimmung bringen? Testen Sie es.   123456', metadata={'source': 'https://www.ch.ch/de/'}), 0.7871202721220828)]\n"
     ]
    }
   ],
   "source": [
    "print(result_similarity_search)\n",
    "print(result_similarity_search_with_score)\n",
    "print(result_similarity_search_with_relevance_scores)"
   ]
  }
 ],
 "metadata": {
  "kernelspec": {
   "display_name": "Python 3",
   "language": "python",
   "name": "python3"
  },
  "language_info": {
   "codemirror_mode": {
    "name": "ipython",
    "version": 3
   },
   "file_extension": ".py",
   "mimetype": "text/x-python",
   "name": "python",
   "nbconvert_exporter": "python",
   "pygments_lexer": "ipython3",
   "version": "3.10.4"
  },
  "orig_nbformat": 4
 },
 "nbformat": 4,
 "nbformat_minor": 2
}
