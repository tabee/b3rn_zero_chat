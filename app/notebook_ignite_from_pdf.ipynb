{
 "cells": [
  {
   "attachments": {},
   "cell_type": "markdown",
   "metadata": {},
   "source": [
    "# ignite b3rn_zero_chat with pdf's"
   ]
  },
  {
   "attachments": {},
   "cell_type": "markdown",
   "metadata": {},
   "source": [
    "## from single pdf"
   ]
  },
  {
   "cell_type": "code",
   "execution_count": 1,
   "metadata": {},
   "outputs": [
    {
     "name": "stdout",
     "output_type": "stream",
     "text": [
      "sitemaper initialized.\n",
      "webextractor initialized.\n",
      "pdfextractor initialized.\n",
      "all tools initialized.\n"
     ]
    }
   ],
   "source": [
    "from tools import pdfextractor\n",
    "documents = pdfextractor.pdf_extractor_from_single_file('https://www.ahv-iv.ch/p/6.08.d')"
   ]
  },
  {
   "attachments": {},
   "cell_type": "markdown",
   "metadata": {},
   "source": [
    "## vectorstore"
   ]
  },
  {
   "attachments": {},
   "cell_type": "markdown",
   "metadata": {},
   "source": [
    "### add documents to a local vectorstore"
   ]
  },
  {
   "cell_type": "code",
   "execution_count": 2,
   "metadata": {},
   "outputs": [
    {
     "name": "stdout",
     "output_type": "stream",
     "text": [
      "FAISS-Store ist nicht vorhanden.\n"
     ]
    }
   ],
   "source": [
    "from tools import vectorstore\n",
    "vectorstore.add_stuff_to_store(documents)"
   ]
  },
  {
   "attachments": {},
   "cell_type": "markdown",
   "metadata": {},
   "source": [
    "### load local vectorestore"
   ]
  },
  {
   "cell_type": "code",
   "execution_count": 3,
   "metadata": {},
   "outputs": [],
   "source": [
    "from tools import vectorstore\n",
    "store = vectorstore.load_vectorstore()"
   ]
  },
  {
   "attachments": {},
   "cell_type": "markdown",
   "metadata": {},
   "source": [
    "### query the vectorstore"
   ]
  },
  {
   "cell_type": "code",
   "execution_count": 4,
   "metadata": {},
   "outputs": [],
   "source": [
    "#query = \"Wer hat Anspruch auf Familienzulagen?\"\n",
    "query = \"Was sind die Pflichten betreffend Weiterleitung und Drittauszahlung der Familienzulagen?\"\n",
    "k=1"
   ]
  },
  {
   "cell_type": "code",
   "execution_count": 5,
   "metadata": {},
   "outputs": [],
   "source": [
    "result_similarity_search = store.similarity_search(query, k=k)\n",
    "result_similarity_search_with_score = store.similarity_search_with_score(query, k=k)\n",
    "result_similarity_search_with_relevance_scores = store.similarity_search_with_relevance_scores(query, k=k)"
   ]
  },
  {
   "cell_type": "code",
   "execution_count": 6,
   "metadata": {},
   "outputs": [
    {
     "name": "stdout",
     "output_type": "stream",
     "text": [
      "[Document(page_content='10 Beispiel 4\\nMutter und Vater sind verheiratet, leben mit dem gemeinsamen Kind im\\nKanton X und arbeiten beide dort. Die Mutter verdient als Arbeitnehmerin\\n20 000 Franken im Jahr, der Vater verdient als Selbständigerwerbender\\n100 000 Franken im Jahr. Die Mutter ist erstanspruchsberechtigt, weil sie\\nein Einkommen als Arbeitnehmerin hat.\\n11 Beispiel 5 (Berechnung der Differenz)\\nA erhält eine Kinderzulage von 200 Franken von seiner Familienausgleichs-\\nkasse im Kanton X, was dem gesetzlichen Mindestansatz entspricht.\\nB hat Anspruch auf die Differenz. Seine Familienausgleichskasse im Kan-\\nton Y zahlt 230 Franken pro Kind aus, der gesetzliche Mindestansatz im\\nKanton beträgt 210 Franken. B erhält 10 Franken (entspricht der Differenz\\nzwischen den beiden gesetzlichen Mindestansätzen). Für das Kind werden\\ngesamthaft 210 Franken ausgerichtet.\\nVariante: B ist erstanspruchsberechtigt; es werden für das Kind gesamthaft\\n230 Franken ausgerichtet.\\n12 Was sind die Pflichten betreffend Weiterleitung und\\nDrittauszahlung der Familienzulagen?\\nDie Familienzulagen wie auch die Differenzzahlungen müssen Sie zusätz-\\nlich zu den Unterhaltsbeiträgen an die Person, die für das Kind sorgt,\\nweiterleiten.\\nWerden die Familienzulagen nicht für die Bedürfnisse des Kindes verwen-\\ndet, so können sie direkt an das mündige Kind oder die sorgeberechtigte\\nPerson ausgerichtet werden (sog. Drittauszahlung).\\n13 Erhalten Kinder im Ausland Familienzulagen?\\nFamilienzulagen werden für Kinder im Ausland nur dann ausgerichtet,\\nwenn die Schweiz aufgrund eines Abkommens über Soziale Sicherheit\\ndazu verpflichtet ist:\\n• An Staatsangehörige von EU- bzw. EFTA-Ländern werden die Famili-\\nenzulagen für Kinder, die in Ländern der EU, bzw. der EFTA wohnen,\\nungekürzt ausgerichtet.\\n• Das neue Abkommen mit dem Vereinigten Königreich, das seit dem\\n1. November 2021 in Kraft ist, erstreckt sich nicht auf Famili-\\nenleistungen; diese können daher grundsätzlich nicht für im\\nVereinigten Königreich lebende Kinder ausbezahlt werden,\\nausser es handelt sich um eine Situation, die unter das Ab-\\n7', metadata={'source': '/tmp/tmpdd0n2837', 'file_path': '/tmp/tmpdd0n2837', 'page': 7, 'total_pages': 12, 'CreationDate': \"D:20230217104431+01'00'\", 'Creator': 'Adobe InDesign 17.0 (Windows)', 'ModDate': \"D:20230217104432+01'00'\", 'Producer': 'Adobe PDF Library 16.0.3', 'Trapped': 'False'})]\n",
      "[(Document(page_content='10 Beispiel 4\\nMutter und Vater sind verheiratet, leben mit dem gemeinsamen Kind im\\nKanton X und arbeiten beide dort. Die Mutter verdient als Arbeitnehmerin\\n20 000 Franken im Jahr, der Vater verdient als Selbständigerwerbender\\n100 000 Franken im Jahr. Die Mutter ist erstanspruchsberechtigt, weil sie\\nein Einkommen als Arbeitnehmerin hat.\\n11 Beispiel 5 (Berechnung der Differenz)\\nA erhält eine Kinderzulage von 200 Franken von seiner Familienausgleichs-\\nkasse im Kanton X, was dem gesetzlichen Mindestansatz entspricht.\\nB hat Anspruch auf die Differenz. Seine Familienausgleichskasse im Kan-\\nton Y zahlt 230 Franken pro Kind aus, der gesetzliche Mindestansatz im\\nKanton beträgt 210 Franken. B erhält 10 Franken (entspricht der Differenz\\nzwischen den beiden gesetzlichen Mindestansätzen). Für das Kind werden\\ngesamthaft 210 Franken ausgerichtet.\\nVariante: B ist erstanspruchsberechtigt; es werden für das Kind gesamthaft\\n230 Franken ausgerichtet.\\n12 Was sind die Pflichten betreffend Weiterleitung und\\nDrittauszahlung der Familienzulagen?\\nDie Familienzulagen wie auch die Differenzzahlungen müssen Sie zusätz-\\nlich zu den Unterhaltsbeiträgen an die Person, die für das Kind sorgt,\\nweiterleiten.\\nWerden die Familienzulagen nicht für die Bedürfnisse des Kindes verwen-\\ndet, so können sie direkt an das mündige Kind oder die sorgeberechtigte\\nPerson ausgerichtet werden (sog. Drittauszahlung).\\n13 Erhalten Kinder im Ausland Familienzulagen?\\nFamilienzulagen werden für Kinder im Ausland nur dann ausgerichtet,\\nwenn die Schweiz aufgrund eines Abkommens über Soziale Sicherheit\\ndazu verpflichtet ist:\\n• An Staatsangehörige von EU- bzw. EFTA-Ländern werden die Famili-\\nenzulagen für Kinder, die in Ländern der EU, bzw. der EFTA wohnen,\\nungekürzt ausgerichtet.\\n• Das neue Abkommen mit dem Vereinigten Königreich, das seit dem\\n1. November 2021 in Kraft ist, erstreckt sich nicht auf Famili-\\nenleistungen; diese können daher grundsätzlich nicht für im\\nVereinigten Königreich lebende Kinder ausbezahlt werden,\\nausser es handelt sich um eine Situation, die unter das Ab-\\n7', metadata={'source': '/tmp/tmpdd0n2837', 'file_path': '/tmp/tmpdd0n2837', 'page': 7, 'total_pages': 12, 'CreationDate': \"D:20230217104431+01'00'\", 'Creator': 'Adobe InDesign 17.0 (Windows)', 'ModDate': \"D:20230217104432+01'00'\", 'Producer': 'Adobe PDF Library 16.0.3', 'Trapped': 'False'}), 0.2290675)]\n",
      "[(Document(page_content='10 Beispiel 4\\nMutter und Vater sind verheiratet, leben mit dem gemeinsamen Kind im\\nKanton X und arbeiten beide dort. Die Mutter verdient als Arbeitnehmerin\\n20 000 Franken im Jahr, der Vater verdient als Selbständigerwerbender\\n100 000 Franken im Jahr. Die Mutter ist erstanspruchsberechtigt, weil sie\\nein Einkommen als Arbeitnehmerin hat.\\n11 Beispiel 5 (Berechnung der Differenz)\\nA erhält eine Kinderzulage von 200 Franken von seiner Familienausgleichs-\\nkasse im Kanton X, was dem gesetzlichen Mindestansatz entspricht.\\nB hat Anspruch auf die Differenz. Seine Familienausgleichskasse im Kan-\\nton Y zahlt 230 Franken pro Kind aus, der gesetzliche Mindestansatz im\\nKanton beträgt 210 Franken. B erhält 10 Franken (entspricht der Differenz\\nzwischen den beiden gesetzlichen Mindestansätzen). Für das Kind werden\\ngesamthaft 210 Franken ausgerichtet.\\nVariante: B ist erstanspruchsberechtigt; es werden für das Kind gesamthaft\\n230 Franken ausgerichtet.\\n12 Was sind die Pflichten betreffend Weiterleitung und\\nDrittauszahlung der Familienzulagen?\\nDie Familienzulagen wie auch die Differenzzahlungen müssen Sie zusätz-\\nlich zu den Unterhaltsbeiträgen an die Person, die für das Kind sorgt,\\nweiterleiten.\\nWerden die Familienzulagen nicht für die Bedürfnisse des Kindes verwen-\\ndet, so können sie direkt an das mündige Kind oder die sorgeberechtigte\\nPerson ausgerichtet werden (sog. Drittauszahlung).\\n13 Erhalten Kinder im Ausland Familienzulagen?\\nFamilienzulagen werden für Kinder im Ausland nur dann ausgerichtet,\\nwenn die Schweiz aufgrund eines Abkommens über Soziale Sicherheit\\ndazu verpflichtet ist:\\n• An Staatsangehörige von EU- bzw. EFTA-Ländern werden die Famili-\\nenzulagen für Kinder, die in Ländern der EU, bzw. der EFTA wohnen,\\nungekürzt ausgerichtet.\\n• Das neue Abkommen mit dem Vereinigten Königreich, das seit dem\\n1. November 2021 in Kraft ist, erstreckt sich nicht auf Famili-\\nenleistungen; diese können daher grundsätzlich nicht für im\\nVereinigten Königreich lebende Kinder ausbezahlt werden,\\nausser es handelt sich um eine Situation, die unter das Ab-\\n7', metadata={'source': '/tmp/tmpdd0n2837', 'file_path': '/tmp/tmpdd0n2837', 'page': 7, 'total_pages': 12, 'CreationDate': \"D:20230217104431+01'00'\", 'Creator': 'Adobe InDesign 17.0 (Windows)', 'ModDate': \"D:20230217104432+01'00'\", 'Producer': 'Adobe PDF Library 16.0.3', 'Trapped': 'False'}), 0.8380248142850555)]\n"
     ]
    }
   ],
   "source": [
    "print(result_similarity_search)\n",
    "print(result_similarity_search_with_score)\n",
    "print(result_similarity_search_with_relevance_scores)"
   ]
  }
 ],
 "metadata": {
  "kernelspec": {
   "display_name": "Python 3",
   "language": "python",
   "name": "python3"
  },
  "language_info": {
   "codemirror_mode": {
    "name": "ipython",
    "version": 3
   },
   "file_extension": ".py",
   "mimetype": "text/x-python",
   "name": "python",
   "nbconvert_exporter": "python",
   "pygments_lexer": "ipython3",
   "version": "3.10.4"
  },
  "orig_nbformat": 4
 },
 "nbformat": 4,
 "nbformat_minor": 2
}
