{
 "cells": [
  {
   "attachments": {},
   "cell_type": "markdown",
   "metadata": {},
   "source": [
    "# ignite b3rn_zero_chat with pdf's"
   ]
  },
  {
   "attachments": {},
   "cell_type": "markdown",
   "metadata": {},
   "source": [
    "## from single pdf"
   ]
  },
  {
   "cell_type": "code",
   "execution_count": 1,
   "metadata": {},
   "outputs": [
    {
     "name": "stdout",
     "output_type": "stream",
     "text": [
      "sitemaper initialized.\n",
      "webextractor initialized.\n",
      "pdfextractor initialized.\n",
      "all tools initialized.\n"
     ]
    }
   ],
   "source": [
    "from tools import pdfextractor\n",
    "#documents = pdfextractor.pdf_extractor_from_single_file('https://www.ahv-iv.ch/p/6.08.d')\n",
    "documents = pdfextractor.pdf_extractor_from_single_file('https://fedlex.data.admin.ch/filestore/fedlex.data.admin.ch/eli/cc/2008/51/20220101/de/pdf-a/fedlex-data-admin-ch-eli-cc-2008-51-20220101-de-pdf-a-1.pdf')"
   ]
  },
  {
   "attachments": {},
   "cell_type": "markdown",
   "metadata": {},
   "source": [
    "## vectorstore"
   ]
  },
  {
   "attachments": {},
   "cell_type": "markdown",
   "metadata": {},
   "source": [
    "### add documents to a local vectorstore"
   ]
  },
  {
   "cell_type": "code",
   "execution_count": 2,
   "metadata": {},
   "outputs": [
    {
     "name": "stdout",
     "output_type": "stream",
     "text": [
      "FAISS-Store ist vorhanden.\n"
     ]
    }
   ],
   "source": [
    "from tools import vectorstore\n",
    "vectorstore.add_stuff_to_store(documents)"
   ]
  },
  {
   "attachments": {},
   "cell_type": "markdown",
   "metadata": {},
   "source": [
    "### load local vectorestore"
   ]
  },
  {
   "cell_type": "code",
   "execution_count": 3,
   "metadata": {},
   "outputs": [],
   "source": [
    "from tools import vectorstore\n",
    "store = vectorstore.load_vectorstore()"
   ]
  },
  {
   "attachments": {},
   "cell_type": "markdown",
   "metadata": {},
   "source": [
    "### query the vectorstore"
   ]
  },
  {
   "cell_type": "code",
   "execution_count": 4,
   "metadata": {},
   "outputs": [],
   "source": [
    "#query = \"Wer hat Anspruch auf Familienzulagen?\"\n",
    "query = \"Was sind die Pflichten betreffend Weiterleitung und Drittauszahlung der Familienzulagen?\"\n",
    "k=1"
   ]
  },
  {
   "cell_type": "code",
   "execution_count": 5,
   "metadata": {},
   "outputs": [],
   "source": [
    "result_similarity_search = store.similarity_search(query, k=k)\n",
    "result_similarity_search_with_score = store.similarity_search_with_score(query, k=k)\n",
    "result_similarity_search_with_relevance_scores = store.similarity_search_with_relevance_scores(query, k=k)"
   ]
  },
  {
   "cell_type": "code",
   "execution_count": 6,
   "metadata": {},
   "outputs": [
    {
     "name": "stdout",
     "output_type": "stream",
     "text": [
      "[Document(page_content='836.2 Familienzulagen\\ne.15 der Person mit dem höheren AHV-pflichtigen Einkommen aus unselbst-\\nständiger Erwerbstätigkeit;\\nf.16 der Person mit dem höheren AHV-pflichtigen Einkommen aus selbst-\\nständiger Erwerbstätigkeit.\\n2 Richten sich die Familienzulagenansprüche der erst- und der zweitanspruchs-\\nberechtigten Person nach den Familienzulagenordnungen von zwei verschiedenen\\nKantonen, so hat die zweitanspruchsberechtigte Person Anspruch auf den Betrag,\\num den der gesetzliche Mindestansatz in ihrem Kanton höher ist als im anderen.\\nArt. 8 Familienzulagen und Unterhaltsbeiträge\\nAnspruchsberechtigte Personen, die auf Grund eines Gerichtsurteils oder einer\\nVereinbarung zur Zahlung von Unterhaltsbeiträgen für Kinder verpflichtet sind,\\nmüssen die Familienzulagen zusätzlich zu den Unterhaltsbeiträgen entrichten.\\nArt. 9 Auszahlung an Dritte\\n1 Werden die Familienzulagen nicht für die Bedürfnisse einer Person verwendet, für\\ndie sie bestimmt sind, so kann diese Person oder ihr gesetzlicher Vertreter verlan-\\ngen, dass ihr die Familienzulagen in Abweichung von Artikel 20 Absatz 1 ATSG17\\nauch ohne Fürsorgeabhängigkeit ausgerichtet werden.\\n2 Auf begründetes Gesuch hin kann die Ausbildungszulage in Abweichung von Arti-\\nkel 20 Absatz 1 ATSG direkt dem mündigen Kind ausgerichtet werden.\\nArt. 10 Ausschluss der Zwangsvollstreckung\\nDie Familienzulagen sind der Zwangsvollstreckung entzogen.\\n3. Kapitel: Familienzulagenordnungen\\n1. Abschnitt: Erwerbstätige in nichtlandwirtschaftlichen Berufen18\\nArt. 11 Unterstellung\\n1 Diesem Gesetz unterstehen:\\na. die Arbeitgeber, die nach Artikel 12 des Bundesgesetzes vom 20. Dezember\\n194619 über die Alters- und Hinterlassenenversicherung (AHVG) beitrags-\\npflichtig sind;\\n1 5 Fassung gemäss Ziff. I des BG vom 18. März 2011, in Kraft seit 1. Jan. 2013\\n(AS 2011 3973 4949; BBl 2009 5991 6009).\\n16 Eingefügt durch Ziff. I des BG vom 18. März 2011, in Kraft seit 1. Jan. 2013\\n(AS 2011 3973 4949; BBl 2009 5991 6009).\\n17 SR 830.1\\n18 Fassung gemäss Ziff. I des BG vom 18. März 2011, in Kraft seit 1. Jan. 2013\\n(AS 2011 3973 4949; BBl 2009 5991 6009).\\n19 SR 831.10\\n4', metadata={'source': '/tmp/tmp9hgjbr1q', 'file_path': '/tmp/tmp9hgjbr1q', 'page': 4, 'total_pages': 16, 'Title': '836.2', 'Author': 'Schweizerische Bundeskanzlei', 'Subject': 'Bundesgesetz  über die Familienzulagen und Finanzhilfen an Familienorganisationen', 'Keywords': 'Rechtstext Formatvorlage DfV', 'Creator': 'Microsoft® Word 2016', 'CreationDate': \"D:20220426200750+02'00'\", 'ModDate': \"D:20220426200750+02'00'\", 'Producer': 'Microsoft® Word 2016'})]\n",
      "[(Document(page_content='836.2 Familienzulagen\\ne.15 der Person mit dem höheren AHV-pflichtigen Einkommen aus unselbst-\\nständiger Erwerbstätigkeit;\\nf.16 der Person mit dem höheren AHV-pflichtigen Einkommen aus selbst-\\nständiger Erwerbstätigkeit.\\n2 Richten sich die Familienzulagenansprüche der erst- und der zweitanspruchs-\\nberechtigten Person nach den Familienzulagenordnungen von zwei verschiedenen\\nKantonen, so hat die zweitanspruchsberechtigte Person Anspruch auf den Betrag,\\num den der gesetzliche Mindestansatz in ihrem Kanton höher ist als im anderen.\\nArt. 8 Familienzulagen und Unterhaltsbeiträge\\nAnspruchsberechtigte Personen, die auf Grund eines Gerichtsurteils oder einer\\nVereinbarung zur Zahlung von Unterhaltsbeiträgen für Kinder verpflichtet sind,\\nmüssen die Familienzulagen zusätzlich zu den Unterhaltsbeiträgen entrichten.\\nArt. 9 Auszahlung an Dritte\\n1 Werden die Familienzulagen nicht für die Bedürfnisse einer Person verwendet, für\\ndie sie bestimmt sind, so kann diese Person oder ihr gesetzlicher Vertreter verlan-\\ngen, dass ihr die Familienzulagen in Abweichung von Artikel 20 Absatz 1 ATSG17\\nauch ohne Fürsorgeabhängigkeit ausgerichtet werden.\\n2 Auf begründetes Gesuch hin kann die Ausbildungszulage in Abweichung von Arti-\\nkel 20 Absatz 1 ATSG direkt dem mündigen Kind ausgerichtet werden.\\nArt. 10 Ausschluss der Zwangsvollstreckung\\nDie Familienzulagen sind der Zwangsvollstreckung entzogen.\\n3. Kapitel: Familienzulagenordnungen\\n1. Abschnitt: Erwerbstätige in nichtlandwirtschaftlichen Berufen18\\nArt. 11 Unterstellung\\n1 Diesem Gesetz unterstehen:\\na. die Arbeitgeber, die nach Artikel 12 des Bundesgesetzes vom 20. Dezember\\n194619 über die Alters- und Hinterlassenenversicherung (AHVG) beitrags-\\npflichtig sind;\\n1 5 Fassung gemäss Ziff. I des BG vom 18. März 2011, in Kraft seit 1. Jan. 2013\\n(AS 2011 3973 4949; BBl 2009 5991 6009).\\n16 Eingefügt durch Ziff. I des BG vom 18. März 2011, in Kraft seit 1. Jan. 2013\\n(AS 2011 3973 4949; BBl 2009 5991 6009).\\n17 SR 830.1\\n18 Fassung gemäss Ziff. I des BG vom 18. März 2011, in Kraft seit 1. Jan. 2013\\n(AS 2011 3973 4949; BBl 2009 5991 6009).\\n19 SR 831.10\\n4', metadata={'source': '/tmp/tmp9hgjbr1q', 'file_path': '/tmp/tmp9hgjbr1q', 'page': 4, 'total_pages': 16, 'Title': '836.2', 'Author': 'Schweizerische Bundeskanzlei', 'Subject': 'Bundesgesetz  über die Familienzulagen und Finanzhilfen an Familienorganisationen', 'Keywords': 'Rechtstext Formatvorlage DfV', 'Creator': 'Microsoft® Word 2016', 'CreationDate': \"D:20220426200750+02'00'\", 'ModDate': \"D:20220426200750+02'00'\", 'Producer': 'Microsoft® Word 2016'}), 0.28299153)]\n",
      "[(Document(page_content='836.2 Familienzulagen\\ne.15 der Person mit dem höheren AHV-pflichtigen Einkommen aus unselbst-\\nständiger Erwerbstätigkeit;\\nf.16 der Person mit dem höheren AHV-pflichtigen Einkommen aus selbst-\\nständiger Erwerbstätigkeit.\\n2 Richten sich die Familienzulagenansprüche der erst- und der zweitanspruchs-\\nberechtigten Person nach den Familienzulagenordnungen von zwei verschiedenen\\nKantonen, so hat die zweitanspruchsberechtigte Person Anspruch auf den Betrag,\\num den der gesetzliche Mindestansatz in ihrem Kanton höher ist als im anderen.\\nArt. 8 Familienzulagen und Unterhaltsbeiträge\\nAnspruchsberechtigte Personen, die auf Grund eines Gerichtsurteils oder einer\\nVereinbarung zur Zahlung von Unterhaltsbeiträgen für Kinder verpflichtet sind,\\nmüssen die Familienzulagen zusätzlich zu den Unterhaltsbeiträgen entrichten.\\nArt. 9 Auszahlung an Dritte\\n1 Werden die Familienzulagen nicht für die Bedürfnisse einer Person verwendet, für\\ndie sie bestimmt sind, so kann diese Person oder ihr gesetzlicher Vertreter verlan-\\ngen, dass ihr die Familienzulagen in Abweichung von Artikel 20 Absatz 1 ATSG17\\nauch ohne Fürsorgeabhängigkeit ausgerichtet werden.\\n2 Auf begründetes Gesuch hin kann die Ausbildungszulage in Abweichung von Arti-\\nkel 20 Absatz 1 ATSG direkt dem mündigen Kind ausgerichtet werden.\\nArt. 10 Ausschluss der Zwangsvollstreckung\\nDie Familienzulagen sind der Zwangsvollstreckung entzogen.\\n3. Kapitel: Familienzulagenordnungen\\n1. Abschnitt: Erwerbstätige in nichtlandwirtschaftlichen Berufen18\\nArt. 11 Unterstellung\\n1 Diesem Gesetz unterstehen:\\na. die Arbeitgeber, die nach Artikel 12 des Bundesgesetzes vom 20. Dezember\\n194619 über die Alters- und Hinterlassenenversicherung (AHVG) beitrags-\\npflichtig sind;\\n1 5 Fassung gemäss Ziff. I des BG vom 18. März 2011, in Kraft seit 1. Jan. 2013\\n(AS 2011 3973 4949; BBl 2009 5991 6009).\\n16 Eingefügt durch Ziff. I des BG vom 18. März 2011, in Kraft seit 1. Jan. 2013\\n(AS 2011 3973 4949; BBl 2009 5991 6009).\\n17 SR 830.1\\n18 Fassung gemäss Ziff. I des BG vom 18. März 2011, in Kraft seit 1. Jan. 2013\\n(AS 2011 3973 4949; BBl 2009 5991 6009).\\n19 SR 831.10\\n4', metadata={'source': '/tmp/tmp9hgjbr1q', 'file_path': '/tmp/tmp9hgjbr1q', 'page': 4, 'total_pages': 16, 'Title': '836.2', 'Author': 'Schweizerische Bundeskanzlei', 'Subject': 'Bundesgesetz  über die Familienzulagen und Finanzhilfen an Familienorganisationen', 'Keywords': 'Rechtstext Formatvorlage DfV', 'Creator': 'Microsoft® Word 2016', 'CreationDate': \"D:20220426200750+02'00'\", 'ModDate': \"D:20220426200750+02'00'\", 'Producer': 'Microsoft® Word 2016'}), 0.7998947711714922)]\n"
     ]
    }
   ],
   "source": [
    "print(result_similarity_search)\n",
    "print(result_similarity_search_with_score)\n",
    "print(result_similarity_search_with_relevance_scores)"
   ]
  }
 ],
 "metadata": {
  "kernelspec": {
   "display_name": "Python 3",
   "language": "python",
   "name": "python3"
  },
  "language_info": {
   "codemirror_mode": {
    "name": "ipython",
    "version": 3
   },
   "file_extension": ".py",
   "mimetype": "text/x-python",
   "name": "python",
   "nbconvert_exporter": "python",
   "pygments_lexer": "ipython3",
   "version": "3.10.4"
  },
  "orig_nbformat": 4
 },
 "nbformat": 4,
 "nbformat_minor": 2
}
