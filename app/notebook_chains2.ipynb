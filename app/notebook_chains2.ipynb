{
 "cells": [
  {
   "attachments": {},
   "cell_type": "markdown",
   "metadata": {},
   "source": [
    "# Demo b3rn_zero_chat"
   ]
  },
  {
   "attachments": {},
   "cell_type": "markdown",
   "metadata": {},
   "source": [
    "## vectorstore"
   ]
  },
  {
   "attachments": {},
   "cell_type": "markdown",
   "metadata": {},
   "source": [
    "### load local vectorestore"
   ]
  },
  {
   "cell_type": "code",
   "execution_count": 1,
   "metadata": {},
   "outputs": [
    {
     "name": "stdout",
     "output_type": "stream",
     "text": [
      "sitemaper initialized.\n",
      "webextractor initialized.\n",
      "pdfextractor initialized.\n",
      "all tools initialized.\n"
     ]
    }
   ],
   "source": [
    "from tools import vectorstore\n",
    "store = vectorstore.load_vectorstore()\n"
   ]
  },
  {
   "cell_type": "code",
   "execution_count": 2,
   "metadata": {},
   "outputs": [],
   "source": [
    "# query = \"was ist ch.ch ?\"\n",
    "query = \"\"\"Was sind die Pflichten betreffend\n",
    " Weiterleitung und Drittauszahlung der \n",
    " Familienzulagen?\"\"\"\n",
    "# query = \"Wer hat Anspruch auf Familienzulagen?\"\n"
   ]
  },
  {
   "cell_type": "code",
   "execution_count": 3,
   "metadata": {},
   "outputs": [
    {
     "name": "stdout",
     "output_type": "stream",
     "text": [
      "page_content='10 Beispiel 4\\nMutter und Vater sind verheiratet, leben mit dem gemeinsamen Kind im\\nKanton X und arbeiten beide dort. Die Mutter verdient als Arbeitnehmerin\\n20 000 Franken im Jahr, der Vater verdient als Selbständigerwerbender\\n100 000 Franken im Jahr. Die Mutter ist erstanspruchsberechtigt, weil sie\\nein Einkommen als Arbeitnehmerin hat.\\n11 Beispiel 5 (Berechnung der Differenz)\\nA erhält eine Kinderzulage von 200 Franken von seiner Familienausgleichs-\\nkasse im Kanton X, was dem gesetzlichen Mindestansatz entspricht.\\nB hat Anspruch auf die Differenz. Seine Familienausgleichskasse im Kan-\\nton Y zahlt 230 Franken pro Kind aus, der gesetzliche Mindestansatz im\\nKanton beträgt 210 Franken. B erhält 10 Franken (entspricht der Differenz\\nzwischen den beiden gesetzlichen Mindestansätzen). Für das Kind werden\\ngesamthaft 210 Franken ausgerichtet.\\nVariante: B ist erstanspruchsberechtigt; es werden für das Kind gesamthaft\\n230 Franken ausgerichtet.\\n12 Was sind die Pflichten betreffend Weiterleitung und\\nDrittauszahlung der Familienzulagen?\\nDie Familienzulagen wie auch die Differenzzahlungen müssen Sie zusätz-\\nlich zu den Unterhaltsbeiträgen an die Person, die für das Kind sorgt,\\nweiterleiten.\\nWerden die Familienzulagen nicht für die Bedürfnisse des Kindes verwen-\\ndet, so können sie direkt an das mündige Kind oder die sorgeberechtigte\\nPerson ausgerichtet werden (sog. Drittauszahlung).\\n13 Erhalten Kinder im Ausland Familienzulagen?\\nFamilienzulagen werden für Kinder im Ausland nur dann ausgerichtet,\\nwenn die Schweiz aufgrund eines Abkommens über Soziale Sicherheit\\ndazu verpflichtet ist:\\n• An Staatsangehörige von EU- bzw. EFTA-Ländern werden die Famili-\\nenzulagen für Kinder, die in Ländern der EU, bzw. der EFTA wohnen,\\nungekürzt ausgerichtet.\\n• Das neue Abkommen mit dem Vereinigten Königreich, das seit dem\\n1. November 2021 in Kraft ist, erstreckt sich nicht auf Famili-\\nenleistungen; diese können daher grundsätzlich nicht für im\\nVereinigten Königreich lebende Kinder ausbezahlt werden,\\nausser es handelt sich um eine Situation, die unter das Ab-\\n7' metadata={'source': '/tmp/tmp3zf8756b', 'file_path': '/tmp/tmp3zf8756b', 'page': 7, 'total_pages': 12, 'CreationDate': \"D:20230217104431+01'00'\", 'Creator': 'Adobe InDesign 17.0 (Windows)', 'ModDate': \"D:20230217104432+01'00'\", 'Producer': 'Adobe PDF Library 16.0.3', 'Trapped': 'False'}\n"
     ]
    },
    {
     "data": {
      "text/plain": [
       "{'question': 'Was sind die Pflichten betreffend\\n Weiterleitung und Drittauszahlung der \\n Familienzulagen?',\n",
       " 'chat_history': [],\n",
       " 'answer': ' Die Familienzulagen wie auch die Differenzzahlungen müssen Sie zusätzlich zu den Unterhaltsbeiträgen an die Person, die für das Kind sorgt, weiterleiten. Werden die Familienzulagen nicht für die Bedürfnisse des Kindes verwendet, so können sie direkt an das mündige Kind oder die sorgeberechtigte Person ausgerichtet werden (sog. Drittauszahlung).',\n",
       " 'source_documents': [Document(page_content='10 Beispiel 4\\nMutter und Vater sind verheiratet, leben mit dem gemeinsamen Kind im\\nKanton X und arbeiten beide dort. Die Mutter verdient als Arbeitnehmerin\\n20 000 Franken im Jahr, der Vater verdient als Selbständigerwerbender\\n100 000 Franken im Jahr. Die Mutter ist erstanspruchsberechtigt, weil sie\\nein Einkommen als Arbeitnehmerin hat.\\n11 Beispiel 5 (Berechnung der Differenz)\\nA erhält eine Kinderzulage von 200 Franken von seiner Familienausgleichs-\\nkasse im Kanton X, was dem gesetzlichen Mindestansatz entspricht.\\nB hat Anspruch auf die Differenz. Seine Familienausgleichskasse im Kan-\\nton Y zahlt 230 Franken pro Kind aus, der gesetzliche Mindestansatz im\\nKanton beträgt 210 Franken. B erhält 10 Franken (entspricht der Differenz\\nzwischen den beiden gesetzlichen Mindestansätzen). Für das Kind werden\\ngesamthaft 210 Franken ausgerichtet.\\nVariante: B ist erstanspruchsberechtigt; es werden für das Kind gesamthaft\\n230 Franken ausgerichtet.\\n12 Was sind die Pflichten betreffend Weiterleitung und\\nDrittauszahlung der Familienzulagen?\\nDie Familienzulagen wie auch die Differenzzahlungen müssen Sie zusätz-\\nlich zu den Unterhaltsbeiträgen an die Person, die für das Kind sorgt,\\nweiterleiten.\\nWerden die Familienzulagen nicht für die Bedürfnisse des Kindes verwen-\\ndet, so können sie direkt an das mündige Kind oder die sorgeberechtigte\\nPerson ausgerichtet werden (sog. Drittauszahlung).\\n13 Erhalten Kinder im Ausland Familienzulagen?\\nFamilienzulagen werden für Kinder im Ausland nur dann ausgerichtet,\\nwenn die Schweiz aufgrund eines Abkommens über Soziale Sicherheit\\ndazu verpflichtet ist:\\n• An Staatsangehörige von EU- bzw. EFTA-Ländern werden die Famili-\\nenzulagen für Kinder, die in Ländern der EU, bzw. der EFTA wohnen,\\nungekürzt ausgerichtet.\\n• Das neue Abkommen mit dem Vereinigten Königreich, das seit dem\\n1. November 2021 in Kraft ist, erstreckt sich nicht auf Famili-\\nenleistungen; diese können daher grundsätzlich nicht für im\\nVereinigten Königreich lebende Kinder ausbezahlt werden,\\nausser es handelt sich um eine Situation, die unter das Ab-\\n7', metadata={'source': '/tmp/tmp3zf8756b', 'file_path': '/tmp/tmp3zf8756b', 'page': 7, 'total_pages': 12, 'CreationDate': \"D:20230217104431+01'00'\", 'Creator': 'Adobe InDesign 17.0 (Windows)', 'ModDate': \"D:20230217104432+01'00'\", 'Producer': 'Adobe PDF Library 16.0.3', 'Trapped': 'False'}),\n",
       "  Document(page_content='Auf einen Blick\\nDie Familienzulagen sollen die Kosten, die den Eltern durch den Unter-\\nhalt ihrer Kinder entstehen, teilweise ausgleichen. Sie umfassen Kinder-\\nund Ausbildungszulagen sowie die von einzelnen Kantonen eingeführten\\nGeburts- und Adoptionszulagen.\\nNach dem Bundesgesetz über die Familienzulagen (FamZG) werden in allen\\nKantonen mindestens die folgenden Zulagen pro Kind und Monat ausge-\\nrichtet:\\n• eine Kinderzulage von 200 Franken für Kinder bis 16 Jahre oder bis\\nzum Anspruch auf die Ausbildungszulage;\\n• eine Ausbildungszulage von 250 Franken für Jugendliche, die eine\\nnachobligatorische Ausbildung absolvieren, frühestens ab 15 Jahren,\\nbis 25 Jahre.\\nAnspruch auf Familienzulagen haben alle Arbeitnehmenden, alle Selbstän-\\ndigerwerbenden sowie Nichterwerbstätige mit bescheidenen Einkommen\\nund arbeitslose Mütter, die eine Mutterschaftsentschädigung beziehen,\\nohne Einkommensgrenze. Für die Beschäftigten in der Landwirtschaft gilt\\neine Sonderregelung (siehe Merkblatt 6.09 – Familienzulagen in der Land-\\nwirtschaft).\\nDieses Merkblatt informiert Arbeitnehmende, Selbständigerwerbende und\\nNichterwerbstätige mit Kindern sowie Arbeitgebende.\\nAnspruch\\n1 Wer hat Anspruch auf Familienzulagen?\\n• Arbeitnehmende und Selbständigerwerbende ausserhalb der Land-\\nwirtschaft: Auf diese Personen ist das Bundesgesetz über die Familien-\\nzulagen (FamZG) anwendbar.\\n• Nichterwerbstätige im Sinne der AHV: Das FamZG gibt auch den Nicht-\\nerwerbstätigen mit bescheidenem Einkommen grundsätzlich einen\\nAnspruch auf Familienzulagen. Arbeitslose Mütter, die eine Mutter-\\nschaftsentschädigung beziehen, gelten auch als Nichterwerbstätige,\\nohne Berücksichtigung der Einkommensgrenze.\\n• Personen, die in der Landwirtschaft tätig sind: Mit dem Bundesgesetz\\nüber die Familienzulagen in der Landwirtschaft (FLG) gilt eine Sonder-\\nregelung, die sowohl selbständigen Landwirtinnen und Landwirten,\\nwie auch landwirtschaftlichen Arbeitnehmerinnen und Arbeitnehmern\\nAnspruch auf Familienzulagen gibt. Mehr Informationen dazu finden\\nSie im Merkblatt 6.09 – Familienzulagen in der Landwirtschaft.\\n2', metadata={'source': '/tmp/tmp3zf8756b', 'file_path': '/tmp/tmp3zf8756b', 'page': 2, 'total_pages': 12, 'CreationDate': \"D:20230217104431+01'00'\", 'Creator': 'Adobe InDesign 17.0 (Windows)', 'ModDate': \"D:20230217104432+01'00'\", 'Producer': 'Adobe PDF Library 16.0.3', 'Trapped': 'False'}),\n",
       "  Document(page_content='Verfahren\\n21 Wo muss ich den Anspruch auf Familienzulagen geltend\\nmachen?\\nWenn Sie Familienzulagen beanspruchen, müssen Sie diese mit einem\\ndafür vorgesehenen Fragebogen beantragen:\\n• Als Arbeitnehmerin oder Arbeitnehmer stellen Sie den Antrag in der\\nRegel bei Ihrem Arbeitgebenden.\\n• Als Selbständigerwerbende oder Selbständigewerbender sowie als\\nArbeitnehmerin oder Arbeitnehmer nicht beitragspflichtiger Arbeitge-\\nbender stellen Sie den Antrag bei der Familienausgleichskasse, der Sie\\nangeschlossen sind.\\n• Als Nichterwerbstätige oder Nichterwerbstätiger stellen Sie den Antrag\\nin der Regel bei der kantonalen Ausgleichskasse Ihres Wohnsitzkan-\\ntons.\\nBei der Antragstellung müssen Sie alle nötigen Angaben machen. Reichen\\nSie alle notwendigen Belege ein.\\n22 Wie werden die Familienzulagen ausbezahlt?\\nSie erhalten die Familienzulagen wie folgt:\\n• Als Arbeitnehmerin oder Arbeitnehmer in der Regel durch den Arbeit-\\ngebenden zusammen mit dem Lohn;\\n• Als Selbständigerwerbende oder Selbständigewerbender oder als\\nArbeitnehmerin oder Arbeitnehmer nicht beitragspflichtiger Arbeitge-\\nbender direkt durch die Familienausgleichskasse;\\n• Als Nichterwerbstätige oder Nichterwerbstätiger in der Regel direkt\\ndurch die kantonale Ausgleichskasse Ihres Wohnsitzkantons.\\n23 Kann ich die Familienzulagen nachfordern bzw.\\nzurückerstatten?\\nSie können einen rückwirkenden Anspruch auf die Auszahlung von Fami-\\nlienzulagen geltend machen, doch ist er auf fünf Jahre ab dem Zeitpunkt,\\nin dem die Zulagen geschuldet waren, beschränkt. Sie müssen zu Unrecht\\nbezogene Familienzulagen zurückerstatten.\\n11', metadata={'source': '/tmp/tmp3zf8756b', 'file_path': '/tmp/tmp3zf8756b', 'page': 11, 'total_pages': 12, 'CreationDate': \"D:20230217104431+01'00'\", 'Creator': 'Adobe InDesign 17.0 (Windows)', 'ModDate': \"D:20230217104432+01'00'\", 'Producer': 'Adobe PDF Library 16.0.3', 'Trapped': 'False'}),\n",
       "  Document(page_content='5. Arbeiten beide oder arbeitet keine der anspruchsberechtigten Perso-\\nnen im Wohnsitzkanton des Kindes, so bezieht die Familienzulagen,\\nwer das höhere AHV-pflichtige Einkommen aus einer unselbständigen\\nErwerbstätigkeit hat. Bezieht keiner ein Einkommen aus unselbständi-\\nger Erwerbstätigkeit, so hat Vorrang, wer das höhere Einkommen aus\\nselbständiger Erwerbstätigkeit bezieht.\\nDie zweitanspruchsberechtigte Person hat Anspruch auf den entspre-\\nchenden Differenzbetrag, wenn die gesetzlichen Familienzulagen in ihrem\\nKanton höher sind als im Kanton, in dem die Familienzulagen vorrangig\\nausgerichtet werden. Für Nichterwerbstätige besteht kein Anspruch auf\\nDifferenzzahlung.\\n7 Beispiel 1\\nDie Eltern sind verheiratet und beide als Arbeitnehmende tätig. Die Mut-\\nter arbeitet im Kanton, in welchem die Familie wohnt, der Vater in einem\\nanderen. Beide haben Anspruch auf Zulagen. Die Rangordnung für den\\nBezug ist folgende: 1. Mutter, 2. Vater. Die Mutter bezieht die Zulagen, der\\nVater eine allfällige Differenzzahlung.\\n8 Beispiel 2\\nMutter und Vater sind geschieden und haben die gemeinsame elterliche\\nSorge für das gemeinsame Kind. Beide Elternteile sind wieder verheira-\\ntet. Das Kind wohnt im Haushalt seiner Mutter und seines Stiefvaters.\\nBeide Elternteile und beide Stiefelternteile sind als Arbeitnehmende tätig.\\nAnspruch auf Familienzulagen haben die Mutter, der Vater und\\nder Stiefvater. Die Stiefmutter hat keinen Anspruch, weil sie\\nnicht mit dem Kind zusammenlebt. Die Rangordnung für den\\nBezug ist folgende: 1. Mutter, 2. Vater, 3. Stiefvater. Die Mutter bezieht die\\nFamilienzulagen, der Vater erhält eine allfällige Differenzzahlung.\\n9 Beispiel 3\\nMutter und Vater sind geschieden. Die Mutter hat die alleinige elterliche\\nSorge für das gemeinsame Kind und ist verheiratet. Der Vater ist nicht\\nverheiratet. Das Kind wohnt im Haushalt seiner Mutter und seines Stief-\\nvaters. Die Mutter ist nicht erwerbstätig. Der Vater und der Stiefvater sind\\nals Arbeitnehmende tätig. Grundsätzlich Anspruch auf Familienzulagen\\nhaben der Vater und der Stiefvater. Die Rangordnung für den Bezug ist\\nfolgende: 1. Stiefvater, 2. Vater. Der Stiefvater bezieht die Familienzulagen,\\nder Vater erhält eine allfällige Differenzzahlung. Haben Mutter und Vater\\ndie gemeinsame elterliche Sorge, so hat im beschriebenen Fall der Vater\\nden Vorrang vor dem Stiefvater.\\n6', metadata={'source': '/tmp/tmp3zf8756b', 'file_path': '/tmp/tmp3zf8756b', 'page': 6, 'total_pages': 12, 'CreationDate': \"D:20230217104431+01'00'\", 'Creator': 'Adobe InDesign 17.0 (Windows)', 'ModDate': \"D:20230217104432+01'00'\", 'Producer': 'Adobe PDF Library 16.0.3', 'Trapped': 'False'})]}"
      ]
     },
     "execution_count": 3,
     "metadata": {},
     "output_type": "execute_result"
    }
   ],
   "source": [
    "from ai import chat\n",
    "result = chat(query, store)\n",
    "result"
   ]
  },
  {
   "cell_type": "code",
   "execution_count": 4,
   "metadata": {},
   "outputs": [
    {
     "data": {
      "text/plain": [
       "' Die Familienzulagen wie auch die Differenzzahlungen müssen Sie zusätzlich zu den Unterhaltsbeiträgen an die Person, die für das Kind sorgt, weiterleiten. Werden die Familienzulagen nicht für die Bedürfnisse des Kindes verwendet, so können sie direkt an das mündige Kind oder die sorgeberechtigte Person ausgerichtet werden (sog. Drittauszahlung).'"
      ]
     },
     "execution_count": 4,
     "metadata": {},
     "output_type": "execute_result"
    }
   ],
   "source": [
    "result['answer']"
   ]
  },
  {
   "cell_type": "code",
   "execution_count": 5,
   "metadata": {},
   "outputs": [
    {
     "name": "stdout",
     "output_type": "stream",
     "text": [
      "{'source': '/tmp/tmp3zf8756b', 'file_path': '/tmp/tmp3zf8756b', 'page': 7, 'total_pages': 12, 'CreationDate': \"D:20230217104431+01'00'\", 'Creator': 'Adobe InDesign 17.0 (Windows)', 'ModDate': \"D:20230217104432+01'00'\", 'Producer': 'Adobe PDF Library 16.0.3', 'Trapped': 'False'}\n",
      "{'source': '/tmp/tmp3zf8756b', 'file_path': '/tmp/tmp3zf8756b', 'page': 11, 'total_pages': 12, 'CreationDate': \"D:20230217104431+01'00'\", 'Creator': 'Adobe InDesign 17.0 (Windows)', 'ModDate': \"D:20230217104432+01'00'\", 'Producer': 'Adobe PDF Library 16.0.3', 'Trapped': 'False'}\n"
     ]
    }
   ],
   "source": [
    "print(result['source_documents'][0].metadata)\n",
    "print(result['source_documents'][2].metadata)"
   ]
  }
 ],
 "metadata": {
  "kernelspec": {
   "display_name": "Python 3",
   "language": "python",
   "name": "python3"
  },
  "language_info": {
   "codemirror_mode": {
    "name": "ipython",
    "version": 3
   },
   "file_extension": ".py",
   "mimetype": "text/x-python",
   "name": "python",
   "nbconvert_exporter": "python",
   "pygments_lexer": "ipython3",
   "version": "3.10.4"
  },
  "orig_nbformat": 4
 },
 "nbformat": 4,
 "nbformat_minor": 2
}
