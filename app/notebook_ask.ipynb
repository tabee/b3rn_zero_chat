{
 "cells": [
  {
   "attachments": {},
   "cell_type": "markdown",
   "metadata": {},
   "source": [
    "# Demo b3rn_zero_chat"
   ]
  },
  {
   "cell_type": "code",
   "execution_count": null,
   "metadata": {},
   "outputs": [],
   "source": [
    "from tools import vectorstore\n",
    "store = vectorstore.load_vectorstore()\n",
    "retriever = store.as_retriever()\n",
    "embeddings = vectorstore.get_embeddings()"
   ]
  },
  {
   "cell_type": "code",
   "execution_count": null,
   "metadata": {},
   "outputs": [],
   "source": [
    "query = \"\"\"\n",
    "Ich bin geschieden und habe zwei Kinder. Hat mein Ex-Frau Anspruch auf Familienzulagen? \n",
    "meine Ex-Frau ist arbeitslos und die Kinder leben bei ihr\"\"\""
   ]
  },
  {
   "cell_type": "code",
   "execution_count": null,
   "metadata": {},
   "outputs": [],
   "source": [
    "k=2\n",
    "store.similarity_search(query, k=k)"
   ]
  },
  {
   "cell_type": "code",
   "execution_count": null,
   "metadata": {},
   "outputs": [],
   "source": [
    "store.similarity_search_with_score(query, k=k)"
   ]
  },
  {
   "cell_type": "code",
   "execution_count": null,
   "metadata": {},
   "outputs": [],
   "source": [
    "store.similarity_search_with_relevance_scores(query, k=k)"
   ]
  },
  {
   "cell_type": "code",
   "execution_count": null,
   "metadata": {},
   "outputs": [],
   "source": [
    "from ai import chainbroker\n",
    "result = chainbroker.contextual_compression_document_transformer(\n",
    "    query=query, \n",
    "    embeddings=embeddings, \n",
    "    retriever=retriever,\n",
    "    chunk_size=1000,\n",
    ")\n",
    "result"
   ]
  },
  {
   "cell_type": "code",
   "execution_count": null,
   "metadata": {},
   "outputs": [],
   "source": [
    "from ai import chainbroker\n",
    "chainbroker.ask_agent(\n",
    "    query=query, \n",
    "    model=\"gpt-3.5-turbo\",\n",
    "    vectorstore=store, \n",
    "    verbose=False\n",
    "    )"
   ]
  },
  {
   "cell_type": "code",
   "execution_count": null,
   "metadata": {},
   "outputs": [],
   "source": [
    "chainbroker.conversational_retrieval_chain(\n",
    "    query=query, \n",
    "    vectorstore=store\n",
    "    )"
   ]
  }
 ],
 "metadata": {
  "kernelspec": {
   "display_name": "Python 3",
   "language": "python",
   "name": "python3"
  },
  "language_info": {
   "codemirror_mode": {
    "name": "ipython",
    "version": 3
   },
   "file_extension": ".py",
   "mimetype": "text/x-python",
   "name": "python",
   "nbconvert_exporter": "python",
   "pygments_lexer": "ipython3",
   "version": "3.10.4"
  },
  "orig_nbformat": 4
 },
 "nbformat": 4,
 "nbformat_minor": 2
}
